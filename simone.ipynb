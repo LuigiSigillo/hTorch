{
 "metadata": {
  "language_info": {
   "codemirror_mode": {
    "name": "ipython",
    "version": 3
   },
   "file_extension": ".py",
   "mimetype": "text/x-python",
   "name": "python",
   "nbconvert_exporter": "python",
   "pygments_lexer": "ipython3",
   "version": "3.7.6-final"
  },
  "orig_nbformat": 2,
  "kernelspec": {
   "name": "python3",
   "display_name": "Python 3",
   "language": "python"
  }
 },
 "nbformat": 4,
 "nbformat_minor": 2,
 "cells": [
  {
   "source": [
    "Comparison between Parcollet QNN (P-QNN) and this library (QNN), explicitly writing out the operation of a Linear layer with 2 inputs and 2 outputs in both libraries."
   ],
   "cell_type": "markdown",
   "metadata": {}
  },
  {
   "cell_type": "code",
   "execution_count": 15,
   "metadata": {},
   "outputs": [],
   "source": [
    "# Main PyTorch imports\n",
    "import torch\n",
    "import torch.nn as nn\n",
    "import torch.nn.functional as F"
   ]
  },
  {
   "cell_type": "code",
   "execution_count": 16,
   "metadata": {},
   "outputs": [],
   "source": [
    "# Import P-QNN in path\n",
    "import sys\n",
    "sys.path.append(\"../Pytorch-Quaternion-Neural-Networks/core_qnn\")"
   ]
  },
  {
   "cell_type": "code",
   "execution_count": 17,
   "metadata": {},
   "outputs": [],
   "source": [
    "# P-QNN import (this is the function used in the forward pass of QuaternionLinearAutograd)\n",
    "from quaternion_ops import quaternion_linear"
   ]
  },
  {
   "cell_type": "code",
   "execution_count": 18,
   "metadata": {},
   "outputs": [],
   "source": [
    "# QNN imports (we only use the basic class here)\n",
    "from quaternion import QuaternionTensor"
   ]
  },
  {
   "cell_type": "code",
   "execution_count": 21,
   "metadata": {},
   "outputs": [],
   "source": [
    "def init_values():\n",
    "    # \"Input\": 0.1 - 0.2i + 0.3j - 0.4k, -0.5 + 0.6i - 0.7j + 0.8k\n",
    "    x = torch.FloatTensor([[0.1, -0.2, 0.3, -0.4], [-0.5, 0.6, -0.7, 0.8]])\n",
    "\n",
    "    # \"Weight\": 1.0 + 0.9i + 0.8j + 0.7k (and the opposite)\n",
    "    r = torch.FloatTensor([[1.0, -1.0]]).requires_grad_(True)\n",
    "    i = torch.FloatTensor([[0.9, -0.9]]).requires_grad_(True)\n",
    "    j = torch.FloatTensor([[0.8, -0.8]]).requires_grad_(True)\n",
    "    k = torch.FloatTensor([[0.7, -0.7]]).requires_grad_(True)\n",
    "\n",
    "    return x, (r, i, j, k)"
   ]
  },
  {
   "cell_type": "code",
   "execution_count": 22,
   "metadata": {},
   "outputs": [],
   "source": [
    "# Multiplication in P-QNN\n",
    "x, (r, i, j, k) = init_values()\n",
    "out_pqnn = quaternion_linear(x, r, i, j, k, bias=None)"
   ]
  },
  {
   "cell_type": "code",
   "execution_count": 23,
   "metadata": {},
   "outputs": [],
   "source": [
    "# Gradient in P-QNN\n",
    "(g_r_pqnn, g_i_pqnn, g_j_pqnn, g_k_pqnn) = torch.autograd.grad(out_pqnn.sum(), [r, i, j, k])"
   ]
  },
  {
   "cell_type": "code",
   "execution_count": 24,
   "metadata": {},
   "outputs": [],
   "source": [
    "# Multiplication in QNN\n",
    "x, (r, i, j, k) = init_values()\n",
    "w = QuaternionTensor(torch.cat([r, i, j, k], dim=1))\n",
    "out_qnn = F.linear(x, w, None)"
   ]
  },
  {
   "cell_type": "code",
   "execution_count": 25,
   "metadata": {},
   "outputs": [],
   "source": [
    "(g_r_qnn, g_i_qnn, g_j_qnn, g_k_qnn) = torch.autograd.grad(out_qnn.sum(), [r, i, j, k])"
   ]
  },
  {
   "cell_type": "code",
   "execution_count": 26,
   "metadata": {},
   "outputs": [
    {
     "output_type": "stream",
     "name": "stdout",
     "text": [
      "tensor([[ 0.3200, -0.3200, -0.6400,  0.6400,  0.6000, -0.6000,  0.1000, -0.1000],\n        [-1.0400,  1.0400,  1.2800, -1.2800, -1.4000,  1.4000, -0.6600,  0.6600]],\n       grad_fn=<MmBackward>)\ntensor([[ 0.3200, -0.3200, -0.6400,  0.6400,  0.6000, -0.6000,  0.1000, -0.1000],\n        [-1.0400,  1.0400,  1.2800, -1.2800, -1.4000,  1.4000, -0.6600,  0.6600]],\n       grad_fn=<MmBackward>)\n"
     ]
    }
   ],
   "source": [
    "print(out_pqnn)\n",
    "print(out_qnn)"
   ]
  },
  {
   "cell_type": "code",
   "execution_count": 27,
   "metadata": {},
   "outputs": [
    {
     "output_type": "stream",
     "name": "stdout",
     "text": [
      "tensor([[5.9605e-08, 5.9605e-08]])\ntensor([[5.9605e-08, 5.9605e-08]])\n"
     ]
    }
   ],
   "source": [
    "print(g_r_pqnn)\n",
    "print(g_r_qnn)"
   ]
  },
  {
   "cell_type": "code",
   "execution_count": 28,
   "metadata": {},
   "outputs": [
    {
     "output_type": "stream",
     "name": "stdout",
     "text": [
      "tensor([[-1.6000, -1.6000]])\ntensor([[-1.6000, -1.6000]])\n"
     ]
    }
   ],
   "source": [
    "print(g_i_pqnn)\n",
    "print(g_i_qnn)"
   ]
  },
  {
   "cell_type": "code",
   "execution_count": 29,
   "metadata": {},
   "outputs": [
    {
     "output_type": "stream",
     "name": "stdout",
     "text": [
      "tensor([[-8.9407e-08, -8.9407e-08]])\ntensor([[-8.9407e-08, -8.9407e-08]])\n"
     ]
    }
   ],
   "source": [
    "print(g_j_pqnn)\n",
    "print(g_j_qnn)"
   ]
  },
  {
   "cell_type": "code",
   "execution_count": 30,
   "metadata": {},
   "outputs": [
    {
     "output_type": "stream",
     "name": "stdout",
     "text": [
      "tensor([[0., 0.]])\ntensor([[0., 0.]])\n"
     ]
    }
   ],
   "source": [
    "print(g_k_pqnn)\n",
    "print(g_k_qnn)"
   ]
  },
  {
   "cell_type": "code",
   "execution_count": null,
   "metadata": {},
   "outputs": [],
   "source": []
  }
 ]
}