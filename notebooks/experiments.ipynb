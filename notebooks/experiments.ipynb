{
  "nbformat": 4,
  "nbformat_minor": 0,
  "metadata": {
    "colab": {
      "name": "QPSP.ipynb",
      "provenance": [],
      "collapsed_sections": []
    },
    "kernelspec": {
      "name": "python3",
      "display_name": "Python 3"
    },
    "language_info": {
      "name": "python"
    },
    "accelerator": "GPU"
  },
  "cells": [
    {
      "cell_type": "markdown",
      "metadata": {
        "id": "n_K2ZyB6x8-8"
      },
      "source": [
        "# Setup\n"
      ]
    },
    {
      "cell_type": "code",
      "metadata": {
        "id": "w6qsW0VZykSD"
      },
      "source": [
        "import sys\n",
        "from google.colab import drive, files"
      ],
      "execution_count": 1,
      "outputs": []
    },
    {
      "cell_type": "code",
      "metadata": {
        "id": "XIkP6u05_zwh"
      },
      "source": [
        "%%bash \n",
        "pip install git+https://github.com/lucasb-eyer/pydensecrf.git\n",
        "pip install --upgrade setuptools\n",
        "pip install kaggle\n",
        "pip install gdown\n",
        "pip install pytorch-lightning"
      ],
      "execution_count": null,
      "outputs": []
    },
    {
      "cell_type": "code",
      "metadata": {
        "id": "tgy-P8-wuZQN"
      },
      "source": [
        "# upload kaggle API key\n",
        "files.upload()"
      ],
      "execution_count": null,
      "outputs": []
    },
    {
      "cell_type": "code",
      "metadata": {
        "id": "tyfqsoYtueJb"
      },
      "source": [
        "# download DSTL data\n",
        "%%bash\n",
        "mkdir ~/.kaggle\n",
        "cp kaggle.json ~/.kaggle/\n",
        "chmod 600 ~/.kaggle/kaggle.json\n",
        "kaggle competitions download -c 'dstl-satellite-imagery-feature-detection' -p ../../ -f sixteen_band.zip\n",
        "kaggle competitions download -c 'dstl-satellite-imagery-feature-detection' -p ../../ -f train_wkt_v4.csv.zip\n",
        "kaggle competitions download -c 'dstl-satellite-imagery-feature-detection' -p ../../ -f grid_sizes.csv.zip\n",
        "unzip -q ../../grid_sizes.csv.zip -d /content/\n",
        "unzip -q ../../train_wkt_v4.csv.zip -d /content/\n",
        "unzip -q ../../sixteen_band.zip -d /content/"
      ],
      "execution_count": null,
      "outputs": []
    },
    {
      "cell_type": "code",
      "metadata": {
        "id": "dNnF8LLQ6bl7"
      },
      "source": [
        "# hTorch library\n",
        "%%bash\n",
        "git clone https://github.com/giorgiozannini/hTorch.git # cloning my fork before merging with master\n",
        "cd hTorch\n",
        "python setup.py install\n",
        "cd .."
      ],
      "execution_count": null,
      "outputs": []
    },
    {
      "cell_type": "code",
      "metadata": {
        "id": "OcucZ5RJ6rp_"
      },
      "source": [
        "sys.path.append('hTorch/')"
      ],
      "execution_count": 4,
      "outputs": []
    },
    {
      "cell_type": "markdown",
      "metadata": {
        "id": "cN9YZb2B62ge"
      },
      "source": [
        "# Hyperparameters\n",
        "\n"
      ]
    },
    {
      "cell_type": "code",
      "metadata": {
        "id": "RGm1wCyn60No"
      },
      "source": [
        "# hyperparameters settings\n",
        "!cat hTorch/qpsp/constants.py"
      ],
      "execution_count": null,
      "outputs": []
    },
    {
      "cell_type": "markdown",
      "metadata": {
        "id": "2h2EZNhrAE25"
      },
      "source": [
        "# Run"
      ]
    },
    {
      "cell_type": "code",
      "metadata": {
        "id": "vVw8O9JzHOIH"
      },
      "source": [
        "import pytorch_lightning as pl\n",
        "from qpsp.qpsp import PSPNet\n",
        "from qpsp.dstl_dataset import LitDSTL\n",
        "import torch"
      ],
      "execution_count": 208,
      "outputs": []
    },
    {
      "cell_type": "code",
      "metadata": {
        "id": "UWmKFWF6AEYk"
      },
      "source": [
        "device = torch.device(\"cuda:0\" if torch.cuda.is_available() else \"cpu\")\n",
        "\n",
        "model = PSPNet().to(device)\n",
        "dm = LitDSTL()\n",
        "trainer = pl.Trainer(gpus=1)"
      ],
      "execution_count": null,
      "outputs": []
    },
    {
      "cell_type": "code",
      "metadata": {
        "id": "RlhJ5VFBI35_"
      },
      "source": [
        "trainer.fit(model, dm)"
      ],
      "execution_count": null,
      "outputs": []
    }
  ]
}