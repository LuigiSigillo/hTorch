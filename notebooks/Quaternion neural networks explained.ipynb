{
 "cells": [
  {
   "cell_type": "markdown",
   "id": "stylish-vision",
   "metadata": {},
   "source": [
    "# Quaternion Neural networks\n",
    "\n",
    "## Introduction to quaternions"
   ]
  },
  {
   "cell_type": "code",
   "execution_count": 1,
   "id": "sized-police",
   "metadata": {},
   "outputs": [],
   "source": [
    "import torch\n",
    "from quaternion import QuaternionTensor"
   ]
  },
  {
   "cell_type": "markdown",
   "id": "meaningful-attack",
   "metadata": {},
   "source": [
    "Quaternions are hyper-complex numbers very similar to the well-known complex numbers but composed of 3 imaginary parts:\n",
    "\n",
    "\n",
    "\\begin{equation}\n",
    "q = a + bi + cj + dk\n",
    "\\end{equation}\n",
    "\n",
    "The bases are related by the following equation:\n",
    "\n",
    "\\begin{equation}\n",
    "i^2 = j^2 = k^2 = ijk = -1\n",
    "\\end{equation}\n",
    "\n",
    "What makes them a desirable choice for neural networks? their most important operation, the *Hamilton product*. In fact, the product of two quaternions does not commute and is expressed by the formula:\n",
    "\n",
    "\\begin{gather}\n",
    "q_1 \\otimes q_2 &=&(a_1a_2 - b_1b_2 - c_1c_2 - d_1d_2)  \\\\&+& (a_1b_2 + b_1a_2 + c_1d_2 - d_1c_2)i  \\\\&+& (a_1c_2 - b_1d_2 + c_1a_2 + d_1b_2)j  \\\\&+& (a_1d_2 + b_1c_2 - c_1b_2 + d_1a_2)k\n",
    "\\end{gather}\n"
   ]
  },
  {
   "cell_type": "markdown",
   "id": "sustainable-crystal",
   "metadata": {},
   "source": [
    "## Quaternions and neural networks"
   ]
  },
  {
   "cell_type": "markdown",
   "id": "virgin-carry",
   "metadata": {},
   "source": [
    "The Hamilton product defines a way to represent the product of two quaternion as a real-valued matrix multiplication. In fact the quaternion can be rewritten (not uniquely) as:\n",
    "\n",
    "\\begin{bmatrix}\n",
    "a & -b & -c & -d\\\\\n",
    "b & a & -d & c \\\\\n",
    "c & d & a & -b \\\\\n",
    "d & -c & b & a\n",
    "\\end{bmatrix}\n",
    " "
   ]
  },
  {
   "cell_type": "code",
   "execution_count": 20,
   "id": "respiratory-experience",
   "metadata": {},
   "outputs": [],
   "source": [
    "def assemble_weight(a, b, c, d):\n",
    "    \n",
    "    a = a.transpose(1,0)\n",
    "    b = b.transpose(1,0)\n",
    "    c = c.transpose(1,0)\n",
    "    d = d.transpose(1,0)\n",
    "\n",
    "    return torch.cat([torch.cat([a, -b, -c, -d], dim=1),\n",
    "                      torch.cat([b,  a, -d,  c], dim=1),\n",
    "                      torch.cat([c,  d,  a, -b], dim=1),\n",
    "                      torch.cat([d, -c,  b,  a], dim=1)], dim = 0)"
   ]
  },
  {
   "cell_type": "markdown",
   "id": "vital-basics",
   "metadata": {},
   "source": [
    "The `quaternion` module handles all the various quaternion operations so that the user can manage them as you would normally do for real tensors."
   ]
  },
  {
   "cell_type": "code",
   "execution_count": 21,
   "id": "simple-lodge",
   "metadata": {},
   "outputs": [],
   "source": [
    "chann_in = 4\n",
    "chann_out = 20\n",
    "val1 = 0.5\n",
    "val2 = 1\n",
    "val3 = 1.5\n",
    "val4 = 2\n",
    "\n",
    "r = torch.full((chann_out, chann_in//4), val1)\n",
    "i = torch.full_like(r, val2)\n",
    "j = torch.full_like(r, val3)\n",
    "k = torch.full_like(r, val4)\n",
    "\n",
    "quaternion_1 = assemble_weight(r, i, j, k)\n",
    "quaternion_2 = QuaternionTensor([r, i, j, k], real_tensor=True)"
   ]
  }
 ],
 "metadata": {
  "kernelspec": {
   "display_name": "Python 3",
   "language": "python",
   "name": "python3"
  },
  "language_info": {
   "codemirror_mode": {
    "name": "ipython",
    "version": 3
   },
   "file_extension": ".py",
   "mimetype": "text/x-python",
   "name": "python",
   "nbconvert_exporter": "python",
   "pygments_lexer": "ipython3",
   "version": "3.8.5"
  }
 },
 "nbformat": 4,
 "nbformat_minor": 5
}
