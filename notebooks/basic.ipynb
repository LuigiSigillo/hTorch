{
 "cells": [
  {
   "cell_type": "markdown",
   "metadata": {},
   "source": [
    "## Quaternion PyTorch - Basic mechanisms"
   ]
  },
  {
   "cell_type": "code",
   "execution_count": 1,
   "metadata": {},
   "outputs": [],
   "source": [
    "import torch\n",
    "import sys\n",
    "sys.path.append(\"..\")\n",
    "from qtorch import quaternion"
   ]
  },
  {
   "cell_type": "markdown",
   "metadata": {},
   "source": [
    "### 1 - Quaternion tensors"
   ]
  },
  {
   "cell_type": "markdown",
   "metadata": {},
   "source": [
    "A quaternion number is represented by:\n",
    "\n",
    "$$\n",
    "x = a + bi + cj + dk\n",
    "$$\n",
    "\n",
    "where $a$, $b$, $c$, and $d$ are real values, and $i$, $j$, $k$ are the imaginary parts. A `QuaternionTensor` extends the standard PyTorch `tensor` to handle quaternion values, by specifying the real and imaginary components during initialization:"
   ]
  },
  {
   "cell_type": "code",
   "execution_count": 2,
   "metadata": {},
   "outputs": [
    {
     "name": "stdout",
     "output_type": "stream",
     "text": [
      "tensor([0.0000, 0.3000, 0.4000, 0.5000])\n"
     ]
    }
   ],
   "source": [
    "# Simple scalar quaternion\n",
    "x = quaternion.QuaternionTensor([0.0, 0.3, 0.4, 0.5])\n",
    "print(x) # TODO: improve printing"
   ]
  },
  {
   "cell_type": "code",
   "execution_count": 3,
   "metadata": {},
   "outputs": [
    {
     "name": "stdout",
     "output_type": "stream",
     "text": [
      "tensor([[0.0340, 0.6425, 0.0317, 0.1571],\n",
      "        [0.7023, 0.0532, 0.7900, 0.1253]])\n"
     ]
    }
   ],
   "source": [
    "# Two-dimensional vector\n",
    "x = quaternion.QuaternionTensor(torch.rand(2, 4))\n",
    "print(x)"
   ]
  },
  {
   "cell_type": "markdown",
   "metadata": {},
   "source": [
    "All standard quaternion operations can be applied on the tensor (see `QuaternionTensor` for a full list):"
   ]
  },
  {
   "cell_type": "code",
   "execution_count": 4,
   "metadata": {},
   "outputs": [
    {
     "name": "stdout",
     "output_type": "stream",
     "text": [
      "tensor([[ 0.0340, -0.6425, -0.0317, -0.1571],\n",
      "        [ 0.7023, -0.0532, -0.7900, -0.1253]])\n"
     ]
    }
   ],
   "source": [
    "# Conjugation\n",
    "print(x.conj)"
   ]
  },
  {
   "cell_type": "code",
   "execution_count": 5,
   "metadata": {},
   "outputs": [
    {
     "name": "stdout",
     "output_type": "stream",
     "text": [
      "tensor([[0.6631],\n",
      "        [1.0657]])\n"
     ]
    }
   ],
   "source": [
    "# Element-wise norm\n",
    "print(x.norm)"
   ]
  },
  {
   "cell_type": "code",
   "execution_count": 6,
   "metadata": {},
   "outputs": [
    {
     "name": "stdout",
     "output_type": "stream",
     "text": [
      "tensor([[1.5195],\n",
      "        [0.8514]])\n"
     ]
    }
   ],
   "source": [
    "# Element-wise angle\n",
    "print(x.theta)"
   ]
  },
  {
   "cell_type": "code",
   "execution_count": 7,
   "metadata": {},
   "outputs": [
    {
     "name": "stdout",
     "output_type": "stream",
     "text": [
      "tensor([[-0.4374,  0.0437,  0.0022,  0.0107],\n",
      "        [-0.1495,  0.0747,  1.1096,  0.1760]])\n"
     ]
    }
   ],
   "source": [
    "# Quaternion multiplication (Hamilton product)\n",
    "print(x * x)"
   ]
  },
  {
   "cell_type": "code",
   "execution_count": 8,
   "metadata": {},
   "outputs": [
    {
     "name": "stdout",
     "output_type": "stream",
     "text": [
      "tensor([[0.4943, 0.0592, 0.5559, 0.0933],\n",
      "        [0.0592, 0.4157, 0.0624, 0.1076],\n",
      "        [0.5559, 0.0624, 0.6251, 0.1040],\n",
      "        [0.0933, 0.1076, 0.1040, 0.0404]])\n"
     ]
    }
   ],
   "source": [
    "# Quaternion matrix multiplication\n",
    "print(x.t() @ x)"
   ]
  },
  {
   "cell_type": "markdown",
   "metadata": {},
   "source": [
    "Importantly, quaternion tensors and real-valued tensors are interoperable (real-valued tensors being casted to quaternion tensors with 0 imaginary parts):"
   ]
  },
  {
   "cell_type": "code",
   "execution_count": 9,
   "metadata": {},
   "outputs": [
    {
     "name": "stdout",
     "output_type": "stream",
     "text": [
      "tensor([[0.0326, 0.6150, 0.0304, 0.1504],\n",
      "        [0.3891, 0.0295, 0.4377, 0.0694]])\n"
     ]
    }
   ],
   "source": [
    "# Quaternion scalar multiplication\n",
    "print(x * torch.rand(2))"
   ]
  },
  {
   "cell_type": "markdown",
   "metadata": {},
   "source": [
    "### 2 - Quaternion gradients"
   ]
  },
  {
   "cell_type": "markdown",
   "metadata": {},
   "source": [
    "Gradients can be computed with the PyTorch autograd mechanisms:"
   ]
  },
  {
   "cell_type": "code",
   "execution_count": 10,
   "metadata": {},
   "outputs": [],
   "source": [
    "x = torch.nn.Parameter(quaternion.QuaternionTensor(torch.rand(2, 4)))\n",
    "y = x.norm().sum()\n",
    "y.backward()"
   ]
  }
 ],
 "metadata": {
  "kernelspec": {
   "display_name": "Python 3",
   "language": "python",
   "name": "python3"
  },
  "language_info": {
   "codemirror_mode": {
    "name": "ipython",
    "version": 3
   },
   "file_extension": ".py",
   "mimetype": "text/x-python",
   "name": "python",
   "nbconvert_exporter": "python",
   "pygments_lexer": "ipython3",
   "version": "3.8.5"
  }
 },
 "nbformat": 4,
 "nbformat_minor": 2
}
