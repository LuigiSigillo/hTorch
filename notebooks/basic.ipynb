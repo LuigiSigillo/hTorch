{
 "cells": [
  {
   "cell_type": "markdown",
   "metadata": {},
   "source": [
    "## Quaternion PyTorch - Basic mechanisms"
   ]
  },
  {
   "cell_type": "code",
   "execution_count": 1,
   "metadata": {},
   "outputs": [],
   "source": [
    "import torch\n",
    "from htorch import quaternion"
   ]
  },
  {
   "cell_type": "markdown",
   "metadata": {},
   "source": [
    "### 1 - Quaternion tensors"
   ]
  },
  {
   "cell_type": "markdown",
   "metadata": {},
   "source": [
    "A quaternion number is represented by:\n",
    "\n",
    "$$\n",
    "x = a + bi + cj + dk\n",
    "$$\n",
    "\n",
    "where $a$, $b$, $c$, and $d$ are real values, and $i$, $j$, $k$ are the imaginary parts. A `QuaternionTensor` extends the standard PyTorch `tensor` to handle quaternion values, by specifying the real and imaginary components during initialization:"
   ]
  },
  {
   "cell_type": "code",
   "execution_count": 2,
   "metadata": {},
   "outputs": [
    {
     "data": {
      "text/plain": [
       "real part: tensor([0.])\n",
       "imaginary part (i): tensor([0.3000])\n",
       "imaginary part (j): tensor([0.4000])\n",
       "imaginary part (k): tensor([0.5000])"
      ]
     },
     "execution_count": 2,
     "metadata": {},
     "output_type": "execute_result"
    }
   ],
   "source": [
    "# Simple scalar quaternion\n",
    "x = quaternion.QuaternionTensor([0.0, 0.3, 0.4, 0.5])\n",
    "x"
   ]
  },
  {
   "cell_type": "code",
   "execution_count": 3,
   "metadata": {},
   "outputs": [
    {
     "name": "stdout",
     "output_type": "stream",
     "text": [
      "real part: tensor([[0.1914],\n",
      "        [0.8278]])\n",
      "imaginary part (i): tensor([[0.2804],\n",
      "        [0.5887]])\n",
      "imaginary part (j): tensor([[0.9123],\n",
      "        [0.6023]])\n",
      "imaginary part (k): tensor([[0.9083],\n",
      "        [0.7434]])\n"
     ]
    }
   ],
   "source": [
    "# Mini-batch of two scalar quaternions\n",
    "x = quaternion.QuaternionTensor(torch.rand(2, 4))\n",
    "print(x)"
   ]
  },
  {
   "cell_type": "code",
   "execution_count": 4,
   "metadata": {},
   "outputs": [
    {
     "name": "stdout",
     "output_type": "stream",
     "text": [
      "real part: tensor([0.1624, 0.1938, 0.4980, 0.8163])\n",
      "imaginary part (i): tensor([0.0568, 0.2769, 0.6222, 0.7837])\n",
      "imaginary part (j): tensor([0.7847, 0.3980, 0.9395, 0.1019])\n",
      "imaginary part (k): tensor([0.9743, 0.8304, 0.0602, 0.2409])\n"
     ]
    }
   ],
   "source": [
    "# A vector with 4 quaternions\n",
    "y = quaternion.QuaternionTensor(torch.rand(16))\n",
    "print(y)"
   ]
  },
  {
   "cell_type": "markdown",
   "metadata": {},
   "source": [
    "All standard quaternion operations can be applied on the tensor (see `QuaternionTensor` for a full list):"
   ]
  },
  {
   "cell_type": "code",
   "execution_count": 5,
   "metadata": {},
   "outputs": [
    {
     "name": "stdout",
     "output_type": "stream",
     "text": [
      "real part: tensor([[0.1914],\n",
      "        [0.8278]])\n",
      "imaginary part (i): tensor([[-0.2804],\n",
      "        [-0.5887]])\n",
      "imaginary part (j): tensor([[-0.9123],\n",
      "        [-0.6023]])\n",
      "imaginary part (k): tensor([[-0.9083],\n",
      "        [-0.7434]])\n"
     ]
    }
   ],
   "source": [
    "# Conjugation\n",
    "print(x.conj())"
   ]
  },
  {
   "cell_type": "code",
   "execution_count": 6,
   "metadata": {},
   "outputs": [
    {
     "name": "stdout",
     "output_type": "stream",
     "text": [
      "tensor([[1.3314],\n",
      "        [1.3955]])\n"
     ]
    }
   ],
   "source": [
    "# Element-wise norm\n",
    "print(x.norm())"
   ]
  },
  {
   "cell_type": "code",
   "execution_count": 7,
   "metadata": {},
   "outputs": [
    {
     "name": "stdout",
     "output_type": "stream",
     "text": [
      "tensor([[1.4265],\n",
      "        [0.9357]])\n"
     ]
    }
   ],
   "source": [
    "# Element-wise angle\n",
    "print(x.theta())"
   ]
  },
  {
   "cell_type": "code",
   "execution_count": 8,
   "metadata": {},
   "outputs": [
    {
     "name": "stdout",
     "output_type": "stream",
     "text": [
      "real part: tensor([[-1.6992],\n",
      "        [-0.5767]])\n",
      "imaginary part (i): tensor([[0.1074],\n",
      "        [0.9747]])\n",
      "imaginary part (j): tensor([[0.3493],\n",
      "        [0.9972]])\n",
      "imaginary part (k): tensor([[0.3478],\n",
      "        [1.2308]])\n"
     ]
    }
   ],
   "source": [
    "# Quaternion multiplication (Hamilton product)\n",
    "print(x * x)"
   ]
  },
  {
   "cell_type": "code",
   "execution_count": 9,
   "metadata": {},
   "outputs": [
    {
     "name": "stdout",
     "output_type": "stream",
     "text": [
      "tensor([[1.7725, 1.5482],\n",
      "        [1.5482, 1.9473]])\n"
     ]
    }
   ],
   "source": [
    "# Quaternion matrix multiplication\n",
    "print(x.t() @ x)"
   ]
  },
  {
   "cell_type": "markdown",
   "metadata": {},
   "source": [
    "Importantly, quaternion tensors and real-valued tensors are interoperable (real-valued tensors being casted to quaternion tensors with 0 imaginary parts):"
   ]
  },
  {
   "cell_type": "code",
   "execution_count": 10,
   "metadata": {},
   "outputs": [
    {
     "name": "stdout",
     "output_type": "stream",
     "text": [
      "real part: tensor([[0.1737],\n",
      "        [0.4250]])\n",
      "imaginary part (i): tensor([[0.2545],\n",
      "        [0.3023]])\n",
      "imaginary part (j): tensor([[0.8280],\n",
      "        [0.3092]])\n",
      "imaginary part (k): tensor([[0.8244],\n",
      "        [0.3817]])\n"
     ]
    }
   ],
   "source": [
    "# Quaternion scalar multiplication\n",
    "print(x * torch.rand(2))"
   ]
  },
  {
   "cell_type": "markdown",
   "metadata": {},
   "source": [
    "### 2 - Quaternion gradients"
   ]
  },
  {
   "cell_type": "markdown",
   "metadata": {},
   "source": [
    "Gradients can be computed with the PyTorch autograd mechanisms:"
   ]
  },
  {
   "cell_type": "code",
   "execution_count": 11,
   "metadata": {},
   "outputs": [],
   "source": [
    "x = quaternion.QuaternionTensor(torch.rand(2, 4))\n",
    "x.requires_grad = True\n",
    "y = x.norm().sum()\n",
    "y.backward()"
   ]
  },
  {
   "cell_type": "markdown",
   "metadata": {},
   "source": [
    "### 3 - Quaternion-valued layers"
   ]
  },
  {
   "cell_type": "markdown",
   "metadata": {},
   "source": [
    "We also provide a number of quaternion-valued layers to implement quaternion neural networks:"
   ]
  },
  {
   "cell_type": "code",
   "execution_count": 12,
   "metadata": {},
   "outputs": [],
   "source": [
    "from torch import nn\n",
    "from htorch.layers import QLinear"
   ]
  },
  {
   "cell_type": "code",
   "execution_count": 13,
   "metadata": {},
   "outputs": [],
   "source": [
    "model = nn.Sequential(\n",
    "    QLinear(4, 20),\n",
    "    nn.ReLU(),\n",
    "    QLinear(20, 1)\n",
    ")"
   ]
  },
  {
   "cell_type": "code",
   "execution_count": 14,
   "metadata": {},
   "outputs": [
    {
     "name": "stdout",
     "output_type": "stream",
     "text": [
      "real part: tensor([[ 0.1307],\n",
      "        [-0.3902]], grad_fn=<SliceBackward>)\n",
      "imaginary part (i): tensor([[ 0.1433],\n",
      "        [-0.0184]], grad_fn=<SliceBackward>)\n",
      "imaginary part (j): tensor([[0.1187],\n",
      "        [0.0762]], grad_fn=<SliceBackward>)\n",
      "imaginary part (k): tensor([[-0.2229],\n",
      "        [-0.2515]], grad_fn=<SliceBackward>)\n"
     ]
    }
   ],
   "source": [
    "x = quaternion.QuaternionTensor(torch.rand(2, 16))\n",
    "print(model(x))"
   ]
  },
  {
   "cell_type": "code",
   "execution_count": 15,
   "metadata": {},
   "outputs": [
    {
     "data": {
      "text/plain": [
       "torch.Size([2, 4])"
      ]
     },
     "execution_count": 15,
     "metadata": {},
     "output_type": "execute_result"
    }
   ],
   "source": [
    "model(x).shape"
   ]
  },
  {
   "cell_type": "markdown",
   "metadata": {},
   "source": [
    "We also provide layers to easily integrate quaternion-valued and real-valued blocks:"
   ]
  },
  {
   "cell_type": "code",
   "execution_count": 17,
   "metadata": {},
   "outputs": [],
   "source": [
    "from htorch.layers import QuaternionToReal\n",
    "from torch.nn import Softmax"
   ]
  },
  {
   "cell_type": "code",
   "execution_count": 22,
   "metadata": {},
   "outputs": [],
   "source": [
    "model = nn.Sequential(\n",
    "    QLinear(4, 10),\n",
    "    QuaternionToReal(10), # Take the absolute value\n",
    "    Softmax(1)\n",
    ")"
   ]
  },
  {
   "cell_type": "code",
   "execution_count": 23,
   "metadata": {},
   "outputs": [
    {
     "data": {
      "text/plain": [
       "torch.Size([2, 10])"
      ]
     },
     "execution_count": 23,
     "metadata": {},
     "output_type": "execute_result"
    }
   ],
   "source": [
    "model(x).shape"
   ]
  }
 ],
 "metadata": {
  "kernelspec": {
   "display_name": "Python 3",
   "language": "python",
   "name": "python3"
  },
  "language_info": {
   "codemirror_mode": {
    "name": "ipython",
    "version": 3
   },
   "file_extension": ".py",
   "mimetype": "text/x-python",
   "name": "python",
   "nbconvert_exporter": "python",
   "pygments_lexer": "ipython3",
   "version": "3.8.5"
  }
 },
 "nbformat": 4,
 "nbformat_minor": 2
}
