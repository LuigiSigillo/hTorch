{
  "nbformat": 4,
  "nbformat_minor": 0,
  "metadata": {
    "colab": {
      "name": "QPSP.ipynb",
      "provenance": [],
      "collapsed_sections": []
    },
    "kernelspec": {
      "name": "python3",
      "display_name": "Python 3"
    },
    "language_info": {
      "name": "python"
    },
    "accelerator": "GPU",
    "widgets": {
      "application/vnd.jupyter.widget-state+json": {
        "96eaba66439a4aa985a4dc1e20764459": {
          "model_module": "@jupyter-widgets/controls",
          "model_name": "HBoxModel",
          "state": {
            "_view_name": "HBoxView",
            "_dom_classes": [],
            "_model_name": "HBoxModel",
            "_view_module": "@jupyter-widgets/controls",
            "_model_module_version": "1.5.0",
            "_view_count": null,
            "_view_module_version": "1.5.0",
            "box_style": "",
            "layout": "IPY_MODEL_1f10d399719d4a6cac6a1f2312a0389e",
            "_model_module": "@jupyter-widgets/controls",
            "children": [
              "IPY_MODEL_30255bdef2b34d19b64c8c2a7f6da6e8",
              "IPY_MODEL_9c4b0bcc3c1442d3be02e351cc3c6ad8"
            ]
          }
        },
        "1f10d399719d4a6cac6a1f2312a0389e": {
          "model_module": "@jupyter-widgets/base",
          "model_name": "LayoutModel",
          "state": {
            "_view_name": "LayoutView",
            "grid_template_rows": null,
            "right": null,
            "justify_content": null,
            "_view_module": "@jupyter-widgets/base",
            "overflow": null,
            "_model_module_version": "1.2.0",
            "_view_count": null,
            "flex_flow": "row wrap",
            "width": "100%",
            "min_width": null,
            "border": null,
            "align_items": null,
            "bottom": null,
            "_model_module": "@jupyter-widgets/base",
            "top": null,
            "grid_column": null,
            "overflow_y": null,
            "overflow_x": null,
            "grid_auto_flow": null,
            "grid_area": null,
            "grid_template_columns": null,
            "flex": null,
            "_model_name": "LayoutModel",
            "justify_items": null,
            "grid_row": null,
            "max_height": null,
            "align_content": null,
            "visibility": null,
            "align_self": null,
            "height": null,
            "min_height": null,
            "padding": null,
            "grid_auto_rows": null,
            "grid_gap": null,
            "max_width": null,
            "order": null,
            "_view_module_version": "1.2.0",
            "grid_template_areas": null,
            "object_position": null,
            "object_fit": null,
            "grid_auto_columns": null,
            "margin": null,
            "display": "inline-flex",
            "left": null
          }
        },
        "30255bdef2b34d19b64c8c2a7f6da6e8": {
          "model_module": "@jupyter-widgets/controls",
          "model_name": "FloatProgressModel",
          "state": {
            "_view_name": "ProgressView",
            "style": "IPY_MODEL_3d83673d1fe7451f9ee9a46d437b9de7",
            "_dom_classes": [],
            "description": "Validation sanity check:   0%",
            "_model_name": "FloatProgressModel",
            "bar_style": "danger",
            "max": 2,
            "_view_module": "@jupyter-widgets/controls",
            "_model_module_version": "1.5.0",
            "value": 0,
            "_view_count": null,
            "_view_module_version": "1.5.0",
            "orientation": "horizontal",
            "min": 0,
            "description_tooltip": null,
            "_model_module": "@jupyter-widgets/controls",
            "layout": "IPY_MODEL_840a2eb40d104c8a9713a5e42441b766"
          }
        },
        "9c4b0bcc3c1442d3be02e351cc3c6ad8": {
          "model_module": "@jupyter-widgets/controls",
          "model_name": "HTMLModel",
          "state": {
            "_view_name": "HTMLView",
            "style": "IPY_MODEL_096dbdbcb9234213992a9dddc6062b35",
            "_dom_classes": [],
            "description": "",
            "_model_name": "HTMLModel",
            "placeholder": "​",
            "_view_module": "@jupyter-widgets/controls",
            "_model_module_version": "1.5.0",
            "value": " 0/2 [00:02&lt;?, ?it/s]",
            "_view_count": null,
            "_view_module_version": "1.5.0",
            "description_tooltip": null,
            "_model_module": "@jupyter-widgets/controls",
            "layout": "IPY_MODEL_89cd0851ee9943449e135acc47563b45"
          }
        },
        "3d83673d1fe7451f9ee9a46d437b9de7": {
          "model_module": "@jupyter-widgets/controls",
          "model_name": "ProgressStyleModel",
          "state": {
            "_view_name": "StyleView",
            "_model_name": "ProgressStyleModel",
            "description_width": "initial",
            "_view_module": "@jupyter-widgets/base",
            "_model_module_version": "1.5.0",
            "_view_count": null,
            "_view_module_version": "1.2.0",
            "bar_color": null,
            "_model_module": "@jupyter-widgets/controls"
          }
        },
        "840a2eb40d104c8a9713a5e42441b766": {
          "model_module": "@jupyter-widgets/base",
          "model_name": "LayoutModel",
          "state": {
            "_view_name": "LayoutView",
            "grid_template_rows": null,
            "right": null,
            "justify_content": null,
            "_view_module": "@jupyter-widgets/base",
            "overflow": null,
            "_model_module_version": "1.2.0",
            "_view_count": null,
            "flex_flow": null,
            "width": null,
            "min_width": null,
            "border": null,
            "align_items": null,
            "bottom": null,
            "_model_module": "@jupyter-widgets/base",
            "top": null,
            "grid_column": null,
            "overflow_y": null,
            "overflow_x": null,
            "grid_auto_flow": null,
            "grid_area": null,
            "grid_template_columns": null,
            "flex": "2",
            "_model_name": "LayoutModel",
            "justify_items": null,
            "grid_row": null,
            "max_height": null,
            "align_content": null,
            "visibility": null,
            "align_self": null,
            "height": null,
            "min_height": null,
            "padding": null,
            "grid_auto_rows": null,
            "grid_gap": null,
            "max_width": null,
            "order": null,
            "_view_module_version": "1.2.0",
            "grid_template_areas": null,
            "object_position": null,
            "object_fit": null,
            "grid_auto_columns": null,
            "margin": null,
            "display": null,
            "left": null
          }
        },
        "096dbdbcb9234213992a9dddc6062b35": {
          "model_module": "@jupyter-widgets/controls",
          "model_name": "DescriptionStyleModel",
          "state": {
            "_view_name": "StyleView",
            "_model_name": "DescriptionStyleModel",
            "description_width": "",
            "_view_module": "@jupyter-widgets/base",
            "_model_module_version": "1.5.0",
            "_view_count": null,
            "_view_module_version": "1.2.0",
            "_model_module": "@jupyter-widgets/controls"
          }
        },
        "89cd0851ee9943449e135acc47563b45": {
          "model_module": "@jupyter-widgets/base",
          "model_name": "LayoutModel",
          "state": {
            "_view_name": "LayoutView",
            "grid_template_rows": null,
            "right": null,
            "justify_content": null,
            "_view_module": "@jupyter-widgets/base",
            "overflow": null,
            "_model_module_version": "1.2.0",
            "_view_count": null,
            "flex_flow": null,
            "width": null,
            "min_width": null,
            "border": null,
            "align_items": null,
            "bottom": null,
            "_model_module": "@jupyter-widgets/base",
            "top": null,
            "grid_column": null,
            "overflow_y": null,
            "overflow_x": null,
            "grid_auto_flow": null,
            "grid_area": null,
            "grid_template_columns": null,
            "flex": null,
            "_model_name": "LayoutModel",
            "justify_items": null,
            "grid_row": null,
            "max_height": null,
            "align_content": null,
            "visibility": null,
            "align_self": null,
            "height": null,
            "min_height": null,
            "padding": null,
            "grid_auto_rows": null,
            "grid_gap": null,
            "max_width": null,
            "order": null,
            "_view_module_version": "1.2.0",
            "grid_template_areas": null,
            "object_position": null,
            "object_fit": null,
            "grid_auto_columns": null,
            "margin": null,
            "display": null,
            "left": null
          }
        },
        "9d89891b972c4d44afde3ef04b165505": {
          "model_module": "@jupyter-widgets/controls",
          "model_name": "HBoxModel",
          "state": {
            "_view_name": "HBoxView",
            "_dom_classes": [],
            "_model_name": "HBoxModel",
            "_view_module": "@jupyter-widgets/controls",
            "_model_module_version": "1.5.0",
            "_view_count": null,
            "_view_module_version": "1.5.0",
            "box_style": "",
            "layout": "IPY_MODEL_c9db62d91a064dd78cdae0cf42f59341",
            "_model_module": "@jupyter-widgets/controls",
            "children": [
              "IPY_MODEL_e279eedae4a644b7b45c4e4c141de033",
              "IPY_MODEL_2c2c77477c6448ec9ebbff367bd49724"
            ]
          }
        },
        "c9db62d91a064dd78cdae0cf42f59341": {
          "model_module": "@jupyter-widgets/base",
          "model_name": "LayoutModel",
          "state": {
            "_view_name": "LayoutView",
            "grid_template_rows": null,
            "right": null,
            "justify_content": null,
            "_view_module": "@jupyter-widgets/base",
            "overflow": null,
            "_model_module_version": "1.2.0",
            "_view_count": null,
            "flex_flow": "row wrap",
            "width": "100%",
            "min_width": null,
            "border": null,
            "align_items": null,
            "bottom": null,
            "_model_module": "@jupyter-widgets/base",
            "top": null,
            "grid_column": null,
            "overflow_y": null,
            "overflow_x": null,
            "grid_auto_flow": null,
            "grid_area": null,
            "grid_template_columns": null,
            "flex": null,
            "_model_name": "LayoutModel",
            "justify_items": null,
            "grid_row": null,
            "max_height": null,
            "align_content": null,
            "visibility": null,
            "align_self": null,
            "height": null,
            "min_height": null,
            "padding": null,
            "grid_auto_rows": null,
            "grid_gap": null,
            "max_width": null,
            "order": null,
            "_view_module_version": "1.2.0",
            "grid_template_areas": null,
            "object_position": null,
            "object_fit": null,
            "grid_auto_columns": null,
            "margin": null,
            "display": "inline-flex",
            "left": null
          }
        },
        "e279eedae4a644b7b45c4e4c141de033": {
          "model_module": "@jupyter-widgets/controls",
          "model_name": "FloatProgressModel",
          "state": {
            "_view_name": "ProgressView",
            "style": "IPY_MODEL_4871380bfae543b38f16f9a26560a1e2",
            "_dom_classes": [],
            "description": "Epoch 0:   1%",
            "_model_name": "FloatProgressModel",
            "bar_style": "info",
            "max": 1505,
            "_view_module": "@jupyter-widgets/controls",
            "_model_module_version": "1.5.0",
            "value": 20,
            "_view_count": null,
            "_view_module_version": "1.5.0",
            "orientation": "horizontal",
            "min": 0,
            "description_tooltip": null,
            "_model_module": "@jupyter-widgets/controls",
            "layout": "IPY_MODEL_bfeb1c548c8641c5a953dac7d7d65ca7"
          }
        },
        "2c2c77477c6448ec9ebbff367bd49724": {
          "model_module": "@jupyter-widgets/controls",
          "model_name": "HTMLModel",
          "state": {
            "_view_name": "HTMLView",
            "style": "IPY_MODEL_eb851416c6a44a4cb5bf89d92d1e6610",
            "_dom_classes": [],
            "description": "",
            "_model_name": "HTMLModel",
            "placeholder": "​",
            "_view_module": "@jupyter-widgets/controls",
            "_model_module_version": "1.5.0",
            "value": " 20/1505 [00:42&lt;52:07,  2.11s/it, loss=0.765, v_num=83]",
            "_view_count": null,
            "_view_module_version": "1.5.0",
            "description_tooltip": null,
            "_model_module": "@jupyter-widgets/controls",
            "layout": "IPY_MODEL_f9b2d0541a9c44d8a62acd4cbccce34d"
          }
        },
        "4871380bfae543b38f16f9a26560a1e2": {
          "model_module": "@jupyter-widgets/controls",
          "model_name": "ProgressStyleModel",
          "state": {
            "_view_name": "StyleView",
            "_model_name": "ProgressStyleModel",
            "description_width": "initial",
            "_view_module": "@jupyter-widgets/base",
            "_model_module_version": "1.5.0",
            "_view_count": null,
            "_view_module_version": "1.2.0",
            "bar_color": null,
            "_model_module": "@jupyter-widgets/controls"
          }
        },
        "bfeb1c548c8641c5a953dac7d7d65ca7": {
          "model_module": "@jupyter-widgets/base",
          "model_name": "LayoutModel",
          "state": {
            "_view_name": "LayoutView",
            "grid_template_rows": null,
            "right": null,
            "justify_content": null,
            "_view_module": "@jupyter-widgets/base",
            "overflow": null,
            "_model_module_version": "1.2.0",
            "_view_count": null,
            "flex_flow": null,
            "width": null,
            "min_width": null,
            "border": null,
            "align_items": null,
            "bottom": null,
            "_model_module": "@jupyter-widgets/base",
            "top": null,
            "grid_column": null,
            "overflow_y": null,
            "overflow_x": null,
            "grid_auto_flow": null,
            "grid_area": null,
            "grid_template_columns": null,
            "flex": "2",
            "_model_name": "LayoutModel",
            "justify_items": null,
            "grid_row": null,
            "max_height": null,
            "align_content": null,
            "visibility": null,
            "align_self": null,
            "height": null,
            "min_height": null,
            "padding": null,
            "grid_auto_rows": null,
            "grid_gap": null,
            "max_width": null,
            "order": null,
            "_view_module_version": "1.2.0",
            "grid_template_areas": null,
            "object_position": null,
            "object_fit": null,
            "grid_auto_columns": null,
            "margin": null,
            "display": null,
            "left": null
          }
        },
        "eb851416c6a44a4cb5bf89d92d1e6610": {
          "model_module": "@jupyter-widgets/controls",
          "model_name": "DescriptionStyleModel",
          "state": {
            "_view_name": "StyleView",
            "_model_name": "DescriptionStyleModel",
            "description_width": "",
            "_view_module": "@jupyter-widgets/base",
            "_model_module_version": "1.5.0",
            "_view_count": null,
            "_view_module_version": "1.2.0",
            "_model_module": "@jupyter-widgets/controls"
          }
        },
        "f9b2d0541a9c44d8a62acd4cbccce34d": {
          "model_module": "@jupyter-widgets/base",
          "model_name": "LayoutModel",
          "state": {
            "_view_name": "LayoutView",
            "grid_template_rows": null,
            "right": null,
            "justify_content": null,
            "_view_module": "@jupyter-widgets/base",
            "overflow": null,
            "_model_module_version": "1.2.0",
            "_view_count": null,
            "flex_flow": null,
            "width": null,
            "min_width": null,
            "border": null,
            "align_items": null,
            "bottom": null,
            "_model_module": "@jupyter-widgets/base",
            "top": null,
            "grid_column": null,
            "overflow_y": null,
            "overflow_x": null,
            "grid_auto_flow": null,
            "grid_area": null,
            "grid_template_columns": null,
            "flex": null,
            "_model_name": "LayoutModel",
            "justify_items": null,
            "grid_row": null,
            "max_height": null,
            "align_content": null,
            "visibility": null,
            "align_self": null,
            "height": null,
            "min_height": null,
            "padding": null,
            "grid_auto_rows": null,
            "grid_gap": null,
            "max_width": null,
            "order": null,
            "_view_module_version": "1.2.0",
            "grid_template_areas": null,
            "object_position": null,
            "object_fit": null,
            "grid_auto_columns": null,
            "margin": null,
            "display": null,
            "left": null
          }
        }
      }
    }
  },
  "cells": [
    {
      "cell_type": "markdown",
      "metadata": {
        "id": "n_K2ZyB6x8-8"
      },
      "source": [
        "# Setup\n"
      ]
    },
    {
      "cell_type": "code",
      "metadata": {
        "id": "w6qsW0VZykSD"
      },
      "source": [
        "import sys\n",
        "from google.colab import drive, files"
      ],
      "execution_count": 1,
      "outputs": []
    },
    {
      "cell_type": "code",
      "metadata": {
        "id": "XIkP6u05_zwh",
        "colab": {
          "base_uri": "https://localhost:8080/"
        },
        "outputId": "154ad9d7-c6a3-48c8-b1e8-2c4fe9fb8d45"
      },
      "source": [
        "%%bash \n",
        "pip install git+https://github.com/lucasb-eyer/pydensecrf.git\n",
        "pip install --upgrade setuptools\n",
        "pip install kaggle\n",
        "pip install gdown\n",
        "pip install pytorch-lightning"
      ],
      "execution_count": 2,
      "outputs": [
        {
          "output_type": "stream",
          "text": [
            "Collecting git+https://github.com/lucasb-eyer/pydensecrf.git\n",
            "  Cloning https://github.com/lucasb-eyer/pydensecrf.git to /tmp/pip-req-build-vv3arikm\n",
            "  Installing build dependencies: started\n",
            "  Installing build dependencies: finished with status 'done'\n",
            "  Getting requirements to build wheel: started\n",
            "  Getting requirements to build wheel: finished with status 'done'\n",
            "    Preparing wheel metadata: started\n",
            "    Preparing wheel metadata: finished with status 'done'\n",
            "Building wheels for collected packages: pydensecrf\n",
            "  Building wheel for pydensecrf (PEP 517): started\n",
            "  Building wheel for pydensecrf (PEP 517): finished with status 'done'\n",
            "  Created wheel for pydensecrf: filename=pydensecrf-1.0rc2-cp37-cp37m-linux_x86_64.whl size=2774221 sha256=2ce66790c2f299ce0a341c4c9043fd7d52fb3e445877a79190d332d979825a52\n",
            "  Stored in directory: /tmp/pip-ephem-wheel-cache-jny2ggq4/wheels/81/ac/ed/09f1890b954ca1ff7f189518cc9a319138e50e7ea88937fae9\n",
            "Successfully built pydensecrf\n",
            "Installing collected packages: pydensecrf\n",
            "Successfully installed pydensecrf-1.0rc2\n",
            "Requirement already up-to-date: setuptools in /usr/local/lib/python3.7/dist-packages (56.0.0)\n",
            "Requirement already satisfied: kaggle in /usr/local/lib/python3.7/dist-packages (1.5.12)\n",
            "Requirement already satisfied: certifi in /usr/local/lib/python3.7/dist-packages (from kaggle) (2020.12.5)\n",
            "Requirement already satisfied: python-slugify in /usr/local/lib/python3.7/dist-packages (from kaggle) (4.0.1)\n",
            "Requirement already satisfied: requests in /usr/local/lib/python3.7/dist-packages (from kaggle) (2.23.0)\n",
            "Requirement already satisfied: urllib3 in /usr/local/lib/python3.7/dist-packages (from kaggle) (1.24.3)\n",
            "Requirement already satisfied: six>=1.10 in /usr/local/lib/python3.7/dist-packages (from kaggle) (1.15.0)\n",
            "Requirement already satisfied: python-dateutil in /usr/local/lib/python3.7/dist-packages (from kaggle) (2.8.1)\n",
            "Requirement already satisfied: tqdm in /usr/local/lib/python3.7/dist-packages (from kaggle) (4.41.1)\n",
            "Requirement already satisfied: text-unidecode>=1.3 in /usr/local/lib/python3.7/dist-packages (from python-slugify->kaggle) (1.3)\n",
            "Requirement already satisfied: idna<3,>=2.5 in /usr/local/lib/python3.7/dist-packages (from requests->kaggle) (2.10)\n",
            "Requirement already satisfied: chardet<4,>=3.0.2 in /usr/local/lib/python3.7/dist-packages (from requests->kaggle) (3.0.4)\n",
            "Requirement already satisfied: gdown in /usr/local/lib/python3.7/dist-packages (3.6.4)\n",
            "Requirement already satisfied: tqdm in /usr/local/lib/python3.7/dist-packages (from gdown) (4.41.1)\n",
            "Requirement already satisfied: six in /usr/local/lib/python3.7/dist-packages (from gdown) (1.15.0)\n",
            "Requirement already satisfied: requests in /usr/local/lib/python3.7/dist-packages (from gdown) (2.23.0)\n",
            "Requirement already satisfied: chardet<4,>=3.0.2 in /usr/local/lib/python3.7/dist-packages (from requests->gdown) (3.0.4)\n",
            "Requirement already satisfied: urllib3!=1.25.0,!=1.25.1,<1.26,>=1.21.1 in /usr/local/lib/python3.7/dist-packages (from requests->gdown) (1.24.3)\n",
            "Requirement already satisfied: certifi>=2017.4.17 in /usr/local/lib/python3.7/dist-packages (from requests->gdown) (2020.12.5)\n",
            "Requirement already satisfied: idna<3,>=2.5 in /usr/local/lib/python3.7/dist-packages (from requests->gdown) (2.10)\n",
            "Collecting pytorch-lightning\n",
            "  Downloading https://files.pythonhosted.org/packages/07/0c/e2d52147ac12a77ee4e7fd7deb4b5f334cfb335af9133a0f2780c8bb9a2c/pytorch_lightning-1.2.10-py3-none-any.whl (841kB)\n",
            "Requirement already satisfied: numpy>=1.16.6 in /usr/local/lib/python3.7/dist-packages (from pytorch-lightning) (1.19.5)\n",
            "Collecting future>=0.17.1\n",
            "  Downloading https://files.pythonhosted.org/packages/45/0b/38b06fd9b92dc2b68d58b75f900e97884c45bedd2ff83203d933cf5851c9/future-0.18.2.tar.gz (829kB)\n",
            "Collecting PyYAML!=5.4.*,>=5.1\n",
            "  Downloading https://files.pythonhosted.org/packages/64/c2/b80047c7ac2478f9501676c988a5411ed5572f35d1beff9cae07d321512c/PyYAML-5.3.1.tar.gz (269kB)\n",
            "Collecting torchmetrics==0.2.0\n",
            "  Downloading https://files.pythonhosted.org/packages/3a/42/d984612cabf005a265aa99c8d4ab2958e37b753aafb12f31c81df38751c8/torchmetrics-0.2.0-py3-none-any.whl (176kB)\n",
            "Requirement already satisfied: packaging in /usr/local/lib/python3.7/dist-packages (from pytorch-lightning) (20.9)\n",
            "Requirement already satisfied: tensorboard!=2.5.0,>=2.2.0 in /usr/local/lib/python3.7/dist-packages (from pytorch-lightning) (2.4.1)\n",
            "Collecting fsspec[http]>=0.8.1\n",
            "  Downloading https://files.pythonhosted.org/packages/e9/91/2ef649137816850fa4f4c97c6f2eabb1a79bf0aa2c8ed198e387e373455e/fsspec-2021.4.0-py3-none-any.whl (108kB)\n",
            "Requirement already satisfied: torch>=1.4 in /usr/local/lib/python3.7/dist-packages (from pytorch-lightning) (1.8.1+cu101)\n",
            "Requirement already satisfied: tqdm>=4.41.0 in /usr/local/lib/python3.7/dist-packages (from pytorch-lightning) (4.41.1)\n",
            "Requirement already satisfied: pyparsing>=2.0.2 in /usr/local/lib/python3.7/dist-packages (from packaging->pytorch-lightning) (2.4.7)\n",
            "Requirement already satisfied: grpcio>=1.24.3 in /usr/local/lib/python3.7/dist-packages (from tensorboard!=2.5.0,>=2.2.0->pytorch-lightning) (1.32.0)\n",
            "Requirement already satisfied: google-auth<2,>=1.6.3 in /usr/local/lib/python3.7/dist-packages (from tensorboard!=2.5.0,>=2.2.0->pytorch-lightning) (1.28.1)\n",
            "Requirement already satisfied: setuptools>=41.0.0 in /usr/local/lib/python3.7/dist-packages (from tensorboard!=2.5.0,>=2.2.0->pytorch-lightning) (56.0.0)\n",
            "Requirement already satisfied: google-auth-oauthlib<0.5,>=0.4.1 in /usr/local/lib/python3.7/dist-packages (from tensorboard!=2.5.0,>=2.2.0->pytorch-lightning) (0.4.4)\n",
            "Requirement already satisfied: markdown>=2.6.8 in /usr/local/lib/python3.7/dist-packages (from tensorboard!=2.5.0,>=2.2.0->pytorch-lightning) (3.3.4)\n",
            "Requirement already satisfied: absl-py>=0.4 in /usr/local/lib/python3.7/dist-packages (from tensorboard!=2.5.0,>=2.2.0->pytorch-lightning) (0.12.0)\n",
            "Requirement already satisfied: protobuf>=3.6.0 in /usr/local/lib/python3.7/dist-packages (from tensorboard!=2.5.0,>=2.2.0->pytorch-lightning) (3.12.4)\n",
            "Requirement already satisfied: wheel>=0.26; python_version >= \"3\" in /usr/local/lib/python3.7/dist-packages (from tensorboard!=2.5.0,>=2.2.0->pytorch-lightning) (0.36.2)\n",
            "Requirement already satisfied: tensorboard-plugin-wit>=1.6.0 in /usr/local/lib/python3.7/dist-packages (from tensorboard!=2.5.0,>=2.2.0->pytorch-lightning) (1.8.0)\n",
            "Requirement already satisfied: requests<3,>=2.21.0 in /usr/local/lib/python3.7/dist-packages (from tensorboard!=2.5.0,>=2.2.0->pytorch-lightning) (2.23.0)\n",
            "Requirement already satisfied: werkzeug>=0.11.15 in /usr/local/lib/python3.7/dist-packages (from tensorboard!=2.5.0,>=2.2.0->pytorch-lightning) (1.0.1)\n",
            "Requirement already satisfied: six>=1.10.0 in /usr/local/lib/python3.7/dist-packages (from tensorboard!=2.5.0,>=2.2.0->pytorch-lightning) (1.15.0)\n",
            "Collecting aiohttp; extra == \"http\"\n",
            "  Downloading https://files.pythonhosted.org/packages/88/c0/5890b4c8b04a79b7360e8fe4490feb0bb3ab179743f199f0e6220cebd568/aiohttp-3.7.4.post0-cp37-cp37m-manylinux2014_x86_64.whl (1.3MB)\n",
            "Requirement already satisfied: typing-extensions in /usr/local/lib/python3.7/dist-packages (from torch>=1.4->pytorch-lightning) (3.7.4.3)\n",
            "Requirement already satisfied: pyasn1-modules>=0.2.1 in /usr/local/lib/python3.7/dist-packages (from google-auth<2,>=1.6.3->tensorboard!=2.5.0,>=2.2.0->pytorch-lightning) (0.2.8)\n",
            "Requirement already satisfied: rsa<5,>=3.1.4; python_version >= \"3.6\" in /usr/local/lib/python3.7/dist-packages (from google-auth<2,>=1.6.3->tensorboard!=2.5.0,>=2.2.0->pytorch-lightning) (4.7.2)\n",
            "Requirement already satisfied: cachetools<5.0,>=2.0.0 in /usr/local/lib/python3.7/dist-packages (from google-auth<2,>=1.6.3->tensorboard!=2.5.0,>=2.2.0->pytorch-lightning) (4.2.1)\n",
            "Requirement already satisfied: requests-oauthlib>=0.7.0 in /usr/local/lib/python3.7/dist-packages (from google-auth-oauthlib<0.5,>=0.4.1->tensorboard!=2.5.0,>=2.2.0->pytorch-lightning) (1.3.0)\n",
            "Requirement already satisfied: importlib-metadata; python_version < \"3.8\" in /usr/local/lib/python3.7/dist-packages (from markdown>=2.6.8->tensorboard!=2.5.0,>=2.2.0->pytorch-lightning) (3.10.1)\n",
            "Requirement already satisfied: idna<3,>=2.5 in /usr/local/lib/python3.7/dist-packages (from requests<3,>=2.21.0->tensorboard!=2.5.0,>=2.2.0->pytorch-lightning) (2.10)\n",
            "Requirement already satisfied: chardet<4,>=3.0.2 in /usr/local/lib/python3.7/dist-packages (from requests<3,>=2.21.0->tensorboard!=2.5.0,>=2.2.0->pytorch-lightning) (3.0.4)\n",
            "Requirement already satisfied: urllib3!=1.25.0,!=1.25.1,<1.26,>=1.21.1 in /usr/local/lib/python3.7/dist-packages (from requests<3,>=2.21.0->tensorboard!=2.5.0,>=2.2.0->pytorch-lightning) (1.24.3)\n",
            "Requirement already satisfied: certifi>=2017.4.17 in /usr/local/lib/python3.7/dist-packages (from requests<3,>=2.21.0->tensorboard!=2.5.0,>=2.2.0->pytorch-lightning) (2020.12.5)\n",
            "Collecting multidict<7.0,>=4.5\n",
            "  Downloading https://files.pythonhosted.org/packages/7c/a6/4123b8165acbe773d1a8dc8e3f0d1edea16d29f7de018eda769abb56bd30/multidict-5.1.0-cp37-cp37m-manylinux2014_x86_64.whl (142kB)\n",
            "Requirement already satisfied: attrs>=17.3.0 in /usr/local/lib/python3.7/dist-packages (from aiohttp; extra == \"http\"->fsspec[http]>=0.8.1->pytorch-lightning) (20.3.0)\n",
            "Collecting yarl<2.0,>=1.0\n",
            "  Downloading https://files.pythonhosted.org/packages/f1/62/046834c5fc998c88ab2ef722f5d42122230a632212c8afa76418324f53ff/yarl-1.6.3-cp37-cp37m-manylinux2014_x86_64.whl (294kB)\n",
            "Collecting async-timeout<4.0,>=3.0\n",
            "  Downloading https://files.pythonhosted.org/packages/e1/1e/5a4441be21b0726c4464f3f23c8b19628372f606755a9d2e46c187e65ec4/async_timeout-3.0.1-py3-none-any.whl\n",
            "Requirement already satisfied: pyasn1<0.5.0,>=0.4.6 in /usr/local/lib/python3.7/dist-packages (from pyasn1-modules>=0.2.1->google-auth<2,>=1.6.3->tensorboard!=2.5.0,>=2.2.0->pytorch-lightning) (0.4.8)\n",
            "Requirement already satisfied: oauthlib>=3.0.0 in /usr/local/lib/python3.7/dist-packages (from requests-oauthlib>=0.7.0->google-auth-oauthlib<0.5,>=0.4.1->tensorboard!=2.5.0,>=2.2.0->pytorch-lightning) (3.1.0)\n",
            "Requirement already satisfied: zipp>=0.5 in /usr/local/lib/python3.7/dist-packages (from importlib-metadata; python_version < \"3.8\"->markdown>=2.6.8->tensorboard!=2.5.0,>=2.2.0->pytorch-lightning) (3.4.1)\n",
            "Building wheels for collected packages: future, PyYAML\n",
            "  Building wheel for future (setup.py): started\n",
            "  Building wheel for future (setup.py): finished with status 'done'\n",
            "  Created wheel for future: filename=future-0.18.2-cp37-none-any.whl size=491058 sha256=f8e0a71da73752f5cde6f5279ee7bc5ad45ae14ccf7b5ca7c8bbcac29b6b5c51\n",
            "  Stored in directory: /root/.cache/pip/wheels/8b/99/a0/81daf51dcd359a9377b110a8a886b3895921802d2fc1b2397e\n",
            "  Building wheel for PyYAML (setup.py): started\n",
            "  Building wheel for PyYAML (setup.py): finished with status 'done'\n",
            "  Created wheel for PyYAML: filename=PyYAML-5.3.1-cp37-cp37m-linux_x86_64.whl size=44620 sha256=8d017a6acfbdeb8f134d4d27c0b52712c3bdcd5e492cb85e2171ad0773069c67\n",
            "  Stored in directory: /root/.cache/pip/wheels/a7/c1/ea/cf5bd31012e735dc1dfea3131a2d5eae7978b251083d6247bd\n",
            "Successfully built future PyYAML\n",
            "Installing collected packages: future, PyYAML, torchmetrics, multidict, yarl, async-timeout, aiohttp, fsspec, pytorch-lightning\n",
            "  Found existing installation: future 0.16.0\n",
            "    Uninstalling future-0.16.0:\n",
            "      Successfully uninstalled future-0.16.0\n",
            "  Found existing installation: PyYAML 3.13\n",
            "    Uninstalling PyYAML-3.13:\n",
            "      Successfully uninstalled PyYAML-3.13\n",
            "Successfully installed PyYAML-5.3.1 aiohttp-3.7.4.post0 async-timeout-3.0.1 fsspec-2021.4.0 future-0.18.2 multidict-5.1.0 pytorch-lightning-1.2.10 torchmetrics-0.2.0 yarl-1.6.3\n"
          ],
          "name": "stdout"
        },
        {
          "output_type": "stream",
          "text": [
            "  Running command git clone -q https://github.com/lucasb-eyer/pydensecrf.git /tmp/pip-req-build-vv3arikm\n"
          ],
          "name": "stderr"
        }
      ]
    },
    {
      "cell_type": "code",
      "metadata": {
        "colab": {
          "resources": {
            "http://localhost:8080/nbextensions/google.colab/files.js": {
              "data": "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",
              "ok": true,
              "headers": [
                [
                  "content-type",
                  "application/javascript"
                ]
              ],
              "status": 200,
              "status_text": ""
            }
          },
          "base_uri": "https://localhost:8080/",
          "height": 108
        },
        "id": "tgy-P8-wuZQN",
        "outputId": "7b783d14-c962-4ffb-87a7-df223d289ad6"
      },
      "source": [
        "# upload kaggle API key\n",
        "files.upload()"
      ],
      "execution_count": 3,
      "outputs": [
        {
          "output_type": "display_data",
          "data": {
            "text/html": [
              "\n",
              "     <input type=\"file\" id=\"files-e0ac2bf2-2729-442e-a696-e562b0e99917\" name=\"files[]\" multiple disabled\n",
              "        style=\"border:none\" />\n",
              "     <output id=\"result-e0ac2bf2-2729-442e-a696-e562b0e99917\">\n",
              "      Upload widget is only available when the cell has been executed in the\n",
              "      current browser session. Please rerun this cell to enable.\n",
              "      </output>\n",
              "      <script src=\"/nbextensions/google.colab/files.js\"></script> "
            ],
            "text/plain": [
              "<IPython.core.display.HTML object>"
            ]
          },
          "metadata": {
            "tags": []
          }
        },
        {
          "output_type": "stream",
          "text": [
            "Saving kaggle.json to kaggle.json\n"
          ],
          "name": "stdout"
        },
        {
          "output_type": "execute_result",
          "data": {
            "text/plain": [
              "{'kaggle.json': b'{\"username\":\"giorgio123213\",\"key\":\"71d614caaf97835377e7e46121d1dd90\"}'}"
            ]
          },
          "metadata": {
            "tags": []
          },
          "execution_count": 3
        }
      ]
    },
    {
      "cell_type": "code",
      "metadata": {
        "id": "tyfqsoYtueJb",
        "colab": {
          "base_uri": "https://localhost:8080/"
        },
        "outputId": "955c9b5d-d519-4244-bd97-104a15d8ce88"
      },
      "source": [
        "# download DSTL data\n",
        "%%bash\n",
        "mkdir ~/.kaggle\n",
        "cp kaggle.json ~/.kaggle/\n",
        "chmod 600 ~/.kaggle/kaggle.json\n",
        "kaggle competitions download -c 'dstl-satellite-imagery-feature-detection' -p ../../ -f sixteen_band.zip\n",
        "kaggle competitions download -c 'dstl-satellite-imagery-feature-detection' -p ../../ -f train_wkt_v4.csv.zip\n",
        "kaggle competitions download -c 'dstl-satellite-imagery-feature-detection' -p ../../ -f grid_sizes.csv.zip\n",
        "unzip -q ../../grid_sizes.csv.zip -d /content/\n",
        "unzip -q ../../train_wkt_v4.csv.zip -d /content/\n",
        "unzip -q ../../sixteen_band.zip -d /content/"
      ],
      "execution_count": 4,
      "outputs": [
        {
          "output_type": "stream",
          "text": [
            "Downloading sixteen_band.zip to ../..\n",
            "\n",
            "Downloading train_wkt_v4.csv.zip to ../..\n",
            "\n",
            "Downloading grid_sizes.csv.zip to ../..\n",
            "\n"
          ],
          "name": "stdout"
        },
        {
          "output_type": "stream",
          "text": [
            "\r  0%|          | 0.00/7.30G [00:00<?, ?B/s]\r  0%|          | 5.00M/7.30G [00:00<02:31, 51.6MB/s]\r  0%|          | 16.0M/7.30G [00:00<02:07, 61.4MB/s]\r  0%|          | 29.0M/7.30G [00:00<01:46, 73.4MB/s]\r  1%|          | 62.0M/7.30G [00:00<01:21, 95.9MB/s]\r  1%|1         | 89.0M/7.30G [00:00<01:08, 114MB/s] \r  2%|1         | 121M/7.30G [00:00<00:58, 133MB/s] \r  2%|1         | 139M/7.30G [00:00<01:03, 121MB/s]\r  2%|2         | 167M/7.30G [00:00<00:52, 146MB/s]\r  3%|2         | 193M/7.30G [00:01<00:44, 170MB/s]\r  3%|2         | 217M/7.30G [00:01<00:41, 183MB/s]\r  3%|3         | 243M/7.30G [00:01<00:37, 203MB/s]\r  4%|3         | 270M/7.30G [00:01<00:34, 221MB/s]\r  4%|3         | 296M/7.30G [00:01<00:32, 234MB/s]\r  4%|4         | 321M/7.30G [00:01<00:32, 230MB/s]\r  5%|4         | 346M/7.30G [00:01<00:31, 238MB/s]\r  5%|4         | 372M/7.30G [00:01<00:30, 247MB/s]\r  5%|5         | 400M/7.30G [00:01<00:28, 258MB/s]\r  6%|5         | 426M/7.30G [00:02<00:28, 257MB/s]\r  6%|6         | 453M/7.30G [00:02<00:28, 263MB/s]\r  6%|6         | 481M/7.30G [00:02<00:27, 269MB/s]\r  7%|6         | 507M/7.30G [00:02<00:30, 236MB/s]\r  7%|7         | 534M/7.30G [00:02<00:29, 247MB/s]\r  7%|7         | 559M/7.30G [00:02<00:30, 234MB/s]\r  8%|7         | 587M/7.30G [00:02<00:29, 248MB/s]\r  8%|8         | 612M/7.30G [00:02<00:28, 251MB/s]\r  9%|8         | 637M/7.30G [00:02<00:29, 244MB/s]\r  9%|8         | 661M/7.30G [00:03<00:29, 245MB/s]\r  9%|9         | 693M/7.30G [00:03<00:26, 266MB/s]\r 10%|9         | 725M/7.30G [00:03<00:25, 282MB/s]\r 10%|#         | 755M/7.30G [00:03<00:24, 290MB/s]\r 10%|#         | 784M/7.30G [00:03<00:24, 291MB/s]\r 11%|#         | 813M/7.30G [00:03<00:25, 272MB/s]\r 11%|#1        | 840M/7.30G [00:03<00:26, 261MB/s]\r 12%|#1        | 866M/7.30G [00:03<00:28, 240MB/s]\r 12%|#1        | 894M/7.30G [00:03<00:27, 252MB/s]\r 12%|#2        | 919M/7.30G [00:04<00:27, 247MB/s]\r 13%|#2        | 944M/7.30G [00:04<00:27, 250MB/s]\r 13%|#2        | 970M/7.30G [00:04<00:26, 255MB/s]\r 13%|#3        | 0.98G/7.30G [00:04<00:25, 270MB/s]\r 14%|#3        | 1.00G/7.30G [00:04<00:32, 207MB/s]\r 14%|#4        | 1.03G/7.30G [00:04<00:28, 233MB/s]\r 14%|#4        | 1.06G/7.30G [00:04<00:31, 215MB/s]\r 15%|#4        | 1.08G/7.30G [00:04<00:31, 213MB/s]\r 15%|#5        | 1.10G/7.30G [00:05<00:31, 210MB/s]\r 15%|#5        | 1.12G/7.30G [00:05<00:30, 220MB/s]\r 16%|#5        | 1.15G/7.30G [00:05<00:28, 232MB/s]\r 16%|#6        | 1.17G/7.30G [00:05<00:27, 240MB/s]\r 16%|#6        | 1.20G/7.30G [00:05<00:28, 233MB/s]\r 17%|#6        | 1.22G/7.30G [00:05<00:29, 224MB/s]\r 17%|#7        | 1.24G/7.30G [00:05<00:28, 227MB/s]\r 17%|#7        | 1.26G/7.30G [00:05<00:29, 220MB/s]\r 18%|#7        | 1.29G/7.30G [00:05<00:28, 228MB/s]\r 18%|#7        | 1.31G/7.30G [00:06<00:43, 149MB/s]\r 18%|#8        | 1.33G/7.30G [00:06<00:39, 162MB/s]\r 18%|#8        | 1.35G/7.30G [00:06<00:49, 128MB/s]\r 19%|#8        | 1.38G/7.30G [00:06<00:40, 155MB/s]\r 19%|#9        | 1.40G/7.30G [00:06<00:37, 168MB/s]\r 19%|#9        | 1.42G/7.30G [00:06<00:33, 189MB/s]\r 20%|#9        | 1.45G/7.30G [00:06<00:30, 203MB/s]\r 20%|##        | 1.47G/7.30G [00:07<00:29, 215MB/s]\r 20%|##        | 1.50G/7.30G [00:07<00:27, 231MB/s]\r 21%|##        | 1.52G/7.30G [00:07<00:28, 221MB/s]\r 21%|##1       | 1.54G/7.30G [00:07<00:27, 227MB/s]\r 21%|##1       | 1.57G/7.30G [00:07<00:26, 232MB/s]\r 22%|##1       | 1.59G/7.30G [00:07<00:25, 239MB/s]\r 22%|##2       | 1.61G/7.30G [00:07<00:30, 202MB/s]\r 22%|##2       | 1.64G/7.30G [00:07<00:28, 217MB/s]\r 23%|##2       | 1.66G/7.30G [00:07<00:27, 221MB/s]\r 23%|##3       | 1.69G/7.30G [00:08<00:26, 230MB/s]\r 23%|##3       | 1.71G/7.30G [00:08<00:27, 217MB/s]\r 24%|##3       | 1.74G/7.30G [00:08<00:25, 232MB/s]\r 24%|##4       | 1.76G/7.30G [00:08<00:38, 156MB/s]\r 24%|##4       | 1.79G/7.30G [00:08<00:32, 180MB/s]\r 25%|##4       | 1.81G/7.30G [00:08<00:28, 205MB/s]\r 25%|##5       | 1.84G/7.30G [00:08<00:36, 162MB/s]\r 25%|##5       | 1.86G/7.30G [00:09<00:44, 130MB/s]\r 26%|##5       | 1.87G/7.30G [00:09<00:56, 104MB/s]\r 26%|##5       | 1.89G/7.30G [00:09<01:05, 88.6MB/s]\r 26%|##6       | 1.90G/7.30G [00:09<01:09, 83.2MB/s]\r 26%|##6       | 1.91G/7.30G [00:10<01:14, 77.9MB/s]\r 26%|##6       | 1.92G/7.30G [00:10<01:14, 77.2MB/s]\r 26%|##6       | 1.93G/7.30G [00:10<01:13, 78.6MB/s]\r 27%|##6       | 1.94G/7.30G [00:10<01:16, 74.9MB/s]\r 27%|##6       | 1.94G/7.30G [00:10<01:15, 75.9MB/s]\r 27%|##6       | 1.95G/7.30G [00:10<01:15, 76.0MB/s]\r 27%|##6       | 1.96G/7.30G [00:10<01:14, 77.2MB/s]\r 27%|##6       | 1.97G/7.30G [00:10<01:15, 75.8MB/s]\r 27%|##7       | 1.97G/7.30G [00:10<01:16, 75.0MB/s]\r 27%|##7       | 1.98G/7.30G [00:11<01:14, 76.8MB/s]\r 27%|##7       | 1.99G/7.30G [00:11<01:13, 77.9MB/s]\r 27%|##7       | 2.00G/7.30G [00:11<01:12, 78.3MB/s]\r 27%|##7       | 2.01G/7.30G [00:11<01:13, 77.3MB/s]\r 28%|##7       | 2.01G/7.30G [00:11<01:15, 75.3MB/s]\r 28%|##7       | 2.02G/7.30G [00:11<01:17, 72.6MB/s]\r 28%|##7       | 2.03G/7.30G [00:11<01:16, 73.5MB/s]\r 28%|##7       | 2.04G/7.30G [00:11<01:15, 75.1MB/s]\r 28%|##8       | 2.04G/7.30G [00:11<01:13, 76.3MB/s]\r 28%|##8       | 2.05G/7.30G [00:12<01:14, 76.1MB/s]\r 28%|##8       | 2.06G/7.30G [00:12<01:14, 75.7MB/s]\r 28%|##8       | 2.07G/7.30G [00:12<01:13, 76.7MB/s]\r 28%|##8       | 2.08G/7.30G [00:12<01:14, 75.1MB/s]\r 29%|##8       | 2.08G/7.30G [00:12<01:13, 76.7MB/s]\r 29%|##8       | 2.09G/7.30G [00:12<01:12, 77.0MB/s]\r 29%|##8       | 2.10G/7.30G [00:12<01:05, 84.9MB/s]\r 29%|##8       | 2.11G/7.30G [00:12<00:59, 93.5MB/s]\r 29%|##9       | 2.12G/7.30G [00:12<00:57, 96.1MB/s]\r 29%|##9       | 2.13G/7.30G [00:13<00:57, 97.1MB/s]\r 29%|##9       | 2.14G/7.30G [00:13<01:00, 91.8MB/s]\r 30%|##9       | 2.15G/7.30G [00:13<01:03, 86.4MB/s]\r 30%|##9       | 2.16G/7.30G [00:13<01:01, 89.7MB/s]\r 30%|##9       | 2.17G/7.30G [00:13<01:02, 88.3MB/s]\r 30%|##9       | 2.18G/7.30G [00:13<01:01, 88.7MB/s]\r 30%|###       | 2.19G/7.30G [00:13<01:01, 88.9MB/s]\r 30%|###       | 2.21G/7.30G [00:13<00:50, 108MB/s] \r 30%|###       | 2.22G/7.30G [00:13<00:48, 112MB/s]\r 31%|###       | 2.25G/7.30G [00:14<00:41, 131MB/s]\r 31%|###1      | 2.27G/7.30G [00:14<00:36, 149MB/s]\r 31%|###1      | 2.28G/7.30G [00:14<00:42, 127MB/s]\r 31%|###1      | 2.30G/7.30G [00:14<00:50, 105MB/s]\r 32%|###1      | 2.31G/7.30G [00:14<01:01, 87.5MB/s]\r 32%|###1      | 2.32G/7.30G [00:14<01:04, 83.4MB/s]\r 32%|###1      | 2.33G/7.30G [00:15<01:07, 79.4MB/s]\r 32%|###2      | 2.34G/7.30G [00:15<01:09, 76.7MB/s]\r 32%|###2      | 2.35G/7.30G [00:15<01:08, 78.2MB/s]\r 32%|###2      | 2.36G/7.30G [00:15<01:09, 75.9MB/s]\r 32%|###2      | 2.36G/7.30G [00:15<01:10, 74.6MB/s]\r 32%|###2      | 2.37G/7.30G [00:15<01:10, 75.5MB/s]\r 33%|###2      | 2.38G/7.30G [00:15<01:10, 74.5MB/s]\r 33%|###2      | 2.39G/7.30G [00:15<01:11, 74.1MB/s]\r 33%|###2      | 2.39G/7.30G [00:15<01:11, 73.5MB/s]\r 33%|###2      | 2.40G/7.30G [00:16<01:11, 73.2MB/s]\r 33%|###3      | 2.41G/7.30G [00:16<01:11, 73.1MB/s]\r 33%|###3      | 2.42G/7.30G [00:16<01:13, 71.8MB/s]\r 33%|###3      | 2.43G/7.30G [00:16<01:12, 72.1MB/s]\r 33%|###3      | 2.43G/7.30G [00:16<01:14, 70.0MB/s]\r 33%|###3      | 2.44G/7.30G [00:16<01:14, 70.0MB/s]\r 34%|###3      | 2.45G/7.30G [00:16<01:15, 69.3MB/s]\r 34%|###3      | 2.45G/7.30G [00:16<01:16, 68.0MB/s]\r 34%|###3      | 2.46G/7.30G [00:17<01:17, 67.1MB/s]\r 34%|###3      | 2.47G/7.30G [00:17<01:18, 66.4MB/s]\r 34%|###3      | 2.47G/7.30G [00:17<01:20, 64.2MB/s]\r 34%|###3      | 2.48G/7.30G [00:17<01:23, 62.2MB/s]\r 34%|###4      | 2.49G/7.30G [00:17<01:25, 60.6MB/s]\r 34%|###4      | 2.49G/7.30G [00:17<01:26, 59.9MB/s]\r 34%|###4      | 2.50G/7.30G [00:17<01:23, 62.1MB/s]\r 34%|###4      | 2.51G/7.30G [00:17<01:22, 62.6MB/s]\r 34%|###4      | 2.51G/7.30G [00:17<01:21, 63.1MB/s]\r 35%|###4      | 2.52G/7.30G [00:18<01:23, 61.4MB/s]\r 35%|###4      | 2.53G/7.30G [00:18<01:15, 67.8MB/s]\r 35%|###4      | 2.54G/7.30G [00:18<01:09, 73.7MB/s]\r 35%|###4      | 2.55G/7.30G [00:18<01:04, 79.6MB/s]\r 35%|###5      | 2.56G/7.30G [00:18<01:00, 84.4MB/s]\r 35%|###5      | 2.57G/7.30G [00:18<00:57, 89.1MB/s]\r 35%|###5      | 2.58G/7.30G [00:18<00:55, 91.1MB/s]\r 35%|###5      | 2.59G/7.30G [00:18<00:55, 90.6MB/s]\r 36%|###5      | 2.59G/7.30G [00:18<00:55, 91.5MB/s]\r 36%|###5      | 2.60G/7.30G [00:19<00:55, 90.8MB/s]\r 36%|###5      | 2.61G/7.30G [00:19<00:56, 89.8MB/s]\r 36%|###5      | 2.62G/7.30G [00:19<00:56, 89.5MB/s]\r 36%|###6      | 2.63G/7.30G [00:19<00:56, 88.9MB/s]\r 36%|###6      | 2.64G/7.30G [00:19<00:56, 88.4MB/s]\r 36%|###6      | 2.65G/7.30G [00:19<00:59, 84.0MB/s]\r 36%|###6      | 2.66G/7.30G [00:19<00:59, 83.3MB/s]\r 37%|###6      | 2.66G/7.30G [00:19<01:10, 71.1MB/s]\r 37%|###6      | 2.68G/7.30G [00:19<01:00, 81.7MB/s]\r 37%|###6      | 2.68G/7.30G [00:20<01:00, 81.8MB/s]\r 37%|###6      | 2.69G/7.30G [00:20<01:00, 82.0MB/s]\r 37%|###7      | 2.70G/7.30G [00:20<01:00, 81.6MB/s]\r 37%|###7      | 2.71G/7.30G [00:20<01:02, 78.3MB/s]\r 37%|###7      | 2.72G/7.30G [00:20<01:05, 75.4MB/s]\r 37%|###7      | 2.73G/7.30G [00:20<01:04, 75.8MB/s]\r 37%|###7      | 2.73G/7.30G [00:20<01:05, 74.6MB/s]\r 38%|###7      | 2.74G/7.30G [00:20<01:06, 73.5MB/s]\r 38%|###7      | 2.75G/7.30G [00:20<01:06, 73.0MB/s]\r 38%|###7      | 2.76G/7.30G [00:21<01:07, 72.2MB/s]\r 38%|###7      | 2.76G/7.30G [00:21<01:07, 72.5MB/s]\r 38%|###7      | 2.77G/7.30G [00:21<01:07, 71.5MB/s]\r 38%|###8      | 2.78G/7.30G [00:21<01:09, 69.6MB/s]\r 38%|###8      | 2.79G/7.30G [00:21<01:10, 69.1MB/s]\r 38%|###8      | 2.79G/7.30G [00:21<01:11, 67.6MB/s]\r 38%|###8      | 2.80G/7.30G [00:21<01:12, 66.4MB/s]\r 38%|###8      | 2.81G/7.30G [00:21<01:14, 64.8MB/s]\r 39%|###8      | 2.81G/7.30G [00:22<01:15, 63.6MB/s]\r 39%|###8      | 2.82G/7.30G [00:22<01:18, 61.3MB/s]\r 39%|###8      | 2.83G/7.30G [00:22<01:21, 59.2MB/s]\r 39%|###8      | 2.83G/7.30G [00:22<01:17, 62.2MB/s]\r 39%|###8      | 2.84G/7.30G [00:22<01:10, 67.9MB/s]\r 39%|###9      | 2.85G/7.30G [00:22<01:05, 73.3MB/s]\r 39%|###9      | 2.86G/7.30G [00:22<01:00, 79.0MB/s]\r 39%|###9      | 2.87G/7.30G [00:22<00:57, 82.3MB/s]\r 39%|###9      | 2.88G/7.30G [00:22<00:56, 84.7MB/s]\r 40%|###9      | 2.89G/7.30G [00:22<00:54, 86.4MB/s]\r 40%|###9      | 2.89G/7.30G [00:23<00:54, 86.0MB/s]\r 40%|###9      | 2.90G/7.30G [00:23<00:55, 85.6MB/s]\r 40%|###9      | 2.91G/7.30G [00:23<00:56, 83.4MB/s]\r 40%|####      | 2.92G/7.30G [00:23<00:58, 80.9MB/s]\r 40%|####      | 2.93G/7.30G [00:23<00:59, 78.3MB/s]\r 40%|####      | 2.94G/7.30G [00:23<01:03, 73.8MB/s]\r 40%|####      | 2.94G/7.30G [00:23<01:05, 71.3MB/s]\r 40%|####      | 2.95G/7.30G [00:23<01:08, 67.7MB/s]\r 41%|####      | 2.96G/7.30G [00:24<01:10, 65.8MB/s]\r 41%|####      | 2.96G/7.30G [00:24<01:58, 39.2MB/s]\r 41%|####      | 2.99G/7.30G [00:24<01:29, 51.8MB/s]\r 41%|####1     | 3.00G/7.30G [00:24<01:19, 58.4MB/s]\r 41%|####1     | 3.00G/7.30G [00:24<01:09, 66.7MB/s]\r 41%|####1     | 3.02G/7.30G [00:24<01:03, 72.9MB/s]\r 42%|####1     | 3.03G/7.30G [00:25<00:55, 82.8MB/s]\r 42%|####1     | 3.05G/7.30G [00:25<00:48, 93.8MB/s]\r 42%|####2     | 3.07G/7.30G [00:25<00:41, 110MB/s] \r 42%|####2     | 3.08G/7.30G [00:25<00:36, 123MB/s]\r 42%|####2     | 3.10G/7.30G [00:25<00:36, 125MB/s]\r 43%|####2     | 3.11G/7.30G [00:25<00:34, 131MB/s]\r 43%|####2     | 3.12G/7.30G [00:25<00:50, 89.4MB/s]\r 43%|####2     | 3.14G/7.30G [00:26<00:58, 76.0MB/s]\r 43%|####3     | 3.15G/7.30G [00:26<01:04, 69.4MB/s]\r 43%|####3     | 3.15G/7.30G [00:26<01:08, 65.2MB/s]\r 43%|####3     | 3.16G/7.30G [00:26<01:11, 62.3MB/s]\r 43%|####3     | 3.17G/7.30G [00:26<01:13, 59.9MB/s]\r 44%|####3     | 3.18G/7.30G [00:26<01:16, 58.1MB/s]\r 44%|####3     | 3.18G/7.30G [00:26<01:19, 55.7MB/s]\r 44%|####3     | 3.19G/7.30G [00:27<01:23, 52.6MB/s]\r 44%|####3     | 3.19G/7.30G [00:27<01:25, 51.6MB/s]\r 44%|####3     | 3.20G/7.30G [00:27<01:21, 53.7MB/s]\r 44%|####3     | 3.21G/7.30G [00:27<01:12, 60.2MB/s]\r 44%|####4     | 3.22G/7.30G [00:27<01:03, 68.9MB/s]\r 44%|####4     | 3.23G/7.30G [00:27<00:57, 76.5MB/s]\r 44%|####4     | 3.24G/7.30G [00:27<00:51, 84.3MB/s]\r 45%|####4     | 3.25G/7.30G [00:27<00:48, 89.2MB/s]\r 45%|####4     | 3.26G/7.30G [00:28<00:46, 94.0MB/s]\r 45%|####4     | 3.27G/7.30G [00:28<00:46, 93.7MB/s]\r 45%|####4     | 3.28G/7.30G [00:28<00:45, 95.6MB/s]\r 45%|####5     | 3.29G/7.30G [00:28<00:44, 97.1MB/s]\r 45%|####5     | 3.30G/7.30G [00:28<00:45, 95.4MB/s]\r 45%|####5     | 3.31G/7.30G [00:28<00:45, 94.8MB/s]\r 45%|####5     | 3.32G/7.30G [00:28<00:46, 91.8MB/s]\r 46%|####5     | 3.33G/7.30G [00:28<00:46, 91.5MB/s]\r 46%|####5     | 3.34G/7.30G [00:28<00:47, 90.2MB/s]\r 46%|####5     | 3.35G/7.30G [00:28<00:47, 88.8MB/s]\r 46%|####5     | 3.35G/7.30G [00:29<00:48, 86.9MB/s]\r 46%|####6     | 3.36G/7.30G [00:29<00:48, 86.3MB/s]\r 46%|####6     | 3.37G/7.30G [00:29<00:49, 85.9MB/s]\r 46%|####6     | 3.38G/7.30G [00:29<00:50, 83.1MB/s]\r 46%|####6     | 3.39G/7.30G [00:29<00:52, 80.0MB/s]\r 47%|####6     | 3.40G/7.30G [00:29<00:50, 83.4MB/s]\r 47%|####6     | 3.41G/7.30G [00:29<00:51, 81.4MB/s]\r 47%|####6     | 3.41G/7.30G [00:29<00:52, 80.1MB/s]\r 47%|####6     | 3.42G/7.30G [00:30<00:54, 75.9MB/s]\r 47%|####6     | 3.43G/7.30G [00:30<00:56, 73.5MB/s]\r 47%|####7     | 3.44G/7.30G [00:30<00:56, 72.7MB/s]\r 47%|####7     | 3.44G/7.30G [00:30<00:58, 71.1MB/s]\r 47%|####7     | 3.45G/7.30G [00:30<00:58, 70.9MB/s]\r 47%|####7     | 3.46G/7.30G [00:30<00:58, 70.8MB/s]\r 48%|####7     | 3.47G/7.30G [00:30<00:58, 70.9MB/s]\r 48%|####7     | 3.47G/7.30G [00:30<00:57, 71.5MB/s]\r 48%|####7     | 3.48G/7.30G [00:30<00:58, 70.6MB/s]\r 48%|####7     | 3.49G/7.30G [00:31<00:58, 70.4MB/s]\r 48%|####7     | 3.50G/7.30G [00:31<00:58, 70.3MB/s]\r 48%|####7     | 3.50G/7.30G [00:31<00:58, 70.1MB/s]\r 48%|####8     | 3.51G/7.30G [00:31<00:59, 68.5MB/s]\r 48%|####8     | 3.52G/7.30G [00:31<01:00, 67.4MB/s]\r 48%|####8     | 3.52G/7.30G [00:31<00:59, 68.1MB/s]\r 48%|####8     | 3.53G/7.30G [00:31<01:02, 65.2MB/s]\r 48%|####8     | 3.54G/7.30G [00:31<01:01, 65.2MB/s]\r 49%|####8     | 3.54G/7.30G [00:31<01:05, 62.0MB/s]\r 49%|####8     | 3.55G/7.30G [00:32<01:05, 61.4MB/s]\r 49%|####8     | 3.55G/7.30G [00:32<01:10, 56.8MB/s]\r 49%|####8     | 3.56G/7.30G [00:32<01:12, 55.2MB/s]\r 49%|####8     | 3.57G/7.30G [00:32<01:17, 51.7MB/s]\r 49%|####8     | 3.57G/7.30G [00:32<01:14, 53.6MB/s]\r 49%|####9     | 3.58G/7.30G [00:32<01:11, 55.7MB/s]\r 49%|####9     | 3.58G/7.30G [00:32<01:13, 54.5MB/s]\r 49%|####9     | 3.59G/7.30G [00:32<01:12, 55.0MB/s]\r 49%|####9     | 3.60G/7.30G [00:33<01:05, 60.9MB/s]\r 49%|####9     | 3.61G/7.30G [00:33<00:56, 70.0MB/s]\r 50%|####9     | 3.63G/7.30G [00:33<00:45, 86.7MB/s]\r 50%|####9     | 3.65G/7.30G [00:33<00:37, 105MB/s] \r 50%|#####     | 3.66G/7.30G [00:33<00:35, 110MB/s]\r 50%|#####     | 3.67G/7.30G [00:33<00:33, 116MB/s]\r 51%|#####     | 3.69G/7.30G [00:33<00:40, 96.8MB/s]\r 51%|#####     | 3.70G/7.30G [00:33<00:43, 89.0MB/s]\r 51%|#####     | 3.71G/7.30G [00:34<00:45, 85.2MB/s]\r 51%|#####     | 3.72G/7.30G [00:34<00:48, 78.8MB/s]\r 51%|#####1    | 3.73G/7.30G [00:34<00:50, 75.7MB/s]\r 51%|#####1    | 3.73G/7.30G [00:34<00:51, 73.8MB/s]\r 51%|#####1    | 3.74G/7.30G [00:34<00:52, 72.2MB/s]\r 51%|#####1    | 3.75G/7.30G [00:34<00:53, 70.8MB/s]\r 51%|#####1    | 3.76G/7.30G [00:34<00:55, 68.1MB/s]\r 52%|#####1    | 3.76G/7.30G [00:34<00:57, 66.1MB/s]\r 52%|#####1    | 3.77G/7.30G [00:35<01:01, 61.7MB/s]\r 52%|#####1    | 3.78G/7.30G [00:35<01:02, 60.6MB/s]\r 52%|#####1    | 3.78G/7.30G [00:35<01:05, 57.9MB/s]\r 52%|#####1    | 3.79G/7.30G [00:35<01:05, 57.6MB/s]\r 52%|#####1    | 3.79G/7.30G [00:35<01:09, 54.0MB/s]\r 52%|#####2    | 3.80G/7.30G [00:35<01:13, 50.8MB/s]\r 52%|#####2    | 3.81G/7.30G [00:35<01:08, 55.0MB/s]\r 52%|#####2    | 3.81G/7.30G [00:35<01:06, 56.4MB/s]\r 52%|#####2    | 3.82G/7.30G [00:36<01:04, 58.2MB/s]\r 52%|#####2    | 3.83G/7.30G [00:36<01:03, 58.5MB/s]\r 53%|#####2    | 3.83G/7.30G [00:36<01:03, 58.4MB/s]\r 53%|#####2    | 3.84G/7.30G [00:36<01:04, 57.9MB/s]\r 53%|#####2    | 3.85G/7.30G [00:36<00:59, 62.6MB/s]\r 53%|#####3    | 3.87G/7.30G [00:36<00:46, 79.5MB/s]\r 53%|#####3    | 3.88G/7.30G [00:36<00:45, 79.8MB/s]\r 53%|#####3    | 3.90G/7.30G [00:36<00:42, 86.6MB/s]\r 54%|#####3    | 3.92G/7.30G [00:37<00:35, 102MB/s] \r 54%|#####3    | 3.93G/7.30G [00:37<00:31, 114MB/s]\r 54%|#####4    | 3.94G/7.30G [00:37<00:31, 115MB/s]\r 54%|#####4    | 3.96G/7.30G [00:37<00:36, 98.1MB/s]\r 54%|#####4    | 3.97G/7.30G [00:37<00:39, 89.7MB/s]\r 54%|#####4    | 3.98G/7.30G [00:37<00:43, 81.4MB/s]\r 55%|#####4    | 3.99G/7.30G [00:37<00:45, 78.3MB/s]\r 55%|#####4    | 3.99G/7.30G [00:38<00:47, 74.0MB/s]\r 55%|#####4    | 4.00G/7.30G [00:38<00:51, 69.3MB/s]\r 55%|#####4    | 4.01G/7.30G [00:38<00:53, 65.7MB/s]\r 55%|#####5    | 4.02G/7.30G [00:38<00:55, 63.3MB/s]\r 55%|#####5    | 4.02G/7.30G [00:38<00:59, 58.7MB/s]\r 55%|#####5    | 4.03G/7.30G [00:38<01:02, 56.1MB/s]\r 55%|#####5    | 4.04G/7.30G [00:38<01:05, 53.4MB/s]\r 55%|#####5    | 4.04G/7.30G [00:39<01:09, 50.2MB/s]\r 55%|#####5    | 4.05G/7.30G [00:39<01:00, 57.3MB/s]\r 56%|#####5    | 4.07G/7.30G [00:39<00:47, 73.5MB/s]\r 56%|#####5    | 4.08G/7.30G [00:39<00:51, 66.5MB/s]\r 56%|#####6    | 4.09G/7.30G [00:39<00:44, 76.5MB/s]\r 56%|#####6    | 4.11G/7.30G [00:39<00:39, 86.2MB/s]\r 57%|#####6    | 4.12G/7.30G [00:39<00:33, 103MB/s] \r 57%|#####6    | 4.15G/7.30G [00:39<00:27, 123MB/s]\r 57%|#####7    | 4.17G/7.30G [00:40<00:40, 82.4MB/s]\r 57%|#####7    | 4.18G/7.30G [00:40<00:43, 76.7MB/s]\r 57%|#####7    | 4.19G/7.30G [00:40<00:44, 74.5MB/s]\r 58%|#####7    | 4.20G/7.30G [00:40<00:45, 73.7MB/s]\r 58%|#####7    | 4.21G/7.30G [00:40<00:45, 72.3MB/s]\r 58%|#####7    | 4.21G/7.30G [00:41<00:47, 69.8MB/s]\r 58%|#####7    | 4.22G/7.30G [00:41<00:48, 67.8MB/s]\r 58%|#####7    | 4.23G/7.30G [00:41<00:50, 65.3MB/s]\r 58%|#####8    | 4.24G/7.30G [00:41<00:50, 64.5MB/s]\r 58%|#####8    | 4.24G/7.30G [00:41<00:53, 61.4MB/s]\r 58%|#####8    | 4.25G/7.30G [00:41<00:56, 58.3MB/s]\r 58%|#####8    | 4.25G/7.30G [00:41<00:57, 56.4MB/s]\r 58%|#####8    | 4.26G/7.30G [00:41<01:00, 54.1MB/s]\r 58%|#####8    | 4.27G/7.30G [00:42<01:02, 52.1MB/s]\r 59%|#####8    | 4.27G/7.30G [00:42<01:02, 51.8MB/s]\r 59%|#####8    | 4.28G/7.30G [00:42<01:00, 53.8MB/s]\r 59%|#####8    | 4.29G/7.30G [00:42<00:47, 67.8MB/s]\r 59%|#####8    | 4.31G/7.30G [00:42<00:44, 72.7MB/s]\r 59%|#####9    | 4.32G/7.30G [00:42<00:36, 86.7MB/s]\r 59%|#####9    | 4.33G/7.30G [00:42<00:40, 79.0MB/s]\r 60%|#####9    | 4.35G/7.30G [00:42<00:33, 93.9MB/s]\r 60%|#####9    | 4.36G/7.30G [00:42<00:30, 105MB/s] \r 60%|#####9    | 4.38G/7.30G [00:43<00:25, 122MB/s]\r 60%|######    | 4.40G/7.30G [00:43<00:24, 126MB/s]\r 61%|######    | 4.42G/7.30G [00:43<00:21, 145MB/s]\r 61%|######    | 4.43G/7.30G [00:43<00:21, 146MB/s]\r 61%|######1   | 4.46G/7.30G [00:43<00:18, 165MB/s]\r 61%|######1   | 4.47G/7.30G [00:43<00:19, 155MB/s]\r 62%|######1   | 4.49G/7.30G [00:43<00:25, 120MB/s]\r 62%|######1   | 4.50G/7.30G [00:44<00:29, 103MB/s]\r 62%|######1   | 4.52G/7.30G [00:44<00:31, 94.6MB/s]\r 62%|######2   | 4.53G/7.30G [00:44<00:33, 88.5MB/s]\r 62%|######2   | 4.54G/7.30G [00:44<00:35, 83.3MB/s]\r 62%|######2   | 4.54G/7.30G [00:44<00:36, 82.0MB/s]\r 62%|######2   | 4.55G/7.30G [00:44<00:37, 78.8MB/s]\r 63%|######2   | 4.56G/7.30G [00:44<00:36, 80.2MB/s]\r 63%|######2   | 4.57G/7.30G [00:45<00:36, 79.2MB/s]\r 63%|######2   | 4.58G/7.30G [00:45<00:37, 78.7MB/s]\r 63%|######2   | 4.58G/7.30G [00:45<00:37, 78.2MB/s]\r 63%|######2   | 4.59G/7.30G [00:45<00:37, 77.6MB/s]\r 63%|######3   | 4.60G/7.30G [00:45<00:37, 77.2MB/s]\r 63%|######3   | 4.61G/7.30G [00:45<00:38, 75.5MB/s]\r 63%|######3   | 4.62G/7.30G [00:45<00:38, 74.3MB/s]\r 63%|######3   | 4.62G/7.30G [00:45<00:39, 72.9MB/s]\r 63%|######3   | 4.63G/7.30G [00:45<00:40, 71.0MB/s]\r 64%|######3   | 4.64G/7.30G [00:46<00:40, 70.5MB/s]\r 64%|######3   | 4.64G/7.30G [00:46<00:40, 70.7MB/s]\r 64%|######3   | 4.65G/7.30G [00:46<00:41, 69.1MB/s]\r 64%|######3   | 4.66G/7.30G [00:46<00:41, 67.6MB/s]\r 64%|######3   | 4.67G/7.30G [00:46<00:41, 67.9MB/s]\r 64%|######4   | 4.67G/7.30G [00:46<00:42, 65.9MB/s]\r 64%|######4   | 4.68G/7.30G [00:46<00:43, 64.3MB/s]\r 64%|######4   | 4.69G/7.30G [00:46<00:43, 63.8MB/s]\r 64%|######4   | 4.69G/7.30G [00:46<00:44, 62.6MB/s]\r 64%|######4   | 4.70G/7.30G [00:47<00:45, 61.4MB/s]\r 64%|######4   | 4.70G/7.30G [00:47<00:47, 58.9MB/s]\r 65%|######4   | 4.71G/7.30G [00:47<00:48, 57.1MB/s]\r 65%|######4   | 4.72G/7.30G [00:47<00:50, 55.0MB/s]\r 65%|######4   | 4.72G/7.30G [00:47<00:52, 52.6MB/s]\r 65%|######4   | 4.73G/7.30G [00:47<00:54, 50.3MB/s]\r 65%|######4   | 4.73G/7.30G [00:47<00:57, 47.7MB/s]\r 65%|######4   | 4.74G/7.30G [00:47<01:02, 43.9MB/s]\r 65%|######4   | 4.74G/7.30G [00:48<01:05, 41.8MB/s]\r 65%|######5   | 4.75G/7.30G [00:48<02:54, 15.7MB/s]\r 65%|######5   | 4.77G/7.30G [00:49<02:06, 21.5MB/s]\r 65%|######5   | 4.77G/7.30G [00:49<01:41, 26.8MB/s]\r 65%|######5   | 4.78G/7.30G [00:49<01:23, 32.4MB/s]\r 66%|######5   | 4.79G/7.30G [00:49<01:06, 40.2MB/s]\r 66%|######5   | 4.81G/7.30G [00:49<00:52, 50.6MB/s]\r 66%|######6   | 4.82G/7.30G [00:49<00:42, 62.4MB/s]\r 66%|######6   | 4.83G/7.30G [00:49<00:38, 69.7MB/s]\r 66%|######6   | 4.84G/7.30G [00:49<00:37, 70.9MB/s]\r 66%|######6   | 4.85G/7.30G [00:49<00:36, 71.1MB/s]\r 67%|######6   | 4.86G/7.30G [00:50<00:33, 78.7MB/s]\r 67%|######6   | 4.87G/7.30G [00:50<00:33, 77.7MB/s]\r 67%|######6   | 4.88G/7.30G [00:50<00:27, 93.0MB/s]\r 67%|######7   | 4.90G/7.30G [00:50<00:24, 103MB/s] \r 67%|######7   | 4.92G/7.30G [00:50<00:23, 108MB/s]\r 68%|######7   | 4.93G/7.30G [00:50<00:20, 125MB/s]\r 68%|######7   | 4.95G/7.30G [00:50<00:21, 116MB/s]\r 68%|######7   | 4.96G/7.30G [00:50<00:20, 122MB/s]\r 68%|######8   | 4.97G/7.30G [00:51<00:26, 95.1MB/s]\r 68%|######8   | 4.98G/7.30G [00:51<00:30, 80.4MB/s]\r 68%|######8   | 4.99G/7.30G [00:51<00:35, 70.0MB/s]\r 69%|######8   | 5.00G/7.30G [00:51<00:38, 64.6MB/s]\r 69%|######8   | 5.01G/7.30G [00:51<00:33, 72.9MB/s]\r 69%|######8   | 5.02G/7.30G [00:51<00:31, 76.5MB/s]\r 69%|######8   | 5.03G/7.30G [00:52<00:29, 82.4MB/s]\r 69%|######9   | 5.04G/7.30G [00:52<00:28, 84.8MB/s]\r 69%|######9   | 5.05G/7.30G [00:52<00:28, 85.5MB/s]\r 69%|######9   | 5.06G/7.30G [00:52<00:28, 84.1MB/s]\r 69%|######9   | 5.07G/7.30G [00:52<00:28, 85.0MB/s]\r 70%|######9   | 5.07G/7.30G [00:52<00:28, 83.6MB/s]\r 70%|######9   | 5.08G/7.30G [00:52<00:29, 80.0MB/s]\r 70%|######9   | 5.09G/7.30G [00:52<00:30, 78.4MB/s]\r 70%|######9   | 5.10G/7.30G [00:52<00:31, 75.4MB/s]\r 70%|######9   | 5.11G/7.30G [00:53<00:32, 73.5MB/s]\r 70%|#######   | 5.11G/7.30G [00:53<00:33, 70.6MB/s]\r 70%|#######   | 5.12G/7.30G [00:53<00:33, 69.7MB/s]\r 70%|#######   | 5.13G/7.30G [00:53<00:35, 65.9MB/s]\r 70%|#######   | 5.13G/7.30G [00:53<00:37, 62.7MB/s]\r 70%|#######   | 5.14G/7.30G [00:53<00:36, 62.7MB/s]\r 71%|#######   | 5.15G/7.30G [00:53<00:34, 67.8MB/s]\r 71%|#######   | 5.17G/7.30G [00:53<00:27, 82.7MB/s]\r 71%|#######   | 5.18G/7.30G [00:53<00:23, 97.4MB/s]\r 71%|#######1  | 5.20G/7.30G [00:54<00:20, 108MB/s] \r 71%|#######1  | 5.21G/7.30G [00:54<00:17, 124MB/s]\r 72%|#######1  | 5.24G/7.30G [00:54<00:17, 129MB/s]\r 72%|#######1  | 5.25G/7.30G [00:54<00:27, 80.7MB/s]\r 72%|#######2  | 5.28G/7.30G [00:54<00:20, 104MB/s] \r 73%|#######2  | 5.30G/7.30G [00:55<00:24, 88.9MB/s]\r 73%|#######2  | 5.31G/7.30G [00:55<00:26, 80.9MB/s]\r 73%|#######2  | 5.32G/7.30G [00:55<00:28, 74.7MB/s]\r 73%|#######3  | 5.33G/7.30G [00:55<00:29, 72.0MB/s]\r 73%|#######3  | 5.34G/7.30G [00:55<00:29, 71.8MB/s]\r 73%|#######3  | 5.35G/7.30G [00:55<00:29, 70.0MB/s]\r 73%|#######3  | 5.36G/7.30G [00:56<00:29, 69.8MB/s]\r 74%|#######3  | 5.37G/7.30G [00:56<00:29, 70.3MB/s]\r 74%|#######3  | 5.37G/7.30G [00:56<00:29, 70.2MB/s]\r 74%|#######3  | 5.38G/7.30G [00:56<00:29, 69.9MB/s]\r 74%|#######3  | 5.39G/7.30G [00:56<00:30, 68.0MB/s]\r 74%|#######3  | 5.39G/7.30G [00:56<00:30, 67.9MB/s]\r 74%|#######4  | 5.40G/7.30G [00:56<00:30, 65.8MB/s]\r 74%|#######4  | 5.41G/7.30G [00:56<00:31, 64.4MB/s]\r 74%|#######4  | 5.42G/7.30G [00:57<00:31, 64.0MB/s]\r 74%|#######4  | 5.42G/7.30G [00:57<00:32, 61.5MB/s]\r 74%|#######4  | 5.43G/7.30G [00:57<00:33, 60.7MB/s]\r 74%|#######4  | 5.43G/7.30G [00:57<00:33, 59.2MB/s]\r 75%|#######4  | 5.44G/7.30G [00:57<00:36, 55.1MB/s]\r 75%|#######4  | 5.45G/7.30G [00:57<00:37, 53.4MB/s]\r 75%|#######4  | 5.45G/7.30G [00:57<00:38, 51.7MB/s]\r 75%|#######4  | 5.46G/7.30G [00:57<00:35, 54.9MB/s]\r 75%|#######4  | 5.47G/7.30G [00:57<00:30, 63.6MB/s]\r 75%|#######5  | 5.49G/7.30G [00:58<00:23, 81.9MB/s]\r 75%|#######5  | 5.50G/7.30G [00:58<00:22, 84.2MB/s]\r 76%|#######5  | 5.51G/7.30G [00:58<00:21, 90.5MB/s]\r 76%|#######5  | 5.52G/7.30G [00:58<00:21, 90.1MB/s]\r 76%|#######6  | 5.55G/7.30G [00:58<00:17, 108MB/s] \r 76%|#######6  | 5.56G/7.30G [00:58<00:17, 109MB/s]\r 76%|#######6  | 5.57G/7.30G [00:58<00:17, 106MB/s]\r 77%|#######6  | 5.58G/7.30G [00:58<00:19, 96.1MB/s]\r 77%|#######6  | 5.61G/7.30G [00:59<00:15, 117MB/s] \r 77%|#######7  | 5.62G/7.30G [00:59<00:14, 128MB/s]\r 77%|#######7  | 5.64G/7.30G [00:59<00:14, 124MB/s]\r 77%|#######7  | 5.65G/7.30G [00:59<00:15, 115MB/s]\r 78%|#######7  | 5.66G/7.30G [01:00<00:35, 49.3MB/s]\r 78%|#######7  | 5.69G/7.30G [01:00<00:27, 62.9MB/s]\r 78%|#######8  | 5.71G/7.30G [01:00<00:21, 79.8MB/s]\r 78%|#######8  | 5.72G/7.30G [01:00<00:22, 73.7MB/s]\r 79%|#######8  | 5.74G/7.30G [01:00<00:18, 89.1MB/s]\r 79%|#######8  | 5.75G/7.30G [01:00<00:21, 78.4MB/s]\r 79%|#######9  | 5.77G/7.30G [01:01<00:19, 82.2MB/s]\r 79%|#######9  | 5.79G/7.30G [01:01<00:16, 101MB/s] \r 79%|#######9  | 5.80G/7.30G [01:01<00:18, 88.6MB/s]\r 80%|#######9  | 5.81G/7.30G [01:01<00:22, 69.5MB/s]\r 80%|#######9  | 5.82G/7.30G [01:01<00:25, 63.0MB/s]\r 80%|#######9  | 5.83G/7.30G [01:02<00:26, 58.8MB/s]\r 80%|#######9  | 5.84G/7.30G [01:02<00:27, 56.0MB/s]\r 80%|########  | 5.84G/7.30G [01:02<00:28, 54.0MB/s]\r 80%|########  | 5.85G/7.30G [01:02<00:30, 51.2MB/s]\r 80%|########  | 5.86G/7.30G [01:02<00:31, 49.4MB/s]\r 80%|########  | 5.86G/7.30G [01:02<00:32, 47.4MB/s]\r 80%|########  | 5.87G/7.30G [01:02<00:34, 44.4MB/s]\r 80%|########  | 5.87G/7.30G [01:03<00:36, 41.8MB/s]\r 81%|########  | 5.88G/7.30G [01:03<00:34, 43.8MB/s]\r 81%|########  | 5.88G/7.30G [01:03<00:30, 49.7MB/s]\r 81%|########  | 5.89G/7.30G [01:03<00:26, 56.2MB/s]\r 81%|########  | 5.90G/7.30G [01:03<00:24, 60.4MB/s]\r 81%|########  | 5.91G/7.30G [01:03<00:24, 62.2MB/s]\r 81%|########1 | 5.91G/7.30G [01:03<00:23, 64.3MB/s]\r 81%|########1 | 5.92G/7.30G [01:03<00:22, 65.0MB/s]\r 81%|########1 | 5.93G/7.30G [01:03<00:22, 65.2MB/s]\r 81%|########1 | 5.93G/7.30G [01:04<00:23, 61.7MB/s]\r 81%|########1 | 5.94G/7.30G [01:04<00:23, 60.9MB/s]\r 81%|########1 | 5.95G/7.30G [01:04<00:24, 59.1MB/s]\r 82%|########1 | 5.95G/7.30G [01:04<00:24, 59.5MB/s]\r 82%|########1 | 5.96G/7.30G [01:04<00:41, 35.0MB/s]\r 82%|########1 | 5.98G/7.30G [01:04<00:30, 46.4MB/s]\r 82%|########2 | 5.99G/7.30G [01:04<00:26, 53.1MB/s]\r 82%|########2 | 6.00G/7.30G [01:05<00:25, 54.6MB/s]\r 82%|########2 | 6.01G/7.30G [01:05<00:21, 64.8MB/s]\r 82%|########2 | 6.01G/7.30G [01:05<00:19, 69.1MB/s]\r 83%|########2 | 6.02G/7.30G [01:05<00:21, 63.5MB/s]\r 83%|########2 | 6.04G/7.30G [01:05<00:19, 70.7MB/s]\r 83%|########3 | 6.06G/7.30G [01:05<00:14, 89.7MB/s]\r 83%|########3 | 6.08G/7.30G [01:05<00:12, 103MB/s] \r 83%|########3 | 6.09G/7.30G [01:06<00:15, 81.0MB/s]\r 84%|########3 | 6.10G/7.30G [01:06<00:18, 69.1MB/s]\r 84%|########3 | 6.11G/7.30G [01:06<00:19, 64.5MB/s]\r 84%|########3 | 6.12G/7.30G [01:06<00:19, 64.2MB/s]\r 84%|########3 | 6.13G/7.30G [01:06<00:19, 64.9MB/s]\r 84%|########4 | 6.14G/7.30G [01:07<00:19, 63.8MB/s]\r 84%|########4 | 6.14G/7.30G [01:07<00:19, 62.9MB/s]\r 84%|########4 | 6.15G/7.30G [01:07<00:18, 66.7MB/s]\r 84%|########4 | 6.17G/7.30G [01:07<00:15, 80.1MB/s]\r 85%|########4 | 6.18G/7.30G [01:07<00:13, 89.7MB/s]\r 85%|########4 | 6.20G/7.30G [01:07<00:12, 98.5MB/s]\r 85%|########5 | 6.22G/7.30G [01:07<00:09, 117MB/s] \r 85%|########5 | 6.23G/7.30G [01:07<00:09, 122MB/s]\r 86%|########5 | 6.25G/7.30G [01:07<00:08, 140MB/s]\r 86%|########5 | 6.27G/7.30G [01:08<00:07, 146MB/s]\r 86%|########6 | 6.29G/7.30G [01:08<00:06, 165MB/s]\r 86%|########6 | 6.31G/7.30G [01:08<00:06, 176MB/s]\r 87%|########6 | 6.33G/7.30G [01:08<00:05, 174MB/s]\r 87%|########6 | 6.35G/7.30G [01:08<00:08, 122MB/s]\r 87%|########7 | 6.36G/7.30G [01:08<00:11, 87.9MB/s]\r 87%|########7 | 6.37G/7.30G [01:09<00:22, 43.4MB/s]\r 88%|########7 | 6.40G/7.30G [01:09<00:17, 56.1MB/s]\r 88%|########7 | 6.42G/7.30G [01:09<00:13, 69.6MB/s]\r 88%|########8 | 6.43G/7.30G [01:09<00:10, 86.7MB/s]\r 88%|########8 | 6.45G/7.30G [01:10<00:10, 85.4MB/s]\r 89%|########8 | 6.46G/7.30G [01:10<00:12, 73.7MB/s]\r 89%|########8 | 6.47G/7.30G [01:10<00:12, 68.3MB/s]\r 89%|########8 | 6.48G/7.30G [01:10<00:13, 64.5MB/s]\r 89%|########8 | 6.49G/7.30G [01:10<00:14, 61.6MB/s]\r 89%|########9 | 6.50G/7.30G [01:11<00:14, 60.5MB/s]\r 89%|########9 | 6.50G/7.30G [01:11<00:14, 59.4MB/s]\r 89%|########9 | 6.51G/7.30G [01:11<00:14, 57.8MB/s]\r 89%|########9 | 6.52G/7.30G [01:11<00:15, 55.8MB/s]\r 89%|########9 | 6.52G/7.30G [01:11<00:15, 54.9MB/s]\r 89%|########9 | 6.53G/7.30G [01:11<00:15, 52.5MB/s]\r 90%|########9 | 6.53G/7.30G [01:11<00:16, 51.1MB/s]\r 90%|########9 | 6.54G/7.30G [01:11<00:16, 50.1MB/s]\r 90%|########9 | 6.54G/7.30G [01:12<00:17, 46.9MB/s]\r 90%|########9 | 6.55G/7.30G [01:12<00:18, 44.2MB/s]\r 90%|########9 | 6.56G/7.30G [01:12<00:17, 46.7MB/s]\r 90%|########9 | 6.56G/7.30G [01:12<00:14, 53.5MB/s]\r 90%|######### | 6.57G/7.30G [01:12<00:13, 58.0MB/s]\r 90%|######### | 6.58G/7.30G [01:12<00:12, 62.7MB/s]\r 90%|######### | 6.59G/7.30G [01:12<00:11, 65.2MB/s]\r 90%|######### | 6.59G/7.30G [01:12<00:11, 66.5MB/s]\r 90%|######### | 6.60G/7.30G [01:12<00:11, 66.6MB/s]\r 91%|######### | 6.61G/7.30G [01:13<00:11, 66.6MB/s]\r 91%|######### | 6.62G/7.30G [01:13<00:11, 65.8MB/s]\r 91%|######### | 6.62G/7.30G [01:13<00:11, 64.1MB/s]\r 91%|######### | 6.63G/7.30G [01:13<00:11, 63.1MB/s]\r 91%|######### | 6.64G/7.30G [01:13<00:11, 61.7MB/s]\r 91%|#########1| 6.64G/7.30G [01:13<00:12, 58.6MB/s]\r 91%|#########1| 6.65G/7.30G [01:13<00:11, 58.5MB/s]\r 91%|#########1| 6.65G/7.30G [01:13<00:12, 56.5MB/s]\r 91%|#########1| 6.66G/7.30G [01:14<00:12, 57.0MB/s]\r 91%|#########1| 6.67G/7.30G [01:14<00:11, 57.3MB/s]\r 92%|#########1| 6.68G/7.30G [01:14<00:09, 70.7MB/s]\r 92%|#########1| 6.70G/7.30G [01:14<00:08, 79.4MB/s]\r 92%|#########1| 6.71G/7.30G [01:14<00:06, 93.0MB/s]\r 92%|#########2| 6.72G/7.30G [01:14<00:07, 77.7MB/s]\r 92%|#########2| 6.73G/7.30G [01:14<00:07, 86.0MB/s]\r 92%|#########2| 6.74G/7.30G [01:14<00:06, 88.8MB/s]\r 93%|#########2| 6.76G/7.30G [01:15<00:05, 107MB/s] \r 93%|#########2| 6.78G/7.30G [01:15<00:05, 111MB/s]\r 93%|#########3| 6.79G/7.30G [01:15<00:04, 116MB/s]\r 93%|#########3| 6.81G/7.30G [01:15<00:03, 134MB/s]\r 94%|#########3| 6.83G/7.30G [01:15<00:03, 145MB/s]\r 94%|#########3| 6.84G/7.30G [01:15<00:05, 91.7MB/s]\r 94%|#########3| 6.86G/7.30G [01:16<00:06, 77.0MB/s]\r 94%|#########4| 6.87G/7.30G [01:16<00:06, 68.7MB/s]\r 94%|#########4| 6.88G/7.30G [01:16<00:07, 62.1MB/s]\r 94%|#########4| 6.88G/7.30G [01:16<00:07, 59.3MB/s]\r 94%|#########4| 6.89G/7.30G [01:16<00:08, 53.8MB/s]\r 94%|#########4| 6.90G/7.30G [01:16<00:08, 51.0MB/s]\r 95%|#########4| 6.90G/7.30G [01:17<00:09, 47.1MB/s]\r 95%|#########4| 6.91G/7.30G [01:17<00:09, 46.1MB/s]\r 95%|#########4| 6.91G/7.30G [01:17<00:08, 46.9MB/s]\r 95%|#########4| 6.92G/7.30G [01:17<00:07, 52.5MB/s]\r 95%|#########5| 6.94G/7.30G [01:17<00:06, 62.6MB/s]\r 95%|#########5| 6.95G/7.30G [01:17<00:05, 74.5MB/s]\r 95%|#########5| 6.96G/7.30G [01:17<00:04, 77.7MB/s]\r 96%|#########5| 6.98G/7.30G [01:17<00:03, 93.3MB/s]\r 96%|#########5| 7.00G/7.30G [01:18<00:02, 110MB/s] \r 96%|#########6| 7.02G/7.30G [01:18<00:02, 130MB/s]\r 96%|#########6| 7.04G/7.30G [01:18<00:01, 147MB/s]\r 97%|#########6| 7.06G/7.30G [01:18<00:01, 155MB/s]\r 97%|#########6| 7.08G/7.30G [01:18<00:01, 170MB/s]\r 97%|#########7| 7.09G/7.30G [01:18<00:01, 176MB/s]\r 97%|#########7| 7.11G/7.30G [01:18<00:01, 106MB/s]\r 98%|#########7| 7.13G/7.30G [01:19<00:02, 85.1MB/s]\r 98%|#########7| 7.14G/7.30G [01:19<00:02, 76.5MB/s]\r 98%|#########7| 7.15G/7.30G [01:19<00:02, 73.0MB/s]\r 98%|#########8| 7.16G/7.30G [01:19<00:02, 69.1MB/s]\r 98%|#########8| 7.17G/7.30G [01:19<00:02, 70.0MB/s]\r 98%|#########8| 7.17G/7.30G [01:19<00:02, 65.8MB/s]\r 98%|#########8| 7.18G/7.30G [01:20<00:01, 72.1MB/s]\r 99%|#########8| 7.19G/7.30G [01:20<00:01, 71.8MB/s]\r 99%|#########8| 7.20G/7.30G [01:20<00:01, 68.5MB/s]\r 99%|#########8| 7.21G/7.30G [01:20<00:01, 69.5MB/s]\r 99%|#########8| 7.21G/7.30G [01:20<00:01, 69.2MB/s]\r 99%|#########8| 7.22G/7.30G [01:20<00:01, 65.6MB/s]\r 99%|#########9| 7.23G/7.30G [01:20<00:01, 66.2MB/s]\r 99%|#########9| 7.23G/7.30G [01:20<00:01, 64.5MB/s]\r 99%|#########9| 7.24G/7.30G [01:21<00:00, 64.1MB/s]\r 99%|#########9| 7.25G/7.30G [01:21<00:00, 62.1MB/s]\r 99%|#########9| 7.25G/7.30G [01:21<00:00, 61.9MB/s]\r 99%|#########9| 7.26G/7.30G [01:21<00:00, 59.9MB/s]\r100%|#########9| 7.26G/7.30G [01:21<00:00, 58.6MB/s]\r100%|#########9| 7.27G/7.30G [01:21<00:00, 57.5MB/s]\r100%|#########9| 7.28G/7.30G [01:21<00:00, 55.3MB/s]\r100%|#########9| 7.28G/7.30G [01:21<00:00, 56.4MB/s]\r100%|#########9| 7.29G/7.30G [01:21<00:00, 51.5MB/s]\r100%|#########9| 7.29G/7.30G [01:22<00:00, 50.8MB/s]\r100%|##########| 7.30G/7.30G [01:22<00:00, 95.3MB/s]\n",
            "\r  0%|          | 0.00/11.1M [00:00<?, ?B/s]\r 45%|####5     | 5.00M/11.1M [00:00<00:00, 50.6MB/s]\r100%|##########| 11.1M/11.1M [00:00<00:00, 65.2MB/s]\n",
            "\r  0%|          | 0.00/2.17k [00:00<?, ?B/s]\r100%|##########| 2.17k/2.17k [00:00<00:00, 1.81MB/s]\n"
          ],
          "name": "stderr"
        }
      ]
    },
    {
      "cell_type": "code",
      "metadata": {
        "colab": {
          "base_uri": "https://localhost:8080/"
        },
        "id": "dNnF8LLQ6bl7",
        "outputId": "e34f2634-c399-4602-9e05-dfd39359904e"
      },
      "source": [
        "# hTorch library\n",
        "%%bash\n",
        "git clone https://github.com/giorgiozannini/hTorch.git # cloning my fork before merging with master\n",
        "cd hTorch\n",
        "python setup.py install\n",
        "cd .."
      ],
      "execution_count": 5,
      "outputs": [
        {
          "output_type": "stream",
          "text": [
            "running install\n",
            "running bdist_egg\n",
            "running egg_info\n",
            "creating htorch_giorgiozannini.egg-info\n",
            "writing htorch_giorgiozannini.egg-info/PKG-INFO\n",
            "writing dependency_links to htorch_giorgiozannini.egg-info/dependency_links.txt\n",
            "writing top-level names to htorch_giorgiozannini.egg-info/top_level.txt\n",
            "writing manifest file 'htorch_giorgiozannini.egg-info/SOURCES.txt'\n",
            "writing manifest file 'htorch_giorgiozannini.egg-info/SOURCES.txt'\n",
            "installing library code to build/bdist.linux-x86_64/egg\n",
            "running install_lib\n",
            "running build_py\n",
            "creating build\n",
            "creating build/lib\n",
            "creating build/lib/htorch\n",
            "copying htorch/layers.py -> build/lib/htorch\n",
            "copying htorch/quaternion.py -> build/lib/htorch\n",
            "copying htorch/utils.py -> build/lib/htorch\n",
            "copying htorch/functions.py -> build/lib/htorch\n",
            "copying htorch/__init__.py -> build/lib/htorch\n",
            "creating build/lib/tests\n",
            "copying tests/__init__.py -> build/lib/tests\n",
            "copying tests/quaternion_test.py -> build/lib/tests\n",
            "creating build/bdist.linux-x86_64\n",
            "creating build/bdist.linux-x86_64/egg\n",
            "creating build/bdist.linux-x86_64/egg/htorch\n",
            "copying build/lib/htorch/layers.py -> build/bdist.linux-x86_64/egg/htorch\n",
            "copying build/lib/htorch/quaternion.py -> build/bdist.linux-x86_64/egg/htorch\n",
            "copying build/lib/htorch/utils.py -> build/bdist.linux-x86_64/egg/htorch\n",
            "copying build/lib/htorch/functions.py -> build/bdist.linux-x86_64/egg/htorch\n",
            "copying build/lib/htorch/__init__.py -> build/bdist.linux-x86_64/egg/htorch\n",
            "creating build/bdist.linux-x86_64/egg/tests\n",
            "copying build/lib/tests/__init__.py -> build/bdist.linux-x86_64/egg/tests\n",
            "copying build/lib/tests/quaternion_test.py -> build/bdist.linux-x86_64/egg/tests\n",
            "byte-compiling build/bdist.linux-x86_64/egg/htorch/layers.py to layers.cpython-37.pyc\n",
            "byte-compiling build/bdist.linux-x86_64/egg/htorch/quaternion.py to quaternion.cpython-37.pyc\n",
            "byte-compiling build/bdist.linux-x86_64/egg/htorch/utils.py to utils.cpython-37.pyc\n",
            "byte-compiling build/bdist.linux-x86_64/egg/htorch/functions.py to functions.cpython-37.pyc\n",
            "byte-compiling build/bdist.linux-x86_64/egg/htorch/__init__.py to __init__.cpython-37.pyc\n",
            "byte-compiling build/bdist.linux-x86_64/egg/tests/__init__.py to __init__.cpython-37.pyc\n",
            "byte-compiling build/bdist.linux-x86_64/egg/tests/quaternion_test.py to quaternion_test.cpython-37.pyc\n",
            "creating build/bdist.linux-x86_64/egg/EGG-INFO\n",
            "copying htorch_giorgiozannini.egg-info/PKG-INFO -> build/bdist.linux-x86_64/egg/EGG-INFO\n",
            "copying htorch_giorgiozannini.egg-info/SOURCES.txt -> build/bdist.linux-x86_64/egg/EGG-INFO\n",
            "copying htorch_giorgiozannini.egg-info/dependency_links.txt -> build/bdist.linux-x86_64/egg/EGG-INFO\n",
            "copying htorch_giorgiozannini.egg-info/top_level.txt -> build/bdist.linux-x86_64/egg/EGG-INFO\n",
            "creating dist\n",
            "creating 'dist/htorch_giorgiozannini-0.0.1-py3.7.egg' and adding 'build/bdist.linux-x86_64/egg' to it\n",
            "removing 'build/bdist.linux-x86_64/egg' (and everything under it)\n",
            "Processing htorch_giorgiozannini-0.0.1-py3.7.egg\n",
            "Copying htorch_giorgiozannini-0.0.1-py3.7.egg to /usr/local/lib/python3.7/dist-packages\n",
            "Adding htorch-giorgiozannini 0.0.1 to easy-install.pth file\n",
            "\n",
            "Installed /usr/local/lib/python3.7/dist-packages/htorch_giorgiozannini-0.0.1-py3.7.egg\n",
            "Processing dependencies for htorch-giorgiozannini==0.0.1\n",
            "Finished processing dependencies for htorch-giorgiozannini==0.0.1\n"
          ],
          "name": "stdout"
        },
        {
          "output_type": "stream",
          "text": [
            "Cloning into 'hTorch'...\n",
            "zip_safe flag not set; analyzing archive contents...\n"
          ],
          "name": "stderr"
        }
      ]
    },
    {
      "cell_type": "code",
      "metadata": {
        "id": "OcucZ5RJ6rp_"
      },
      "source": [
        "sys.path.append('hTorch/')"
      ],
      "execution_count": 4,
      "outputs": []
    },
    {
      "cell_type": "markdown",
      "metadata": {
        "id": "cN9YZb2B62ge"
      },
      "source": [
        "# Hyperparameters\n",
        "\n"
      ]
    },
    {
      "cell_type": "code",
      "metadata": {
        "colab": {
          "base_uri": "https://localhost:8080/"
        },
        "id": "RGm1wCyn60No",
        "outputId": "d91fc279-791e-4828-9efe-efcb10582bc7"
      },
      "source": [
        "# hyperparameters settings\n",
        "!cat hTorch/qpsp/constants.py"
      ],
      "execution_count": 7,
      "outputs": [
        {
          "output_type": "stream",
          "text": [
            "# Dataset options\n",
            "BATCH_SIZE = 2\n",
            "SHUFFLE = False\n",
            "TRAIN_SPLIT = 0.6\n",
            "TEST_SPLIT = 0.5\n",
            "\n",
            "# Training options\n",
            "DEEP_SUPERVISION = False\n",
            "DATA_SIZE_TRAIN = 1000\n",
            "DATA_SIZE_VAL = 100\n",
            "DROPOUT = 0.1\n",
            "CLASSES = 10\n",
            "LAYERS = 101\n",
            "LR = 3e-4\n",
            "NUM_EPOCHS = 20\n",
            "ALPHA_AUX = 0\n",
            "\n",
            "# Loss parameters\n",
            "ALPHA = 0.7\n",
            "BETA = 0.3\n",
            "GAMMA = 0.75\n",
            "\n",
            "# CRF parameters\n",
            "MAX_ITER = 2\n",
            "POS_W = 3\n",
            "POS_XY_STD = 3\n",
            "BI_XY_STD = 3\n",
            "BI_RGB_STD = 3\n",
            "BI_W = 3"
          ],
          "name": "stdout"
        }
      ]
    },
    {
      "cell_type": "markdown",
      "metadata": {
        "id": "2h2EZNhrAE25"
      },
      "source": [
        "# Run"
      ]
    },
    {
      "cell_type": "code",
      "metadata": {
        "id": "vVw8O9JzHOIH"
      },
      "source": [
        "import pytorch_lightning as pl\n",
        "from qpsp.qpsp import PSPNet\n",
        "from qpsp.dstl_dataset import LitDSTL\n",
        "import torch"
      ],
      "execution_count": 208,
      "outputs": []
    },
    {
      "cell_type": "code",
      "metadata": {
        "colab": {
          "base_uri": "https://localhost:8080/"
        },
        "id": "UWmKFWF6AEYk",
        "outputId": "dd5678fb-372a-4fcf-965f-a6cc742419c1"
      },
      "source": [
        "device = torch.device(\"cuda:0\" if torch.cuda.is_available() else \"cpu\")\n",
        "\n",
        "model = PSPNet().to(device)\n",
        "dm = LitDSTL()\n",
        "trainer = pl.Trainer(gpus=1)"
      ],
      "execution_count": 209,
      "outputs": [
        {
          "output_type": "stream",
          "text": [
            "GPU available: True, used: True\n",
            "TPU available: False, using: 0 TPU cores\n"
          ],
          "name": "stderr"
        }
      ]
    },
    {
      "cell_type": "code",
      "metadata": {
        "colab": {
          "base_uri": "https://localhost:8080/",
          "height": 719,
          "referenced_widgets": [
            "96eaba66439a4aa985a4dc1e20764459",
            "1f10d399719d4a6cac6a1f2312a0389e",
            "30255bdef2b34d19b64c8c2a7f6da6e8",
            "9c4b0bcc3c1442d3be02e351cc3c6ad8",
            "3d83673d1fe7451f9ee9a46d437b9de7",
            "840a2eb40d104c8a9713a5e42441b766",
            "096dbdbcb9234213992a9dddc6062b35",
            "89cd0851ee9943449e135acc47563b45",
            "9d89891b972c4d44afde3ef04b165505",
            "c9db62d91a064dd78cdae0cf42f59341",
            "e279eedae4a644b7b45c4e4c141de033",
            "2c2c77477c6448ec9ebbff367bd49724",
            "4871380bfae543b38f16f9a26560a1e2",
            "bfeb1c548c8641c5a953dac7d7d65ca7",
            "eb851416c6a44a4cb5bf89d92d1e6610",
            "f9b2d0541a9c44d8a62acd4cbccce34d"
          ]
        },
        "id": "RlhJ5VFBI35_",
        "outputId": "0bdabe41-1eed-4932-abaf-a04da47f8b97"
      },
      "source": [
        "trainer.fit(model, dm)"
      ],
      "execution_count": 210,
      "outputs": [
        {
          "output_type": "stream",
          "text": [
            "LOCAL_RANK: 0 - CUDA_VISIBLE_DEVICES: [0]\n",
            "\n",
            "  | Name   | Type       | Params\n",
            "--------------------------------------\n",
            "0 | layer0 | Sequential | 115 K \n",
            "1 | layer1 | Sequential | 236 K \n",
            "2 | layer2 | Sequential | 1.2 M \n",
            "3 | layer3 | Sequential | 7.1 M \n",
            "4 | layer4 | Sequential | 15.0 M\n",
            "5 | ppm    | PPM        | 4.2 M \n",
            "6 | cls    | Sequential | 52.4 M\n",
            "7 | aux    | Sequential | 2.4 M \n",
            "--------------------------------------\n",
            "82.6 M    Trainable params\n",
            "0         Non-trainable params\n",
            "82.6 M    Total params\n",
            "330.522   Total estimated model params size (MB)\n"
          ],
          "name": "stderr"
        },
        {
          "output_type": "display_data",
          "data": {
            "application/vnd.jupyter.widget-view+json": {
              "model_id": "96eaba66439a4aa985a4dc1e20764459",
              "version_minor": 0,
              "version_major": 2
            },
            "text/plain": [
              "HBox(children=(FloatProgress(value=1.0, bar_style='info', description='Validation sanity check', layout=Layout…"
            ]
          },
          "metadata": {
            "tags": []
          }
        },
        {
          "output_type": "stream",
          "text": [
            "\r"
          ],
          "name": "stdout"
        },
        {
          "output_type": "display_data",
          "data": {
            "application/vnd.jupyter.widget-view+json": {
              "model_id": "9d89891b972c4d44afde3ef04b165505",
              "version_minor": 0,
              "version_major": 2
            },
            "text/plain": [
              "HBox(children=(FloatProgress(value=1.0, bar_style='info', description='Training', layout=Layout(flex='2'), max…"
            ]
          },
          "metadata": {
            "tags": []
          }
        },
        {
          "output_type": "stream",
          "text": [
            "/usr/local/lib/python3.7/dist-packages/pytorch_lightning/utilities/distributed.py:68: UserWarning: Detected KeyboardInterrupt, attempting graceful shutdown...\n",
            "  warnings.warn(*args, **kwargs)\n"
          ],
          "name": "stderr"
        },
        {
          "output_type": "error",
          "ename": "KeyboardInterrupt",
          "evalue": "ignored",
          "traceback": [
            "\u001b[0;31m---------------------------------------------------------------------------\u001b[0m",
            "\u001b[0;31mKeyboardInterrupt\u001b[0m                         Traceback (most recent call last)",
            "\u001b[0;32m<ipython-input-210-d47d1b932123>\u001b[0m in \u001b[0;36m<module>\u001b[0;34m()\u001b[0m\n\u001b[0;32m----> 1\u001b[0;31m \u001b[0mtrainer\u001b[0m\u001b[0;34m.\u001b[0m\u001b[0mfit\u001b[0m\u001b[0;34m(\u001b[0m\u001b[0mmodel\u001b[0m\u001b[0;34m,\u001b[0m \u001b[0mdm\u001b[0m\u001b[0;34m)\u001b[0m\u001b[0;34m\u001b[0m\u001b[0;34m\u001b[0m\u001b[0m\n\u001b[0m",
            "\u001b[0;32m/usr/local/lib/python3.7/dist-packages/pytorch_lightning/trainer/trainer.py\u001b[0m in \u001b[0;36mfit\u001b[0;34m(self, model, train_dataloader, val_dataloaders, datamodule)\u001b[0m\n\u001b[1;32m    497\u001b[0m \u001b[0;34m\u001b[0m\u001b[0m\n\u001b[1;32m    498\u001b[0m         \u001b[0;31m# dispath `start_training` or `start_testing` or `start_predicting`\u001b[0m\u001b[0;34m\u001b[0m\u001b[0;34m\u001b[0m\u001b[0;34m\u001b[0m\u001b[0m\n\u001b[0;32m--> 499\u001b[0;31m         \u001b[0mself\u001b[0m\u001b[0;34m.\u001b[0m\u001b[0mdispatch\u001b[0m\u001b[0;34m(\u001b[0m\u001b[0;34m)\u001b[0m\u001b[0;34m\u001b[0m\u001b[0;34m\u001b[0m\u001b[0m\n\u001b[0m\u001b[1;32m    500\u001b[0m \u001b[0;34m\u001b[0m\u001b[0m\n\u001b[1;32m    501\u001b[0m         \u001b[0;31m# plugin will finalized fitting (e.g. ddp_spawn will load trained model)\u001b[0m\u001b[0;34m\u001b[0m\u001b[0;34m\u001b[0m\u001b[0;34m\u001b[0m\u001b[0m\n",
            "\u001b[0;32m/usr/local/lib/python3.7/dist-packages/pytorch_lightning/trainer/trainer.py\u001b[0m in \u001b[0;36mdispatch\u001b[0;34m(self)\u001b[0m\n\u001b[1;32m    544\u001b[0m \u001b[0;34m\u001b[0m\u001b[0m\n\u001b[1;32m    545\u001b[0m         \u001b[0;32melse\u001b[0m\u001b[0;34m:\u001b[0m\u001b[0;34m\u001b[0m\u001b[0;34m\u001b[0m\u001b[0m\n\u001b[0;32m--> 546\u001b[0;31m             \u001b[0mself\u001b[0m\u001b[0;34m.\u001b[0m\u001b[0maccelerator\u001b[0m\u001b[0;34m.\u001b[0m\u001b[0mstart_training\u001b[0m\u001b[0;34m(\u001b[0m\u001b[0mself\u001b[0m\u001b[0;34m)\u001b[0m\u001b[0;34m\u001b[0m\u001b[0;34m\u001b[0m\u001b[0m\n\u001b[0m\u001b[1;32m    547\u001b[0m \u001b[0;34m\u001b[0m\u001b[0m\n\u001b[1;32m    548\u001b[0m     \u001b[0;32mdef\u001b[0m \u001b[0mtrain_or_test_or_predict\u001b[0m\u001b[0;34m(\u001b[0m\u001b[0mself\u001b[0m\u001b[0;34m)\u001b[0m\u001b[0;34m:\u001b[0m\u001b[0;34m\u001b[0m\u001b[0;34m\u001b[0m\u001b[0m\n",
            "\u001b[0;32m/usr/local/lib/python3.7/dist-packages/pytorch_lightning/accelerators/accelerator.py\u001b[0m in \u001b[0;36mstart_training\u001b[0;34m(self, trainer)\u001b[0m\n\u001b[1;32m     71\u001b[0m \u001b[0;34m\u001b[0m\u001b[0m\n\u001b[1;32m     72\u001b[0m     \u001b[0;32mdef\u001b[0m \u001b[0mstart_training\u001b[0m\u001b[0;34m(\u001b[0m\u001b[0mself\u001b[0m\u001b[0;34m,\u001b[0m \u001b[0mtrainer\u001b[0m\u001b[0;34m)\u001b[0m\u001b[0;34m:\u001b[0m\u001b[0;34m\u001b[0m\u001b[0;34m\u001b[0m\u001b[0m\n\u001b[0;32m---> 73\u001b[0;31m         \u001b[0mself\u001b[0m\u001b[0;34m.\u001b[0m\u001b[0mtraining_type_plugin\u001b[0m\u001b[0;34m.\u001b[0m\u001b[0mstart_training\u001b[0m\u001b[0;34m(\u001b[0m\u001b[0mtrainer\u001b[0m\u001b[0;34m)\u001b[0m\u001b[0;34m\u001b[0m\u001b[0;34m\u001b[0m\u001b[0m\n\u001b[0m\u001b[1;32m     74\u001b[0m \u001b[0;34m\u001b[0m\u001b[0m\n\u001b[1;32m     75\u001b[0m     \u001b[0;32mdef\u001b[0m \u001b[0mstart_testing\u001b[0m\u001b[0;34m(\u001b[0m\u001b[0mself\u001b[0m\u001b[0;34m,\u001b[0m \u001b[0mtrainer\u001b[0m\u001b[0;34m)\u001b[0m\u001b[0;34m:\u001b[0m\u001b[0;34m\u001b[0m\u001b[0;34m\u001b[0m\u001b[0m\n",
            "\u001b[0;32m/usr/local/lib/python3.7/dist-packages/pytorch_lightning/plugins/training_type/training_type_plugin.py\u001b[0m in \u001b[0;36mstart_training\u001b[0;34m(self, trainer)\u001b[0m\n\u001b[1;32m    112\u001b[0m     \u001b[0;32mdef\u001b[0m \u001b[0mstart_training\u001b[0m\u001b[0;34m(\u001b[0m\u001b[0mself\u001b[0m\u001b[0;34m,\u001b[0m \u001b[0mtrainer\u001b[0m\u001b[0;34m:\u001b[0m \u001b[0;34m'Trainer'\u001b[0m\u001b[0;34m)\u001b[0m \u001b[0;34m->\u001b[0m \u001b[0;32mNone\u001b[0m\u001b[0;34m:\u001b[0m\u001b[0;34m\u001b[0m\u001b[0;34m\u001b[0m\u001b[0m\n\u001b[1;32m    113\u001b[0m         \u001b[0;31m# double dispatch to initiate the training loop\u001b[0m\u001b[0;34m\u001b[0m\u001b[0;34m\u001b[0m\u001b[0;34m\u001b[0m\u001b[0m\n\u001b[0;32m--> 114\u001b[0;31m         \u001b[0mself\u001b[0m\u001b[0;34m.\u001b[0m\u001b[0m_results\u001b[0m \u001b[0;34m=\u001b[0m \u001b[0mtrainer\u001b[0m\u001b[0;34m.\u001b[0m\u001b[0mrun_train\u001b[0m\u001b[0;34m(\u001b[0m\u001b[0;34m)\u001b[0m\u001b[0;34m\u001b[0m\u001b[0;34m\u001b[0m\u001b[0m\n\u001b[0m\u001b[1;32m    115\u001b[0m \u001b[0;34m\u001b[0m\u001b[0m\n\u001b[1;32m    116\u001b[0m     \u001b[0;32mdef\u001b[0m \u001b[0mstart_testing\u001b[0m\u001b[0;34m(\u001b[0m\u001b[0mself\u001b[0m\u001b[0;34m,\u001b[0m \u001b[0mtrainer\u001b[0m\u001b[0;34m:\u001b[0m \u001b[0;34m'Trainer'\u001b[0m\u001b[0;34m)\u001b[0m \u001b[0;34m->\u001b[0m \u001b[0;32mNone\u001b[0m\u001b[0;34m:\u001b[0m\u001b[0;34m\u001b[0m\u001b[0;34m\u001b[0m\u001b[0m\n",
            "\u001b[0;32m/usr/local/lib/python3.7/dist-packages/pytorch_lightning/trainer/trainer.py\u001b[0m in \u001b[0;36mrun_train\u001b[0;34m(self)\u001b[0m\n\u001b[1;32m    668\u001b[0m         \u001b[0;32mfinally\u001b[0m\u001b[0;34m:\u001b[0m\u001b[0;34m\u001b[0m\u001b[0;34m\u001b[0m\u001b[0m\n\u001b[1;32m    669\u001b[0m             \u001b[0;31m# hook\u001b[0m\u001b[0;34m\u001b[0m\u001b[0;34m\u001b[0m\u001b[0;34m\u001b[0m\u001b[0m\n\u001b[0;32m--> 670\u001b[0;31m             \u001b[0mself\u001b[0m\u001b[0;34m.\u001b[0m\u001b[0mtrain_loop\u001b[0m\u001b[0;34m.\u001b[0m\u001b[0mon_train_end\u001b[0m\u001b[0;34m(\u001b[0m\u001b[0;34m)\u001b[0m\u001b[0;34m\u001b[0m\u001b[0;34m\u001b[0m\u001b[0m\n\u001b[0m\u001b[1;32m    671\u001b[0m \u001b[0;34m\u001b[0m\u001b[0m\n\u001b[1;32m    672\u001b[0m     \u001b[0;32mdef\u001b[0m \u001b[0mrun_evaluation\u001b[0m\u001b[0;34m(\u001b[0m\u001b[0mself\u001b[0m\u001b[0;34m,\u001b[0m \u001b[0mmax_batches\u001b[0m\u001b[0;34m=\u001b[0m\u001b[0;32mNone\u001b[0m\u001b[0;34m,\u001b[0m \u001b[0mon_epoch\u001b[0m\u001b[0;34m=\u001b[0m\u001b[0;32mFalse\u001b[0m\u001b[0;34m)\u001b[0m\u001b[0;34m:\u001b[0m\u001b[0;34m\u001b[0m\u001b[0;34m\u001b[0m\u001b[0m\n",
            "\u001b[0;32m/usr/local/lib/python3.7/dist-packages/pytorch_lightning/trainer/training_loop.py\u001b[0m in \u001b[0;36mon_train_end\u001b[0;34m(self)\u001b[0m\n\u001b[1;32m    132\u001b[0m         \u001b[0;31m# when a checkpoint was saved at the last step\u001b[0m\u001b[0;34m\u001b[0m\u001b[0;34m\u001b[0m\u001b[0;34m\u001b[0m\u001b[0m\n\u001b[1;32m    133\u001b[0m         \u001b[0mself\u001b[0m\u001b[0;34m.\u001b[0m\u001b[0mtrainer\u001b[0m\u001b[0;34m.\u001b[0m\u001b[0mglobal_step\u001b[0m \u001b[0;34m-=\u001b[0m \u001b[0;36m1\u001b[0m\u001b[0;34m\u001b[0m\u001b[0;34m\u001b[0m\u001b[0m\n\u001b[0;32m--> 134\u001b[0;31m         \u001b[0mself\u001b[0m\u001b[0;34m.\u001b[0m\u001b[0mcheck_checkpoint_callback\u001b[0m\u001b[0;34m(\u001b[0m\u001b[0mshould_update\u001b[0m\u001b[0;34m=\u001b[0m\u001b[0;32mTrue\u001b[0m\u001b[0;34m,\u001b[0m \u001b[0mis_last\u001b[0m\u001b[0;34m=\u001b[0m\u001b[0;32mTrue\u001b[0m\u001b[0;34m)\u001b[0m\u001b[0;34m\u001b[0m\u001b[0;34m\u001b[0m\u001b[0m\n\u001b[0m\u001b[1;32m    135\u001b[0m         \u001b[0mself\u001b[0m\u001b[0;34m.\u001b[0m\u001b[0mtrainer\u001b[0m\u001b[0;34m.\u001b[0m\u001b[0mglobal_step\u001b[0m \u001b[0;34m+=\u001b[0m \u001b[0;36m1\u001b[0m\u001b[0;34m\u001b[0m\u001b[0;34m\u001b[0m\u001b[0m\n\u001b[1;32m    136\u001b[0m \u001b[0;34m\u001b[0m\u001b[0m\n",
            "\u001b[0;32m/usr/local/lib/python3.7/dist-packages/pytorch_lightning/trainer/training_loop.py\u001b[0m in \u001b[0;36mcheck_checkpoint_callback\u001b[0;34m(self, should_update, is_last)\u001b[0m\n\u001b[1;32m    162\u001b[0m \u001b[0;34m\u001b[0m\u001b[0m\n\u001b[1;32m    163\u001b[0m             \u001b[0;32mfor\u001b[0m \u001b[0mcb\u001b[0m \u001b[0;32min\u001b[0m \u001b[0mcallbacks\u001b[0m\u001b[0;34m:\u001b[0m\u001b[0;34m\u001b[0m\u001b[0;34m\u001b[0m\u001b[0m\n\u001b[0;32m--> 164\u001b[0;31m                 \u001b[0mcb\u001b[0m\u001b[0;34m.\u001b[0m\u001b[0mon_validation_end\u001b[0m\u001b[0;34m(\u001b[0m\u001b[0mself\u001b[0m\u001b[0;34m.\u001b[0m\u001b[0mtrainer\u001b[0m\u001b[0;34m,\u001b[0m \u001b[0mmodel\u001b[0m\u001b[0;34m)\u001b[0m\u001b[0;34m\u001b[0m\u001b[0;34m\u001b[0m\u001b[0m\n\u001b[0m\u001b[1;32m    165\u001b[0m \u001b[0;34m\u001b[0m\u001b[0m\n\u001b[1;32m    166\u001b[0m     \u001b[0;32mdef\u001b[0m \u001b[0mcheck_early_stopping_callback\u001b[0m\u001b[0;34m(\u001b[0m\u001b[0mself\u001b[0m\u001b[0;34m,\u001b[0m \u001b[0mshould_update\u001b[0m\u001b[0;34m)\u001b[0m\u001b[0;34m:\u001b[0m\u001b[0;34m\u001b[0m\u001b[0;34m\u001b[0m\u001b[0m\n",
            "\u001b[0;32m/usr/local/lib/python3.7/dist-packages/pytorch_lightning/callbacks/model_checkpoint.py\u001b[0m in \u001b[0;36mon_validation_end\u001b[0;34m(self, trainer, pl_module)\u001b[0m\n\u001b[1;32m    210\u001b[0m         \u001b[0mcheckpoints\u001b[0m \u001b[0mcan\u001b[0m \u001b[0mbe\u001b[0m \u001b[0msaved\u001b[0m \u001b[0mat\u001b[0m \u001b[0mthe\u001b[0m \u001b[0mend\u001b[0m \u001b[0mof\u001b[0m \u001b[0mthe\u001b[0m \u001b[0mval\u001b[0m \u001b[0mloop\u001b[0m\u001b[0;34m\u001b[0m\u001b[0;34m\u001b[0m\u001b[0m\n\u001b[1;32m    211\u001b[0m         \"\"\"\n\u001b[0;32m--> 212\u001b[0;31m         \u001b[0mself\u001b[0m\u001b[0;34m.\u001b[0m\u001b[0msave_checkpoint\u001b[0m\u001b[0;34m(\u001b[0m\u001b[0mtrainer\u001b[0m\u001b[0;34m,\u001b[0m \u001b[0mpl_module\u001b[0m\u001b[0;34m)\u001b[0m\u001b[0;34m\u001b[0m\u001b[0;34m\u001b[0m\u001b[0m\n\u001b[0m\u001b[1;32m    213\u001b[0m \u001b[0;34m\u001b[0m\u001b[0m\n\u001b[1;32m    214\u001b[0m     \u001b[0;32mdef\u001b[0m \u001b[0mon_save_checkpoint\u001b[0m\u001b[0;34m(\u001b[0m\u001b[0mself\u001b[0m\u001b[0;34m,\u001b[0m \u001b[0mtrainer\u001b[0m\u001b[0;34m,\u001b[0m \u001b[0mpl_module\u001b[0m\u001b[0;34m,\u001b[0m \u001b[0mcheckpoint\u001b[0m\u001b[0;34m:\u001b[0m \u001b[0mDict\u001b[0m\u001b[0;34m[\u001b[0m\u001b[0mstr\u001b[0m\u001b[0;34m,\u001b[0m \u001b[0mAny\u001b[0m\u001b[0;34m]\u001b[0m\u001b[0;34m)\u001b[0m \u001b[0;34m->\u001b[0m \u001b[0mDict\u001b[0m\u001b[0;34m[\u001b[0m\u001b[0mstr\u001b[0m\u001b[0;34m,\u001b[0m \u001b[0mAny\u001b[0m\u001b[0;34m]\u001b[0m\u001b[0;34m:\u001b[0m\u001b[0;34m\u001b[0m\u001b[0;34m\u001b[0m\u001b[0m\n",
            "\u001b[0;32m/usr/local/lib/python3.7/dist-packages/pytorch_lightning/callbacks/model_checkpoint.py\u001b[0m in \u001b[0;36msave_checkpoint\u001b[0;34m(self, trainer, pl_module)\u001b[0m\n\u001b[1;32m    257\u001b[0m         \u001b[0;31m# Mode 1: save all checkpoints OR only the top k\u001b[0m\u001b[0;34m\u001b[0m\u001b[0;34m\u001b[0m\u001b[0;34m\u001b[0m\u001b[0m\n\u001b[1;32m    258\u001b[0m         \u001b[0;32mif\u001b[0m \u001b[0mself\u001b[0m\u001b[0;34m.\u001b[0m\u001b[0msave_top_k\u001b[0m\u001b[0;34m:\u001b[0m\u001b[0;34m\u001b[0m\u001b[0;34m\u001b[0m\u001b[0m\n\u001b[0;32m--> 259\u001b[0;31m             \u001b[0mself\u001b[0m\u001b[0;34m.\u001b[0m\u001b[0m_save_top_k_checkpoints\u001b[0m\u001b[0;34m(\u001b[0m\u001b[0mtrainer\u001b[0m\u001b[0;34m,\u001b[0m \u001b[0mpl_module\u001b[0m\u001b[0;34m,\u001b[0m \u001b[0mmonitor_candidates\u001b[0m\u001b[0;34m)\u001b[0m\u001b[0;34m\u001b[0m\u001b[0;34m\u001b[0m\u001b[0m\n\u001b[0m\u001b[1;32m    260\u001b[0m \u001b[0;34m\u001b[0m\u001b[0m\n\u001b[1;32m    261\u001b[0m         \u001b[0;31m# Mode 2: save the last checkpoint\u001b[0m\u001b[0;34m\u001b[0m\u001b[0;34m\u001b[0m\u001b[0;34m\u001b[0m\u001b[0m\n",
            "\u001b[0;32m/usr/local/lib/python3.7/dist-packages/pytorch_lightning/callbacks/model_checkpoint.py\u001b[0m in \u001b[0;36m_save_top_k_checkpoints\u001b[0;34m(self, trainer, pl_module, metrics)\u001b[0m\n\u001b[1;32m    561\u001b[0m \u001b[0;34m\u001b[0m\u001b[0m\n\u001b[1;32m    562\u001b[0m         \u001b[0;32mif\u001b[0m \u001b[0mself\u001b[0m\u001b[0;34m.\u001b[0m\u001b[0mcheck_monitor_top_k\u001b[0m\u001b[0;34m(\u001b[0m\u001b[0mtrainer\u001b[0m\u001b[0;34m,\u001b[0m \u001b[0mcurrent\u001b[0m\u001b[0;34m)\u001b[0m\u001b[0;34m:\u001b[0m\u001b[0;34m\u001b[0m\u001b[0;34m\u001b[0m\u001b[0m\n\u001b[0;32m--> 563\u001b[0;31m             \u001b[0mself\u001b[0m\u001b[0;34m.\u001b[0m\u001b[0m_update_best_and_save\u001b[0m\u001b[0;34m(\u001b[0m\u001b[0mcurrent\u001b[0m\u001b[0;34m,\u001b[0m \u001b[0mepoch\u001b[0m\u001b[0;34m,\u001b[0m \u001b[0mstep\u001b[0m\u001b[0;34m,\u001b[0m \u001b[0mtrainer\u001b[0m\u001b[0;34m,\u001b[0m \u001b[0mpl_module\u001b[0m\u001b[0;34m,\u001b[0m \u001b[0mmetrics\u001b[0m\u001b[0;34m)\u001b[0m\u001b[0;34m\u001b[0m\u001b[0;34m\u001b[0m\u001b[0m\n\u001b[0m\u001b[1;32m    564\u001b[0m         \u001b[0;32melif\u001b[0m \u001b[0mself\u001b[0m\u001b[0;34m.\u001b[0m\u001b[0mverbose\u001b[0m\u001b[0;34m:\u001b[0m\u001b[0;34m\u001b[0m\u001b[0;34m\u001b[0m\u001b[0m\n\u001b[1;32m    565\u001b[0m             \u001b[0mrank_zero_info\u001b[0m\u001b[0;34m(\u001b[0m\u001b[0;34mf\"Epoch {epoch:d}, step {step:d}: {self.monitor} was not in top {self.save_top_k}\"\u001b[0m\u001b[0;34m)\u001b[0m\u001b[0;34m\u001b[0m\u001b[0;34m\u001b[0m\u001b[0m\n",
            "\u001b[0;32m/usr/local/lib/python3.7/dist-packages/pytorch_lightning/callbacks/model_checkpoint.py\u001b[0m in \u001b[0;36m_update_best_and_save\u001b[0;34m(self, current, epoch, step, trainer, pl_module, ckpt_name_metrics)\u001b[0m\n\u001b[1;32m    603\u001b[0m                 \u001b[0;34mf' (best {self.best_model_score:0.5f}), saving model to \"{filepath}\" as top {k}'\u001b[0m\u001b[0;34m\u001b[0m\u001b[0;34m\u001b[0m\u001b[0m\n\u001b[1;32m    604\u001b[0m             )\n\u001b[0;32m--> 605\u001b[0;31m         \u001b[0mself\u001b[0m\u001b[0;34m.\u001b[0m\u001b[0m_save_model\u001b[0m\u001b[0;34m(\u001b[0m\u001b[0mfilepath\u001b[0m\u001b[0;34m,\u001b[0m \u001b[0mtrainer\u001b[0m\u001b[0;34m,\u001b[0m \u001b[0mpl_module\u001b[0m\u001b[0;34m)\u001b[0m\u001b[0;34m\u001b[0m\u001b[0;34m\u001b[0m\u001b[0m\n\u001b[0m\u001b[1;32m    606\u001b[0m \u001b[0;34m\u001b[0m\u001b[0m\n\u001b[1;32m    607\u001b[0m         \u001b[0;32mif\u001b[0m \u001b[0mdel_filepath\u001b[0m \u001b[0;32mis\u001b[0m \u001b[0;32mnot\u001b[0m \u001b[0;32mNone\u001b[0m \u001b[0;32mand\u001b[0m \u001b[0mfilepath\u001b[0m \u001b[0;34m!=\u001b[0m \u001b[0mdel_filepath\u001b[0m\u001b[0;34m:\u001b[0m\u001b[0;34m\u001b[0m\u001b[0;34m\u001b[0m\u001b[0m\n",
            "\u001b[0;32m/usr/local/lib/python3.7/dist-packages/pytorch_lightning/callbacks/model_checkpoint.py\u001b[0m in \u001b[0;36m_save_model\u001b[0;34m(self, filepath, trainer, pl_module)\u001b[0m\n\u001b[1;32m    333\u001b[0m         \u001b[0;31m# delegate the saving to the trainer\u001b[0m\u001b[0;34m\u001b[0m\u001b[0;34m\u001b[0m\u001b[0;34m\u001b[0m\u001b[0m\n\u001b[1;32m    334\u001b[0m         \u001b[0;32mif\u001b[0m \u001b[0mself\u001b[0m\u001b[0;34m.\u001b[0m\u001b[0msave_function\u001b[0m \u001b[0;32mis\u001b[0m \u001b[0;32mnot\u001b[0m \u001b[0;32mNone\u001b[0m\u001b[0;34m:\u001b[0m\u001b[0;34m\u001b[0m\u001b[0;34m\u001b[0m\u001b[0m\n\u001b[0;32m--> 335\u001b[0;31m             \u001b[0mself\u001b[0m\u001b[0;34m.\u001b[0m\u001b[0msave_function\u001b[0m\u001b[0;34m(\u001b[0m\u001b[0mfilepath\u001b[0m\u001b[0;34m,\u001b[0m \u001b[0mself\u001b[0m\u001b[0;34m.\u001b[0m\u001b[0msave_weights_only\u001b[0m\u001b[0;34m)\u001b[0m\u001b[0;34m\u001b[0m\u001b[0;34m\u001b[0m\u001b[0m\n\u001b[0m\u001b[1;32m    336\u001b[0m         \u001b[0;32melse\u001b[0m\u001b[0;34m:\u001b[0m\u001b[0;34m\u001b[0m\u001b[0;34m\u001b[0m\u001b[0m\n\u001b[1;32m    337\u001b[0m             \u001b[0;32mraise\u001b[0m \u001b[0mValueError\u001b[0m\u001b[0;34m(\u001b[0m\u001b[0;34m\".save_function() not set\"\u001b[0m\u001b[0;34m)\u001b[0m\u001b[0;34m\u001b[0m\u001b[0;34m\u001b[0m\u001b[0m\n",
            "\u001b[0;32m/usr/local/lib/python3.7/dist-packages/pytorch_lightning/trainer/properties.py\u001b[0m in \u001b[0;36msave_checkpoint\u001b[0;34m(self, filepath, weights_only)\u001b[0m\n\u001b[1;32m    325\u001b[0m \u001b[0;34m\u001b[0m\u001b[0m\n\u001b[1;32m    326\u001b[0m     \u001b[0;32mdef\u001b[0m \u001b[0msave_checkpoint\u001b[0m\u001b[0;34m(\u001b[0m\u001b[0mself\u001b[0m\u001b[0;34m,\u001b[0m \u001b[0mfilepath\u001b[0m\u001b[0;34m,\u001b[0m \u001b[0mweights_only\u001b[0m\u001b[0;34m:\u001b[0m \u001b[0mbool\u001b[0m \u001b[0;34m=\u001b[0m \u001b[0;32mFalse\u001b[0m\u001b[0;34m)\u001b[0m \u001b[0;34m->\u001b[0m \u001b[0;32mNone\u001b[0m\u001b[0;34m:\u001b[0m\u001b[0;34m\u001b[0m\u001b[0;34m\u001b[0m\u001b[0m\n\u001b[0;32m--> 327\u001b[0;31m         \u001b[0mself\u001b[0m\u001b[0;34m.\u001b[0m\u001b[0mcheckpoint_connector\u001b[0m\u001b[0;34m.\u001b[0m\u001b[0msave_checkpoint\u001b[0m\u001b[0;34m(\u001b[0m\u001b[0mfilepath\u001b[0m\u001b[0;34m,\u001b[0m \u001b[0mweights_only\u001b[0m\u001b[0;34m)\u001b[0m\u001b[0;34m\u001b[0m\u001b[0;34m\u001b[0m\u001b[0m\n\u001b[0m\u001b[1;32m    328\u001b[0m \u001b[0;34m\u001b[0m\u001b[0m\n\u001b[1;32m    329\u001b[0m     \u001b[0;34m@\u001b[0m\u001b[0mproperty\u001b[0m\u001b[0;34m\u001b[0m\u001b[0;34m\u001b[0m\u001b[0m\n",
            "\u001b[0;32m/usr/local/lib/python3.7/dist-packages/pytorch_lightning/trainer/connectors/checkpoint_connector.py\u001b[0m in \u001b[0;36msave_checkpoint\u001b[0;34m(self, filepath, weights_only)\u001b[0m\n\u001b[1;32m    402\u001b[0m                 \u001b[0mcheckpoint\u001b[0m \u001b[0;34m=\u001b[0m \u001b[0mself\u001b[0m\u001b[0;34m.\u001b[0m\u001b[0mtrainer\u001b[0m\u001b[0;34m.\u001b[0m\u001b[0mtraining_type_plugin\u001b[0m\u001b[0;34m.\u001b[0m\u001b[0mon_save\u001b[0m\u001b[0;34m(\u001b[0m\u001b[0mcheckpoint\u001b[0m\u001b[0;34m)\u001b[0m\u001b[0;34m\u001b[0m\u001b[0;34m\u001b[0m\u001b[0m\n\u001b[1;32m    403\u001b[0m             \u001b[0;32mtry\u001b[0m\u001b[0;34m:\u001b[0m\u001b[0;34m\u001b[0m\u001b[0;34m\u001b[0m\u001b[0m\n\u001b[0;32m--> 404\u001b[0;31m                 \u001b[0matomic_save\u001b[0m\u001b[0;34m(\u001b[0m\u001b[0mcheckpoint\u001b[0m\u001b[0;34m,\u001b[0m \u001b[0mfilepath\u001b[0m\u001b[0;34m)\u001b[0m\u001b[0;34m\u001b[0m\u001b[0;34m\u001b[0m\u001b[0m\n\u001b[0m\u001b[1;32m    405\u001b[0m             \u001b[0;32mexcept\u001b[0m \u001b[0mAttributeError\u001b[0m \u001b[0;32mas\u001b[0m \u001b[0merr\u001b[0m\u001b[0;34m:\u001b[0m\u001b[0;34m\u001b[0m\u001b[0;34m\u001b[0m\u001b[0m\n\u001b[1;32m    406\u001b[0m                 \u001b[0;32mif\u001b[0m \u001b[0mLightningModule\u001b[0m\u001b[0;34m.\u001b[0m\u001b[0mCHECKPOINT_HYPER_PARAMS_KEY\u001b[0m \u001b[0;32min\u001b[0m \u001b[0mcheckpoint\u001b[0m\u001b[0;34m:\u001b[0m\u001b[0;34m\u001b[0m\u001b[0;34m\u001b[0m\u001b[0m\n",
            "\u001b[0;32m/usr/local/lib/python3.7/dist-packages/pytorch_lightning/utilities/cloud_io.py\u001b[0m in \u001b[0;36matomic_save\u001b[0;34m(checkpoint, filepath)\u001b[0m\n\u001b[1;32m     76\u001b[0m         \u001b[0mtorch\u001b[0m\u001b[0;34m.\u001b[0m\u001b[0msave\u001b[0m\u001b[0;34m(\u001b[0m\u001b[0mcheckpoint\u001b[0m\u001b[0;34m,\u001b[0m \u001b[0mbytesbuffer\u001b[0m\u001b[0;34m)\u001b[0m\u001b[0;34m\u001b[0m\u001b[0;34m\u001b[0m\u001b[0m\n\u001b[1;32m     77\u001b[0m     \u001b[0;32mwith\u001b[0m \u001b[0mfsspec\u001b[0m\u001b[0;34m.\u001b[0m\u001b[0mopen\u001b[0m\u001b[0;34m(\u001b[0m\u001b[0mfilepath\u001b[0m\u001b[0;34m,\u001b[0m \u001b[0;34m\"wb\"\u001b[0m\u001b[0;34m)\u001b[0m \u001b[0;32mas\u001b[0m \u001b[0mf\u001b[0m\u001b[0;34m:\u001b[0m\u001b[0;34m\u001b[0m\u001b[0;34m\u001b[0m\u001b[0m\n\u001b[0;32m---> 78\u001b[0;31m         \u001b[0mf\u001b[0m\u001b[0;34m.\u001b[0m\u001b[0mwrite\u001b[0m\u001b[0;34m(\u001b[0m\u001b[0mbytesbuffer\u001b[0m\u001b[0;34m.\u001b[0m\u001b[0mgetvalue\u001b[0m\u001b[0;34m(\u001b[0m\u001b[0;34m)\u001b[0m\u001b[0;34m)\u001b[0m\u001b[0;34m\u001b[0m\u001b[0;34m\u001b[0m\u001b[0m\n\u001b[0m",
            "\u001b[0;32m/usr/local/lib/python3.7/dist-packages/fsspec/implementations/local.py\u001b[0m in \u001b[0;36mwrite\u001b[0;34m(self, *args, **kwargs)\u001b[0m\n\u001b[1;32m    264\u001b[0m \u001b[0;34m\u001b[0m\u001b[0m\n\u001b[1;32m    265\u001b[0m     \u001b[0;32mdef\u001b[0m \u001b[0mwrite\u001b[0m\u001b[0;34m(\u001b[0m\u001b[0mself\u001b[0m\u001b[0;34m,\u001b[0m \u001b[0;34m*\u001b[0m\u001b[0margs\u001b[0m\u001b[0;34m,\u001b[0m \u001b[0;34m**\u001b[0m\u001b[0mkwargs\u001b[0m\u001b[0;34m)\u001b[0m\u001b[0;34m:\u001b[0m\u001b[0;34m\u001b[0m\u001b[0;34m\u001b[0m\u001b[0m\n\u001b[0;32m--> 266\u001b[0;31m         \u001b[0;32mreturn\u001b[0m \u001b[0mself\u001b[0m\u001b[0;34m.\u001b[0m\u001b[0mf\u001b[0m\u001b[0;34m.\u001b[0m\u001b[0mwrite\u001b[0m\u001b[0;34m(\u001b[0m\u001b[0;34m*\u001b[0m\u001b[0margs\u001b[0m\u001b[0;34m,\u001b[0m \u001b[0;34m**\u001b[0m\u001b[0mkwargs\u001b[0m\u001b[0;34m)\u001b[0m\u001b[0;34m\u001b[0m\u001b[0;34m\u001b[0m\u001b[0m\n\u001b[0m\u001b[1;32m    267\u001b[0m \u001b[0;34m\u001b[0m\u001b[0m\n\u001b[1;32m    268\u001b[0m     \u001b[0;32mdef\u001b[0m \u001b[0mtell\u001b[0m\u001b[0;34m(\u001b[0m\u001b[0mself\u001b[0m\u001b[0;34m,\u001b[0m \u001b[0;34m*\u001b[0m\u001b[0margs\u001b[0m\u001b[0;34m,\u001b[0m \u001b[0;34m**\u001b[0m\u001b[0mkwargs\u001b[0m\u001b[0;34m)\u001b[0m\u001b[0;34m:\u001b[0m\u001b[0;34m\u001b[0m\u001b[0;34m\u001b[0m\u001b[0m\n",
            "\u001b[0;31mKeyboardInterrupt\u001b[0m: "
          ]
        }
      ]
    }
  ]
}