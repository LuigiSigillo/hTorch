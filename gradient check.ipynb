{
 "cells": [
  {
   "cell_type": "markdown",
   "metadata": {},
   "source": [
    "# Gradient check"
   ]
  },
  {
   "cell_type": "code",
   "execution_count": 1,
   "metadata": {},
   "outputs": [],
   "source": [
    "import torch\n",
    "import torchvision\n",
    "import torchvision.transforms as transforms\n",
    "import torch.nn as nn\n",
    "import torch.nn.functional as F\n",
    "import torch.optim as optim\n",
    "import sys\n",
    "sys.path.append(\"../Pytorch-Quaternion-Neural-Networks/core_qnn\")\n",
    "from quaternion_layers import *\n",
    "import quaternion_ops\n",
    "import functions\n",
    "from layers import *\n",
    "import convert_to_quaternion\n",
    "import random\n",
    "import os\n",
    "import copy"
   ]
  },
  {
   "cell_type": "code",
   "execution_count": 2,
   "metadata": {},
   "outputs": [
    {
     "name": "stdout",
     "output_type": "stream",
     "text": [
      "Files already downloaded and verified\n",
      "Files already downloaded and verified\n"
     ]
    }
   ],
   "source": [
    "transform = transforms.Compose(\n",
    "    [transforms.ToTensor(),\n",
    "     transforms.Normalize((0.5, 0.5, 0.5), (0.5, 0.5, 0.5))])\n",
    "\n",
    "torch.manual_seed(0)\n",
    "trainset = torchvision.datasets.CIFAR10(root='./data', train=True,\n",
    "                                        download=True, transform=transform)\n",
    "torch.manual_seed(0)\n",
    "trainloader = torch.utils.data.DataLoader(trainset, batch_size=4,\n",
    "                                          shuffle=True, num_workers=0)\n",
    "\n",
    "testset = torchvision.datasets.CIFAR10(root='./data', train=False,\n",
    "                                       download=True, transform=transform)\n",
    "testloader = torch.utils.data.DataLoader(testset, batch_size=4,\n",
    "                                         shuffle=False, num_workers=0)\n",
    "grayscale = transforms.Grayscale(num_output_channels=1)\n",
    "classes = ('plane', 'car', 'bird', 'cat',\n",
    "           'deer', 'dog', 'frog', 'horse', 'ship', 'truck')\n",
    "\n",
    "def set_seed(seed):\n",
    "    torch.manual_seed(seed)\n",
    "    torch.cuda.manual_seed_all(seed)\n",
    "    torch.backends.cudnn.deterministic = True\n",
    "    torch.backends.cudnn.benchmark = False\n",
    "    np.random.seed(seed)\n",
    "    random.seed(seed)\n",
    "    os.environ['PYTHONHASHSEED'] = str(seed)\n"
   ]
  },
  {
   "cell_type": "code",
   "execution_count": 3,
   "metadata": {},
   "outputs": [],
   "source": [
    "inputs, labels = next(iter(trainloader))\n",
    "gray_image = grayscale(inputs)\n",
    "inputs = torch.cat([inputs, gray_image],1)\n",
    "targets = torch.ones(4).long()\n",
    "criterion = nn.CrossEntropyLoss()"
   ]
  },
  {
   "cell_type": "code",
   "execution_count": 219,
   "metadata": {},
   "outputs": [],
   "source": [
    "def assemble_weight(r, i, j, k):\n",
    "    \n",
    "    weight = torch.cat([torch.cat([r, -i, -j,  -k], dim=1),\n",
    "                        torch.cat([i,  r, -k,   j], dim=1),\n",
    "                        torch.cat([j,  k,  r,  -i], dim=1),\n",
    "                        torch.cat([k, -j,  i,   r], dim=1)], dim = 0)\n",
    "    \n",
    "    return weight\n",
    "\n",
    "\n",
    "def create_dummy_weight(chann):\n",
    "    \n",
    "    r, i, j, k = torch.full((chann, size//4), 0.5), torch.full((chann, size//4), 0.25),\\\n",
    "             torch.full((chann, size//4), 1.5), torch.full((chann, size//4), 2.5)\n",
    "\n",
    "    weight = assemble_weight(r, i, j, k)\n",
    "    \n",
    "    return weight, r, i, j, k\n",
    "\n"
   ]
  },
  {
   "cell_type": "code",
   "execution_count": 209,
   "metadata": {},
   "outputs": [],
   "source": [
    "size = 32*32*4\n",
    "real_lin = nn.Linear(size, 8, bias = False)\n",
    "quat_lin = QLinear(size, 8, bias = False)\n",
    "parc_lin = QuaternionLinear(size, 8, bias = False)\n",
    "\n",
    "weight, r, i, j, k = create_dummy_weight(2)\n",
    "\n",
    "real_lin.weight = nn.Parameter(weight)\n",
    "quat_lin.weight = nn.Parameter(weight)\n",
    "                   \n",
    "parc_lin.r_weight.data = nn.Parameter(r.t())\n",
    "parc_lin.i_weight.data = nn.Parameter(i.t())\n",
    "parc_lin.j_weight.data = nn.Parameter(j.t())\n",
    "parc_lin.k_weight.data = nn.Parameter(k.t())"
   ]
  },
  {
   "cell_type": "code",
   "execution_count": 21,
   "metadata": {},
   "outputs": [
    {
     "data": {
      "text/plain": [
       "torch.Size([8, 4096])"
      ]
     },
     "execution_count": 21,
     "metadata": {},
     "output_type": "execute_result"
    }
   ],
   "source": [
    "weight.shape"
   ]
  },
  {
   "cell_type": "code",
   "execution_count": 210,
   "metadata": {},
   "outputs": [],
   "source": [
    "x = inputs.view(4, 32*32*4)\n",
    "\n",
    "\n",
    "set_seed(0)\n",
    "out_real = real_lin(x)\n",
    "loss_real = criterion(out_real, targets)\n",
    "real_grad, = torch.autograd.grad(loss_real, real_lin.weight)\n",
    "\n",
    "set_seed(0)\n",
    "out_quat = quat_lin(x)\n",
    "loss_quat = criterion(out_quat, targets)\n",
    "quat_grad, = torch.autograd.grad(loss_quat, quat_lin.weight)\n",
    "\n",
    "set_seed(0)\n",
    "out_parc = parc_lin(x)\n",
    "loss_parc = criterion(out_parc, targets)\n",
    "r_grad, i_grad, j_grad, k_grad = torch.autograd.grad(\n",
    "    loss_parc, [parc_lin.r_weight, parc_lin.i_weight, parc_lin.j_weight, parc_lin.i_weight]\n",
    ")"
   ]
  },
  {
   "cell_type": "code",
   "execution_count": 211,
   "metadata": {},
   "outputs": [
    {
     "name": "stdout",
     "output_type": "stream",
     "text": [
      "True\n",
      "True\n"
     ]
    }
   ],
   "source": [
    "print(\n",
    "      ((out_parc - out_real).abs() < 1e-6).all().item(),                 # parcollet vs real\n",
    "      ((out_quat - out_real).abs() < 1e-6).all().item(),                 # real vs ours\n",
    "      sep = \"\\n\"\n",
    ")"
   ]
  },
  {
   "cell_type": "code",
   "execution_count": 212,
   "metadata": {},
   "outputs": [
    {
     "name": "stdout",
     "output_type": "stream",
     "text": [
      "True\n",
      "False\n"
     ]
    }
   ],
   "source": [
    "parc_weight_grad = torch.cat([torch.cat([r_grad.t(), -i_grad.t(), -j_grad.t(),  -k_grad.t()], dim=1),\n",
    "                         torch.cat([i_grad.t(),  r_grad.t(), -k_grad.t(),   j_grad.t()], dim=1),\n",
    "                         torch.cat([j_grad.t(),  k_grad.t(),  r_grad.t(),  -i_grad.t()], dim=1),\n",
    "                         torch.cat([k_grad.t(), -j_grad.t(),  i_grad.t(),   r_grad.t()], dim=1)], dim = 0)\n",
    "\n",
    "print(\n",
    "      ((real_grad - quat_grad).abs() < 1e-6).all().item(),\n",
    "      ((real_grad - parc_weight_grad).abs() < 1e-6).all().item(),\n",
    "      sep = \"\\n\"\n",
    "     )"
   ]
  },
  {
   "cell_type": "code",
   "execution_count": 213,
   "metadata": {},
   "outputs": [],
   "source": [
    "r, i, j, k = torch.randn((2, 16//4, 2, 2)), torch.randn((2, 16//4, 2, 2)),\\\n",
    "             torch.randn((2, 16//4, 2, 2)), torch.randn((2, 16//4, 2, 2))\n",
    "\n",
    "weight = torch.cat([torch.cat([r, -i, -j,  -k], dim=1),\n",
    "                    torch.cat([i,  r, -k,   j], dim=1),\n",
    "                    torch.cat([j,  k,  r,  -i], dim=1),\n",
    "                    torch.cat([k, -j,  i,   r], dim=1)], dim = 0)"
   ]
  },
  {
   "cell_type": "code",
   "execution_count": 214,
   "metadata": {},
   "outputs": [
    {
     "data": {
      "text/plain": [
       "tensor([-0.1989, -0.2087, -0.1950, -0.1911, -0.1862, -0.1911, -0.1901, -0.1636,\n",
       "        -0.1656, -0.1940])"
      ]
     },
     "execution_count": 214,
     "metadata": {},
     "output_type": "execute_result"
    }
   ],
   "source": [
    "parc_weight_grad[0, :10]"
   ]
  },
  {
   "cell_type": "code",
   "execution_count": 215,
   "metadata": {},
   "outputs": [
    {
     "data": {
      "text/plain": [
       "tensor([-0.2074, -0.2064, -0.1887, -0.1946, -0.1926, -0.1877, -0.1858, -0.1740,\n",
       "        -0.1799, -0.1985])"
      ]
     },
     "execution_count": 215,
     "metadata": {},
     "output_type": "execute_result"
    }
   ],
   "source": [
    "real_grad[0, :10]"
   ]
  },
  {
   "cell_type": "markdown",
   "metadata": {},
   "source": [
    "# Gradient check pt 2"
   ]
  },
  {
   "cell_type": "code",
   "execution_count": 236,
   "metadata": {},
   "outputs": [],
   "source": [
    "x = torch.randn((4, 32, 32))\n",
    "weight1, r, i, j, k = create_dummy_weight(1)\n",
    "weight2, r_, i_, j_, k_  = create_dummy_weight(1)"
   ]
  },
  {
   "cell_type": "code",
   "execution_count": 237,
   "metadata": {},
   "outputs": [
    {
     "name": "stdout",
     "output_type": "stream",
     "text": [
      "True\n",
      "True\n",
      "True\n"
     ]
    }
   ],
   "source": [
    "weight1.requires_grad = True\n",
    "weight2.requires_grad = True\n",
    "\n",
    "weight_parc_1 = assemble_weight(r, i, j, k)\n",
    "\n",
    "weight1.requires_grad = True\n",
    "weight2.requires_grad = True\n",
    "\n",
    "# first whole tensor as parameter then separate parts\n",
    "weight_parc_1.requires_grad = True\n",
    "\n",
    "# does it change anything if we require grad on every part?\n",
    "r_.requires_grad = True\n",
    "i_.requires_grad = True\n",
    "j_.requires_grad = True\n",
    "k_.requires_grad = True\n",
    "\n",
    "weight_parc_2 = assemble_weight(r_, i_, j_, k_)\n",
    "\n",
    "# weight for ours and parc is exactly the same\n",
    "print((weight2.t() == weight1.t()).all().item())\n",
    "print((weight_parc_1.t() == weight1.t()).all().item())\n",
    "print((weight_parc_2.t() == cat_kernels_4_quaternion).all().item())\n",
    "\n",
    "set_seed(0)\n",
    "out_parc = torch.matmul(x.view(-1), weight_parc_1.t())\n",
    "set_seed(0)\n",
    "out_parc_ = torch.matmul(x.view(-1), weight_parc_2.t())\n"
   ]
  },
  {
   "cell_type": "code",
   "execution_count": 238,
   "metadata": {},
   "outputs": [],
   "source": [
    "set_seed(0)\n",
    "out_real = torch.matmul(x.view(-1), weight1.t())\n",
    "set_seed(0)\n",
    "out_quat = torch.matmul(x.view(-1), weight2.t())\n"
   ]
  },
  {
   "cell_type": "code",
   "execution_count": 239,
   "metadata": {},
   "outputs": [
    {
     "name": "stdout",
     "output_type": "stream",
     "text": [
      "True\n",
      "True\n",
      "True\n"
     ]
    }
   ],
   "source": [
    "print(\n",
    "      ((out_real - out_quat).abs() < 1e-6).all().item(),\n",
    "      ((out_real - out_parc).abs() < 1e-6).all().item(),\n",
    "      ((out_real - out_parc_).abs() < 1e-6).all().item(),\n",
    "      sep = \"\\n\"\n",
    "     )"
   ]
  },
  {
   "cell_type": "code",
   "execution_count": 240,
   "metadata": {},
   "outputs": [
    {
     "data": {
      "text/plain": [
       "tensor([0., 0., 0., 0.], grad_fn=<SubBackward0>)"
      ]
     },
     "execution_count": 240,
     "metadata": {},
     "output_type": "execute_result"
    }
   ],
   "source": [
    "out_real - out_quat"
   ]
  },
  {
   "cell_type": "code",
   "execution_count": 241,
   "metadata": {},
   "outputs": [
    {
     "data": {
      "text/plain": [
       "tensor([0., 0., 0., 0.], grad_fn=<SubBackward0>)"
      ]
     },
     "execution_count": 241,
     "metadata": {},
     "output_type": "execute_result"
    }
   ],
   "source": [
    "out_parc - out_real"
   ]
  },
  {
   "cell_type": "code",
   "execution_count": 242,
   "metadata": {},
   "outputs": [
    {
     "data": {
      "text/plain": [
       "tensor([0., 0., 0., 0.], grad_fn=<SubBackward0>)"
      ]
     },
     "execution_count": 242,
     "metadata": {},
     "output_type": "execute_result"
    }
   ],
   "source": [
    "out_parc - out_parc_"
   ]
  },
  {
   "cell_type": "code",
   "execution_count": 243,
   "metadata": {},
   "outputs": [],
   "source": [
    "loss_real = out_real.mean()\n",
    "loss_quat = out_quat.mean()\n",
    "loss_parc = out_parc.mean()\n",
    "loss_parc_ = out_parc_.mean()\n",
    "\n",
    "real_grad, = torch.autograd.grad(loss_real, weight1)\n",
    "quat_grad, = torch.autograd.grad(loss_quat, weight2)\n",
    "parc_grad, = torch.autograd.grad(loss_parc, weight_parc_1)\n",
    "parc_grad_r, parc_grad_i, parc_grad_j, parc_grad_k = torch.autograd.grad(loss_parc_, [r_, i_, j_, k_])\n",
    "\n"
   ]
  },
  {
   "cell_type": "code",
   "execution_count": 244,
   "metadata": {},
   "outputs": [
    {
     "name": "stdout",
     "output_type": "stream",
     "text": [
      "True\n",
      "True\n",
      "False\n"
     ]
    }
   ],
   "source": [
    "parc_grad_ = assemble_weight(parc_grad_r, parc_grad_i, parc_grad_j, parc_grad_k)\n",
    "\n",
    "print(\n",
    "      ((real_grad - quat_grad).abs() < 1e-6).all().item(),\n",
    "      ((real_grad - parc_grad).abs() < 1e-6).all().item(),\n",
    "      ((parc_grad - parc_grad_).abs() < 1e-6).all().item(),\n",
    "      sep = \"\\n\"\n",
    "     )"
   ]
  }
 ],
 "metadata": {
  "kernelspec": {
   "display_name": "Python 3",
   "language": "python",
   "name": "python3"
  },
  "language_info": {
   "codemirror_mode": {
    "name": "ipython",
    "version": 3
   },
   "file_extension": ".py",
   "mimetype": "text/x-python",
   "name": "python",
   "nbconvert_exporter": "python",
   "pygments_lexer": "ipython3",
   "version": "3.8.5"
  }
 },
 "nbformat": 4,
 "nbformat_minor": 4
}
