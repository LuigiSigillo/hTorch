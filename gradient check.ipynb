{
 "cells": [
  {
   "cell_type": "markdown",
   "metadata": {},
   "source": [
    "# Gradient check"
   ]
  },
  {
   "cell_type": "code",
   "execution_count": 1,
   "metadata": {},
   "outputs": [],
   "source": [
    "import torch\n",
    "import torchvision\n",
    "import torchvision.transforms as transforms\n",
    "import torch.nn as nn\n",
    "import torch.nn.functional as F\n",
    "import torch.optim as optim\n",
    "import sys\n",
    "sys.path.append(\"../Pytorch-Quaternion-Neural-Networks/core_qnn\")\n",
    "from quaternion_layers import *\n",
    "import quaternion_ops\n",
    "import functions\n",
    "from layers import *\n",
    "import convert_to_quaternion\n",
    "import random\n",
    "import os"
   ]
  },
  {
   "cell_type": "code",
   "execution_count": 2,
   "metadata": {},
   "outputs": [
    {
     "name": "stdout",
     "output_type": "stream",
     "text": [
      "Files already downloaded and verified\n",
      "Files already downloaded and verified\n"
     ]
    }
   ],
   "source": [
    "transform = transforms.Compose(\n",
    "    [transforms.ToTensor(),\n",
    "     transforms.Normalize((0.5, 0.5, 0.5), (0.5, 0.5, 0.5))])\n",
    "\n",
    "torch.manual_seed(0)\n",
    "trainset = torchvision.datasets.CIFAR10(root='./data', train=True,\n",
    "                                        download=True, transform=transform)\n",
    "torch.manual_seed(0)\n",
    "trainloader = torch.utils.data.DataLoader(trainset, batch_size=4,\n",
    "                                          shuffle=True, num_workers=0)\n",
    "\n",
    "testset = torchvision.datasets.CIFAR10(root='./data', train=False,\n",
    "                                       download=True, transform=transform)\n",
    "testloader = torch.utils.data.DataLoader(testset, batch_size=4,\n",
    "                                         shuffle=False, num_workers=0)\n",
    "grayscale = transforms.Grayscale(num_output_channels=1)\n",
    "classes = ('plane', 'car', 'bird', 'cat',\n",
    "           'deer', 'dog', 'frog', 'horse', 'ship', 'truck')\n",
    "\n",
    "def set_seed(seed):\n",
    "    torch.manual_seed(seed)\n",
    "    torch.cuda.manual_seed_all(seed)\n",
    "    torch.backends.cudnn.deterministic = True\n",
    "    torch.backends.cudnn.benchmark = False\n",
    "    np.random.seed(seed)\n",
    "    random.seed(seed)\n",
    "    os.environ['PYTHONHASHSEED'] = str(seed)\n"
   ]
  },
  {
   "cell_type": "code",
   "execution_count": 3,
   "metadata": {},
   "outputs": [],
   "source": [
    "inputs, labels = next(iter(trainloader))\n",
    "gray_image = grayscale(inputs)\n",
    "inputs = torch.cat([inputs, gray_image],1)\n",
    "targets = torch.ones(4).long()\n",
    "criterion = nn.CrossEntropyLoss()"
   ]
  },
  {
   "cell_type": "code",
   "execution_count": 4,
   "metadata": {},
   "outputs": [],
   "source": [
    "size = 32*32*4\n",
    "real_lin = nn.Linear(size, 8, bias = False)\n",
    "quat_lin = QLinear(size, 8, bias = False)\n",
    "parc_lin = QuaternionLinear(size, 8, bias = False)\n",
    "\n",
    "r, i, j, k = torch.full((2, size//4), 0.5), torch.full((2, size//4), 0.25),\\\n",
    "             torch.full((2, size//4), 1.5), torch.full((2, size//4), 2.5)\n",
    "\n",
    "weight = torch.cat([torch.cat([r, -i, -j,  -k], dim=1),\n",
    "                    torch.cat([i,  r, -k,   j], dim=1),\n",
    "                    torch.cat([j,  k,  r,  -i], dim=1),\n",
    "                    torch.cat([k, -j,  i,   r], dim=1)], dim = 0)\n",
    "\n",
    "real_lin.weight = nn.Parameter(weight)\n",
    "quat_lin.weight = nn.Parameter(weight)\n",
    "                   \n",
    "parc_lin.r_weight.data = nn.Parameter(r.t())\n",
    "parc_lin.i_weight.data = nn.Parameter(i.t())\n",
    "parc_lin.j_weight.data = nn.Parameter(j.t())\n",
    "parc_lin.k_weight.data = nn.Parameter(k.t())"
   ]
  },
  {
   "cell_type": "code",
   "execution_count": 5,
   "metadata": {},
   "outputs": [],
   "source": [
    "x = inputs.view(4, 32*32*4)\n",
    "\n",
    "set_seed(0)\n",
    "out_real = real_lin(x)\n",
    "\n",
    "optimizer_real = optim.SGD(real_lin.parameters(), lr=0.1, momentum=0)\n",
    "loss_real = criterion(out_real, targets)\n",
    "loss_real.backward()\n",
    "optimizer_real.step()\n",
    "\n",
    "set_seed(0)\n",
    "out_quat = quat_lin(x)\n",
    "\n",
    "optimizer_real.zero_grad() \n",
    "optimizer_quat = optim.SGD(quat_lin.parameters(), lr=0.1, momentum=0)\n",
    "loss_quat = criterion(out_quat, targets)\n",
    "loss_quat.backward()\n",
    "optimizer_quat.step()\n",
    "\n",
    "set_seed(0)\n",
    "out_parc = parc_lin(x)\n",
    "\n",
    "optimizer_quat.zero_grad() \n",
    "optimizer_parc = optim.SGD(parc_lin.parameters(), lr=0.1, momentum=0)\n",
    "loss_parc = criterion(out_parc, targets)\n",
    "loss_parc.backward()\n",
    "optimizer_parc.step()"
   ]
  },
  {
   "cell_type": "code",
   "execution_count": 6,
   "metadata": {},
   "outputs": [
    {
     "name": "stdout",
     "output_type": "stream",
     "text": [
      "True\n",
      "False\n"
     ]
    }
   ],
   "source": [
    "print(\n",
    "      (out_parc == out_real).all().item(),                 # parcollet vs real\n",
    "      (out_real == out_quat).all().item(),                 # real vs ours\n",
    "      sep = \"\\n\"\n",
    ")"
   ]
  },
  {
   "cell_type": "code",
   "execution_count": 7,
   "metadata": {},
   "outputs": [
    {
     "name": "stdout",
     "output_type": "stream",
     "text": [
      "True\n",
      "False\n"
     ]
    }
   ],
   "source": [
    "parc_weight_grad = torch.cat([torch.cat([parc_lin.r_weight.t(), -parc_lin.i_weight.t(), -parc_lin.j_weight.t(),  -parc_lin.k_weight.t()], dim=1),\n",
    "                         torch.cat([parc_lin.i_weight.t(),  parc_lin.r_weight.t(), -parc_lin.k_weight.t(),   parc_lin.j_weight.t()], dim=1),\n",
    "                         torch.cat([parc_lin.j_weight.t(),  parc_lin.k_weight.t(),  parc_lin.r_weight.t(),  -parc_lin.i_weight.t()], dim=1),\n",
    "                         torch.cat([parc_lin.k_weight.t(), -parc_lin.j_weight.t(),  parc_lin.i_weight.t(),   parc_lin.r_weight.t()], dim=1)], dim = 0)\n",
    "\n",
    "print(\n",
    "      (real_lin.weight.grad == quat_lin.weight.grad).all().item(),\n",
    "      (real_lin.weight.grad == parc_weight_grad).all().item(),\n",
    "      sep = \"\\n\"\n",
    "     )"
   ]
  }
 ],
 "metadata": {
  "kernelspec": {
   "display_name": "Python 3",
   "language": "python",
   "name": "python3"
  },
  "language_info": {
   "codemirror_mode": {
    "name": "ipython",
    "version": 3
   },
   "file_extension": ".py",
   "mimetype": "text/x-python",
   "name": "python",
   "nbconvert_exporter": "python",
   "pygments_lexer": "ipython3",
   "version": "3.8.5"
  }
 },
 "nbformat": 4,
 "nbformat_minor": 4
}
