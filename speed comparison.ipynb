{
 "cells": [
  {
   "cell_type": "code",
   "execution_count": 1,
   "id": "announced-regular",
   "metadata": {},
   "outputs": [],
   "source": [
    "import torch\n",
    "import torchvision\n",
    "import torchvision.transforms as transforms\n",
    "import torch.nn as nn\n",
    "import torch.nn.functional as F\n",
    "import torch.optim as optim\n",
    "import sys\n",
    "import time\n",
    "sys.path.append(\"../Pytorch-Quaternion-Neural-Networks/core_qnn\")\n",
    "from quaternion_layers import *\n",
    "import quaternion_ops\n",
    "import functions\n",
    "from layers import *\n",
    "import convert_to_quaternion\n",
    "from matplotlib import pyplot as plt\n",
    "import quaternion\n",
    "from pyquaternion import Quaternion\n",
    "import importlib\n",
    "from quaternion import QuaternionTensor"
   ]
  },
  {
   "cell_type": "code",
   "execution_count": null,
   "id": "interested-shade",
   "metadata": {},
   "outputs": [],
   "source": []
  },
  {
   "cell_type": "code",
   "execution_count": 2,
   "id": "faced-upper",
   "metadata": {},
   "outputs": [],
   "source": [
    "# our quaternion NN\n",
    "class OurNet(nn.Module):\n",
    "    def __init__(self):\n",
    "        super(OurNet, self).__init__()\n",
    "        self.conv1 = QConv2d(4, 8, 5, 1)\n",
    "        self.pool = nn.MaxPool2d(2, 2)\n",
    "        self.conv2 = QConv2d(8, 16, 5, 1)\n",
    "        self.fc1 = QLinear(16*5*5, 120)\n",
    "        self.fc2 = QLinear(120, 84)\n",
    "        self.fc3 = nn.Linear(84, 10)\n",
    "\n",
    "    def forward(self, x):\n",
    "        x = self.pool(F.relu(self.conv1(x)))\n",
    "        x = self.pool(F.relu(self.conv2(x)))\n",
    "        x = x.view(-1, 16*5*5)\n",
    "        x = F.relu(self.fc1(x))\n",
    "        x = F.relu(self.fc2(x))\n",
    "        x = self.fc3(x)\n",
    "        return x    \n",
    "    \n",
    "# standard real-valued CNN\n",
    "class RealNet(nn.Module):\n",
    "    def __init__(self):\n",
    "        super(RealNet, self).__init__()\n",
    "        self.conv1 = nn.Conv2d(4, 8, 5, 1)\n",
    "        self.pool = nn.MaxPool2d(2, 2)\n",
    "        self.conv2 = nn.Conv2d(8, 16, 5, 1)\n",
    "        self.fc1 = nn.Linear(16*5*5, 120)\n",
    "        self.fc2 = nn.Linear(120, 84)\n",
    "        self.fc3 = nn.Linear(84, 10)\n",
    "\n",
    "    def forward(self, x):\n",
    "        x = self.pool(F.relu(self.conv1(x)))\n",
    "        x = self.pool(F.relu(self.conv2(x)))\n",
    "        x = x.view(-1, 16*5*5)\n",
    "        x = F.relu(self.fc1(x))\n",
    "        x = F.relu(self.fc2(x))\n",
    "        x = self.fc3(x)\n",
    "        return x\n",
    "\n",
    "# Parcollet's CNN\n",
    "class ParcolletNet(nn.Module):\n",
    "    def __init__(self):\n",
    "        super(ParcolletNet, self).__init__()\n",
    "        self.conv1 = QuaternionConv(4, 8, 5, 1)\n",
    "        self.pool = nn.MaxPool2d(2, 2)\n",
    "        self.conv2 = QuaternionConv(8, 16, 5, 1)\n",
    "        self.fc1 = QuaternionLinear(16*5*5, 120)\n",
    "        self.fc2 = QuaternionLinear(120, 84)\n",
    "        self.fc3 = nn.Linear(84, 10)\n",
    "\n",
    "    def forward(self, x):\n",
    "        x = self.pool(F.relu(self.conv1(x)))\n",
    "        x = self.pool(F.relu(self.conv2(x)))\n",
    "        x = x.view(-1, 16*5*5)\n",
    "        x = F.relu(self.fc1(x))\n",
    "        x = F.relu(self.fc2(x))\n",
    "        x = self.fc3(x)\n",
    "        return x\n",
    "\n",
    "def train(model):\n",
    "    \n",
    "    criterion = nn.CrossEntropyLoss()\n",
    "    optimizer = optim.SGD(model.parameters(), lr=0.001, momentum=0.9)\n",
    "\n",
    "    for epoch in range(2):  # loop over the dataset multiple times\n",
    "\n",
    "        running_loss = 0.0\n",
    "        start = time.time()\n",
    "        for i, data in enumerate(trainloader, 0):\n",
    "            # get the inputs; data is a list of [inputs, labels]\n",
    "            inputs, labels = data\n",
    "            gray_image = grayscale(inputs)\n",
    "            # inputs' channels must be divisible by 4 in a QNN,\n",
    "            # here used to compare results\n",
    "            inputs = torch.cat([inputs, gray_image],1)\n",
    "            # zero the parameter gradients\n",
    "            optimizer.zero_grad()\n",
    "\n",
    "            # forward + backward + optimize\n",
    "            outputs = model(inputs.to(device))\n",
    "            loss = criterion(outputs, labels.to(device))\n",
    "            loss.backward()\n",
    "            optimizer_real.step()\n",
    "\n",
    "            # print statistics\n",
    "            running_loss += loss_real.item()\n",
    "            if i % 2000 == 1999:    # print every 2000 mini-batches\n",
    "                print('[%d, %5d] loss: %.3f' %\n",
    "                      (epoch + 1, i + 1, running_loss / 2000))\n",
    "                running_loss = 0.0\n",
    "\n",
    "                print(time.time() - start)\n",
    "\n",
    "    print('Finished Training')"
   ]
  },
  {
   "cell_type": "code",
   "execution_count": 3,
   "id": "central-latter",
   "metadata": {},
   "outputs": [],
   "source": [
    "# run on gpu if it is available\n",
    "device = torch.device(\"cuda:0\" if torch.cuda.is_available() else \"cpu\")\n",
    "ournet = OurNet().to(device)\n",
    "parcnet = ParcolletNet().to(device)\n",
    "realnet = RealNet().to(device)"
   ]
  },
  {
   "cell_type": "code",
   "execution_count": 4,
   "id": "exciting-compilation",
   "metadata": {},
   "outputs": [
    {
     "name": "stdout",
     "output_type": "stream",
     "text": [
      "Files already downloaded and verified\n"
     ]
    }
   ],
   "source": [
    "transform = transforms.Compose(\n",
    "    [transforms.ToTensor(),\n",
    "     transforms.Normalize((0.5, 0.5, 0.5), (0.5, 0.5, 0.5))])\n",
    "\n",
    "trainset = torchvision.datasets.CIFAR10(root='./data', train=True,\n",
    "                                        download=True, transform=transform)\n",
    "torch.manual_seed(0)\n",
    "trainloader = torch.utils.data.DataLoader(trainset, batch_size=4,\n",
    "                                          shuffle=True, num_workers=0)\n",
    "\n",
    "grayscale = transforms.Grayscale(num_output_channels=1)\n",
    "classes = ('plane', 'car', 'bird', 'cat',\n",
    "           'deer', 'dog', 'frog', 'horse', 'ship', 'truck')"
   ]
  },
  {
   "cell_type": "code",
   "execution_count": 5,
   "id": "fuzzy-registration",
   "metadata": {},
   "outputs": [],
   "source": [
    "def train(model, train_loader):\n",
    "    criterion = nn.CrossEntropyLoss()\n",
    "    optimizer = optim.SGD(model.parameters(), lr=0.001, momentum=0.9)\n",
    "\n",
    "    for epoch in range(1):  # loop over the dataset multiple times\n",
    "\n",
    "        running_loss = 0.0\n",
    "        start = time.time()\n",
    "        for i, data in enumerate(trainloader, 0):\n",
    "            # get the inputs; data is a list of [inputs, labels]\n",
    "            inputs, labels = data\n",
    "            gray_image = grayscale(inputs)\n",
    "            # inputs' channels must be divisible by 4 in a QNN,\n",
    "            # here used to compare results\n",
    "            inputs = torch.cat([inputs, gray_image],1)\n",
    "            # zero the parameter gradients\n",
    "            optimizer.zero_grad()\n",
    "\n",
    "            # forward + backward + optimize\n",
    "            outputs = model(inputs.to(device))\n",
    "            loss = criterion(outputs, labels.to(device))\n",
    "            loss.backward()\n",
    "            optimizer.step()\n",
    "\n",
    "            # print statistics\n",
    "            running_loss += loss.item()\n",
    "            if i % 2000 == 1999:    # print every 2000 mini-batches\n",
    "                print('[%d, %5d] loss: %.3f' %\n",
    "                      (epoch + 1, i + 1, running_loss / 2000))\n",
    "                running_loss = 0.0\n",
    "\n",
    "                print(\"time elapsed: \", time.time() - start)\n",
    "\n",
    "    print('Finished Training')"
   ]
  },
  {
   "cell_type": "code",
   "execution_count": 6,
   "id": "textile-nightlife",
   "metadata": {},
   "outputs": [
    {
     "name": "stdout",
     "output_type": "stream",
     "text": [
      "[1,  2000] loss: 1.859\n",
      "10.984824180603027\n",
      "[1,  4000] loss: 1.617\n",
      "19.29924464225769\n",
      "[1,  6000] loss: 1.561\n",
      "26.52557873725891\n",
      "[1,  8000] loss: 1.489\n",
      "33.78879952430725\n",
      "[1, 10000] loss: 1.455\n",
      "41.12323236465454\n",
      "[1, 12000] loss: 1.417\n",
      "48.558274269104004\n",
      "Finished Training\n"
     ]
    }
   ],
   "source": [
    "train(ournet, trainloader)"
   ]
  },
  {
   "cell_type": "code",
   "execution_count": 8,
   "id": "focal-restriction",
   "metadata": {},
   "outputs": [
    {
     "name": "stdout",
     "output_type": "stream",
     "text": [
      "[1,  2000] loss: 2.037\n",
      "14.708124160766602\n",
      "[1,  4000] loss: 1.753\n",
      "29.296077728271484\n",
      "[1,  6000] loss: 1.668\n",
      "44.05951285362244\n",
      "[1,  8000] loss: 1.598\n",
      "59.713056564331055\n",
      "[1, 10000] loss: 1.558\n",
      "75.36658787727356\n",
      "[1, 12000] loss: 1.556\n",
      "90.81234431266785\n",
      "Finished Training\n"
     ]
    }
   ],
   "source": [
    "train(parcnet, trainloader)"
   ]
  },
  {
   "cell_type": "code",
   "execution_count": 9,
   "id": "general-receiver",
   "metadata": {},
   "outputs": [
    {
     "name": "stdout",
     "output_type": "stream",
     "text": [
      "[1,  2000] loss: 2.200\n",
      "7.491003751754761\n",
      "[1,  4000] loss: 1.823\n",
      "16.107070446014404\n",
      "[1,  6000] loss: 1.682\n",
      "24.97854518890381\n",
      "[1,  8000] loss: 1.583\n",
      "32.88394331932068\n",
      "[1, 10000] loss: 1.513\n",
      "40.71872591972351\n",
      "[1, 12000] loss: 1.460\n",
      "48.78534770011902\n",
      "Finished Training\n"
     ]
    }
   ],
   "source": [
    "train(realnet, trainloader)"
   ]
  }
 ],
 "metadata": {
  "kernelspec": {
   "display_name": "Python 3",
   "language": "python",
   "name": "python3"
  },
  "language_info": {
   "codemirror_mode": {
    "name": "ipython",
    "version": 3
   },
   "file_extension": ".py",
   "mimetype": "text/x-python",
   "name": "python",
   "nbconvert_exporter": "python",
   "pygments_lexer": "ipython3",
   "version": "3.8.5"
  }
 },
 "nbformat": 4,
 "nbformat_minor": 5
}
